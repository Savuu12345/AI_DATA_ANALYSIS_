{
 "cells": [
  {
   "cell_type": "code",
   "execution_count": null,
   "metadata": {},
   "outputs": [
    {
     "name": "stdout",
     "output_type": "stream",
     "text": [
      "Model accuracy: 1.0\n"
     ]
    }
   ],
   "source": [
    "\n",
    "import pandas as pd\n",
    "df = pd.DataFrame({\n",
    "    \"name\": [\"John Smith\", \"J. Smith\", \"Alice Johnson\", \"A. Johnson\", \"Bob Stone\"],\n",
    "    \"email\": [\"john.smith@example.com\", \"jsmith@example.com\", \"alicej@example.com\", \"alicej@example.com\", \"bob@example.com\"]\n",
    "})\n",
    "\n",
    "from itertools import combinations\n",
    "pairs = list(combinations(df.index, 2))  \n",
    "from difflib import SequenceMatcher\n",
    "def similarity(a, b):\n",
    "    return SequenceMatcher(None, a, b).ratio()\n",
    "features = []\n",
    "for i, j in pairs:\n",
    "    row_i, row_j = df.loc[i], df.loc[j]\n",
    "    features.append({\n",
    "        \"name_sim\": similarity(row_i[\"name\"], row_j[\"name\"]),\n",
    "        \"email_sim\": similarity(row_i[\"email\"], row_j[\"email\"]),\n",
    "        \"is_duplicate\": int(i in [0, 1] and j in [0, 1] or  \n",
    "                            i in [2, 3] and j in [2, 3])\n",
    "    })\n",
    "df_features = pd.DataFrame(features)\n",
    "from sklearn.ensemble import RandomForestClassifier\n",
    "from sklearn.model_selection import train_test_split\n",
    "\n",
    "X = df_features[[\"name_sim\", \"email_sim\"]]\n",
    "y = df_features[\"is_duplicate\"]\n",
    "X_train, X_test, y_train, y_test = train_test_split(X, y, stratify=y, random_state=42)\n",
    "\n",
    "clf = RandomForestClassifier()\n",
    "clf.fit(X_train, y_train)\n",
    "\n",
    "print(\"Model accuracy:\", clf.score(X_test, y_test))"
   ]
  }
 ],
 "metadata": {
  "kernelspec": {
   "display_name": "Python 3",
   "language": "python",
   "name": "python3"
  },
  "language_info": {
   "codemirror_mode": {
    "name": "ipython",
    "version": 3
   },
   "file_extension": ".py",
   "mimetype": "text/x-python",
   "name": "python",
   "nbconvert_exporter": "python",
   "pygments_lexer": "ipython3",
   "version": "3.10.12"
  }
 },
 "nbformat": 4,
 "nbformat_minor": 2
}
