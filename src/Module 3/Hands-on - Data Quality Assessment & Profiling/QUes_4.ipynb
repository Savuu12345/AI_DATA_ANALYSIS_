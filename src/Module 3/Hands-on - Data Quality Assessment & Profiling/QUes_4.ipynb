{
 "cells": [
  {
   "cell_type": "code",
   "execution_count": null,
   "metadata": {},
   "outputs": [
    {
     "name": "stdout",
     "output_type": "stream",
     "text": [
      "Original DataFrame:\n",
      "     A     B   C\n",
      "0  1.0   NaN  11\n",
      "1  2.0   7.0  12\n",
      "2  NaN   8.0  13\n",
      "3  4.0   NaN  14\n",
      "4  5.0  10.0  15\n",
      "\n",
      "DataFrame after forward-fill:\n",
      "     A     B   C\n",
      "0  1.0   NaN  11\n",
      "1  2.0   7.0  12\n",
      "2  2.0   8.0  13\n",
      "3  4.0   8.0  14\n",
      "4  5.0  10.0  15\n"
     ]
    },
    {
     "name": "stderr",
     "output_type": "stream",
     "text": [
      "/tmp/ipykernel_8327/591323410.py:27: FutureWarning: DataFrame.fillna with 'method' is deprecated and will raise in a future version. Use obj.ffill() or obj.bfill() instead.\n",
      "  df_ffill = df.fillna(method='ffill')\n"
     ]
    }
   ],
   "source": [
    "# Part 1: Load a Dataset & Check Missing Values\n",
    "\n",
    "# Task 1: Customer Dataset\n",
    "# - Load a custom CSV file named customer_data.csv .\n",
    "# - Find any missing values in specific columns like 'Email' and 'Phone'.\n",
    "# Part 2: Identify Duplicates & Inconsistencies\n",
    "# Task 2: Duplicate Emails in Customer Dataset\n",
    "# - Identify duplicate emails which might indicate duplicate customer records.\n",
    "# Part 3: Generate a Data Quality Report\n",
    "# Task 3: Customer Dataset Report\n",
    "# - Summarize the data quality with missing values, duplicates, and inconsistencies for customer_data.csv .\n",
    "import pandas as pd\n",
    "import numpy as np\n",
    "data = {'A': [1, 2, np.nan, 4, 5],\n",
    "        'B': [np.nan, 7, 8, np.nan, 10],\n",
    "        'C': [11, 12, 13, 14, 15]}\n",
    "df = pd.DataFrame(data)\n",
    "print(\"Original DataFrame:\")\n",
    "print(df)\n",
    "df_ffill = df.fillna(method='ffill')\n",
    "print(\"\\nDataFrame after forward-fill:\")\n",
    "print(df_ffill)\n",
    "\n",
    "\n"
   ]
  }
 ],
 "metadata": {
  "kernelspec": {
   "display_name": "Python 3",
   "language": "python",
   "name": "python3"
  },
  "language_info": {
   "codemirror_mode": {
    "name": "ipython",
    "version": 3
   },
   "file_extension": ".py",
   "mimetype": "text/x-python",
   "name": "python",
   "nbconvert_exporter": "python",
   "pygments_lexer": "ipython3",
   "version": "3.10.12"
  }
 },
 "nbformat": 4,
 "nbformat_minor": 2
}
