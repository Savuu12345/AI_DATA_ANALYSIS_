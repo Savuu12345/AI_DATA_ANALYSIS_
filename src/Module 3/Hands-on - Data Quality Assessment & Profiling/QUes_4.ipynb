{
 "cells": [
  {
   "cell_type": "code",
   "execution_count": null,
   "metadata": {},
   "outputs": [],
   "source": [
    "# Part 1: Load a Dataset & Check Missing Values\n",
    "# Task 1: Customer Dataset\n",
    "# - Load a custom CSV file named customer_data.csv .\n",
    "# - Find any missing values in specific columns like 'Email' and 'Phone'.\n",
    "# Part 2: Identify Duplicates & Inconsistencies\n",
    "# Task 2: Duplicate Emails in Customer Dataset\n",
    "# - Identify duplicate emails which might indicate duplicate customer records.\n",
    "# Part 3: Generate a Data Quality Report\n",
    "# Task 3: Customer Dataset Report\n",
    "# - Summarize the data quality with missing values, duplicates, and inconsistencies for customer_data.csv .\n",
    "import pandas as pd\n",
    "import numpy as np\n",
    "data = {'A': [1, 2, np.nan, 4, 5],\n",
    "        'B': [np.nan, 7, 8, np.nan, 10],\n",
    "        'C': [11, 12, 13, 14, 15]}\n",
    "df = pd.DataFrame(data)\n",
    "print(\"Original DataFrame:\")\n",
    "print(df)\n",
    "df_ffill = df.fillna(method='ffill')\n",
    "print(\"\\nDataFrame after forward-fill:\")\n",
    "print(df_ffill)\n",
    "\n",
    "\n"
   ]
  }
 ],
 "metadata": {
  "kernelspec": {
   "display_name": "Python 3",
   "language": "python",
   "name": "python3"
  },
  "language_info": {
   "codemirror_mode": {
    "name": "ipython",
    "version": 3
   },
   "file_extension": ".py",
   "mimetype": "text/x-python",
   "name": "python",
   "nbconvert_exporter": "python",
   "pygments_lexer": "ipython3",
   "version": "3.10.12"
  }
 },
 "nbformat": 4,
 "nbformat_minor": 2
}
