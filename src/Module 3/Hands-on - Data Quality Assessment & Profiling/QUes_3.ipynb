{
 "cells": [
  {
   "cell_type": "code",
   "execution_count": null,
   "metadata": {},
   "outputs": [],
   "source": [
    "# Part 1: Load a Dataset & Check Missing Values\n",
    "# Task 1: Iris Dataset\n",
    "# - Load the dataset using Pandas.\n",
    "# - Check for missing values in the entire dataset.\n",
    "import pandas as pd\n",
    "from sklearn.datasets import load_iris\n",
    "iris = load_iris()\n",
    "df = pd.DataFrame(data=iris.data, columns=iris.feature_names)\n",
    "df['target'] = iris.target\n",
    "missing_values = df.isnull().sum()\n",
    "print(\"Missing values in each column:\")\n",
    "print(missing_values)\n",
    "# Part 2: Identify Duplicates & Inconsistencies\n",
    "\n",
    "# Task 2: Inconsistent Entries in a Sample Dataset\n",
    "# - Assume you have a dataset with a 'Gender' column. Identify inconsistent entries like 'M', 'Male', or 'male'.\n",
    "import pandas as pd\n",
    "data = {'Gender': ['Male', 'male', 'F', 'Female', 'female', 'M', 'MALE', 'f', 'FEMALE', 'm']}\n",
    "df = pd.DataFrame(data)\n",
    "print(\"Unique entries in 'Gender' column:\")\n",
    "print(df['Gender'].value_counts())\n",
    "df['Gender_lower'] = df['Gender'].str.lower()\n",
    "print(\"\\nNormalized Gender Values and Counts:\")\n",
    "print(df['Gender_lower'].value_counts())\n",
    "gender_map = {\n",
    "    'male': 'Male',\n",
    "    'm': 'Male',\n",
    "    'female': 'Female',\n",
    "    'f': 'Female'\n",
    "}\n",
    "df['Gender_cleaned'] = df['Gender_lower'].map(gender_map)\n",
    "print(\"\\nCleaned Gender Column:\")\n",
    "print(df[['Gender', 'Gender_cleaned']])\n",
    "# Part 3: Generate a Data Quality Report\n",
    "# Task 3: Iris Dataset Summary\n",
    "# - Generate basic descriptive statistics for the Iris dataset.\n",
    "import pandas as pd\n",
    "from sklearn.datasets import load_iris\n",
    "iris = load_iris()\n",
    "df = pd.DataFrame(data=iris.data, columns=iris.feature_names)\n",
    "df['target'] = iris.target\n",
    "print(\"Descriptive Statistics:\")\n",
    "print(df.describe())\n",
    "print(\"\\nData Types:\")\n",
    "print(df.dtypes)\n",
    "print(\"\\nMissing Values:\")\n",
    "print(df.isnull().sum())\n",
    "print(\"\\nUnique Values per Column:\")\n",
    "print(df.nunique())"
   ]
  }
 ],
 "metadata": {
  "kernelspec": {
   "display_name": "Python 3",
   "language": "python",
   "name": "python3"
  },
  "language_info": {
   "codemirror_mode": {
    "name": "ipython",
    "version": 3
   },
   "file_extension": ".py",
   "mimetype": "text/x-python",
   "name": "python",
   "nbconvert_exporter": "python",
   "pygments_lexer": "ipython3",
   "version": "3.10.12"
  }
 },
 "nbformat": 4,
 "nbformat_minor": 2
}
