{
 "cells": [
  {
   "cell_type": "code",
   "execution_count": 1,
   "metadata": {},
   "outputs": [
    {
     "name": "stdout",
     "output_type": "stream",
     "text": [
      "Mean Sales: 231.0\n",
      "Median Sales: 225.0\n",
      "Mode Sales: 200\n",
      "Average Age: 29.2\n",
      "Median Age: 29.5\n",
      "Mode Age: 25\n",
      "Mean Visits: 503.5\n",
      "Median Visits: 500.0\n",
      "Mode Visits: 500\n"
     ]
    }
   ],
   "source": [
    "\n",
    "import pandas as pd\n",
    "data = {'Sales': [200, 220, 250, 200, 270, 220, 230, 210, 250, 260]}\n",
    "df = pd.DataFrame(data)\n",
    "mean_sales = df['Sales'].mean()\n",
    "median_sales = df['Sales'].median()\n",
    "mode_sales = df['Sales'].mode()[0]\n",
    "print(f\"Mean Sales: {mean_sales}\")\n",
    "print(f\"Median Sales: {median_sales}\")\n",
    "print(f\"Mode Sales: {mode_sales}\")\n",
    "data = {'Age': [25, 30, 22, 25, 35, 40, 30, 29, 25, 31]}\n",
    "df = pd.DataFrame(data)\n",
    "mean_age = df['Age'].mean()\n",
    "median_age = df['Age'].median()\n",
    "mode_age = df['Age'].mode()[0]\n",
    "print(f\"Average Age: {mean_age}\")\n",
    "print(f\"Median Age: {median_age}\")\n",
    "print(f\"Mode Age: {mode_age}\")\n",
    "data = {'Visits': [500, 520, 480, 500, 490, 530, 500, 515, 495, 505]}\n",
    "df = pd.DataFrame(data)\n",
    "mean_visits = df['Visits'].mean()\n",
    "median_visits = df['Visits'].median()\n",
    "mode_visits = df['Visits'].mode()[0]\n",
    "print(f\"Mean Visits: {mean_visits}\")\n",
    "print(f\"Median Visits: {median_visits}\")\n",
    "print(f\"Mode Visits: {mode_visits}\")\n"
   ]
  }
 ],
 "metadata": {
  "kernelspec": {
   "display_name": "Python 3",
   "language": "python",
   "name": "python3"
  },
  "language_info": {
   "codemirror_mode": {
    "name": "ipython",
    "version": 3
   },
   "file_extension": ".py",
   "mimetype": "text/x-python",
   "name": "python",
   "nbconvert_exporter": "python",
   "pygments_lexer": "ipython3",
   "version": "3.10.12"
  }
 },
 "nbformat": 4,
 "nbformat_minor": 2
}
