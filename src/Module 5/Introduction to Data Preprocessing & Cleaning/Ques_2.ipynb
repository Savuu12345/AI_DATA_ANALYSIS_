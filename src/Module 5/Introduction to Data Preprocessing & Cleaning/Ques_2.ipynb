{
 "cells": [
  {
   "cell_type": "code",
   "execution_count": 5,
   "metadata": {},
   "outputs": [
    {
     "name": "stdout",
     "output_type": "stream",
     "text": [
      "Missing values per column:\n",
      "age       13\n",
      "sex       19\n",
      "bmi       29\n",
      "bp        16\n",
      "s1        26\n",
      "s2        24\n",
      "s3        21\n",
      "s4        29\n",
      "s5        26\n",
      "s6        24\n",
      "target    17\n",
      "dtype: int64\n",
      "\n",
      "Model Performance:\n",
      "Mean Squared Error (after dropping missing rows): 3190.41\n",
      "Mean Squared Error (after mean imputation): 3345.59\n"
     ]
    }
   ],
   "source": [
    "#1.\n",
    "import pandas as pd\n",
    "import numpy as np\n",
    "from sklearn.datasets import load_diabetes\n",
    "from sklearn.linear_model import LinearRegression\n",
    "from sklearn.metrics import mean_squared_error\n",
    "from sklearn.model_selection import train_test_split\n",
    "from sklearn.impute import SimpleImputer\n",
    "data = load_diabetes()\n",
    "df = pd.DataFrame(data.data, columns=data.feature_names)\n",
    "df['target'] = data.target\n",
    "np.random.seed(42)\n",
    "df_missing = df.mask(np.random.rand(*df.shape) < 0.05)\n",
    "print(\"Missing values per column:\")\n",
    "print(df_missing.isnull().sum())\n",
    "df_dropped = df_missing.dropna()\n",
    "imputer = SimpleImputer(strategy='mean')\n",
    "df_imputed = df_missing.copy()\n",
    "df_imputed.iloc[:, :] = imputer.fit_transform(df_imputed)\n",
    "def evaluate_model(df_cleaned):\n",
    "    X = df_cleaned.drop(columns='target')\n",
    "    y = df_cleaned['target']\n",
    "    X_train, X_test, y_train, y_test = train_test_split(X, y, test_size=0.2, random_state=0)\n",
    "    model = LinearRegression()\n",
    "    model.fit(X_train, y_train)\n",
    "    y_pred = model.predict(X_test)\n",
    "    return mean_squared_error(y_test, y_pred)\n",
    "mse_dropped = evaluate_model(df_dropped)\n",
    "mse_imputed = evaluate_model(df_imputed)\n",
    "print(\"\\nModel Performance:\")\n",
    "print(f\"Mean Squared Error (after dropping missing rows): {mse_dropped:.2f}\")\n",
    "print(f\"Mean Squared Error (after mean imputation): {mse_imputed:.2f}\")\n"
   ]
  },
  {
   "cell_type": "code",
   "execution_count": 6,
   "metadata": {},
   "outputs": [
    {
     "name": "stdout",
     "output_type": "stream",
     "text": [
      "Original Dataset:\n",
      "    Name  Age     City\n",
      "0  Alice   25       NY\n",
      "1    Bob   30       LA\n",
      "2  Alice   25       NY\n",
      "3  David   45  Chicago\n",
      "4    Eve   22    Miami\n",
      "5    Bob   30       LA\n",
      "\n",
      "Before removing duplicates:\n",
      "Shape: (6, 3)\n",
      "\n",
      "Duplicate rows:\n",
      "    Name  Age City\n",
      "2  Alice   25   NY\n",
      "5    Bob   30   LA\n",
      "\n",
      "After removing duplicates:\n",
      "    Name  Age     City\n",
      "0  Alice   25       NY\n",
      "1    Bob   30       LA\n",
      "3  David   45  Chicago\n",
      "4    Eve   22    Miami\n",
      "Shape: (4, 3)\n"
     ]
    }
   ],
   "source": [
    "#2.\n",
    "import pandas as pd\n",
    "data = {\n",
    "    'Name': ['Alice', 'Bob', 'Alice', 'David', 'Eve', 'Bob'],\n",
    "    'Age': [25, 30, 25, 45, 22, 30],\n",
    "    'City': ['NY', 'LA', 'NY', 'Chicago', 'Miami', 'LA']\n",
    "}\n",
    "df = pd.DataFrame(data)\n",
    "print(\"Original Dataset:\")\n",
    "print(df)\n",
    "print(\"\\nBefore removing duplicates:\")\n",
    "print(f\"Shape: {df.shape}\")\n",
    "duplicates = df.duplicated()\n",
    "print(\"\\nDuplicate rows:\")\n",
    "print(df[duplicates])\n",
    "df_cleaned = df.drop_duplicates()\n",
    "print(\"\\nAfter removing duplicates:\")\n",
    "print(df_cleaned)\n",
    "print(f\"Shape: {df_cleaned.shape}\") "
   ]
  },
  {
   "cell_type": "code",
   "execution_count": 7,
   "metadata": {},
   "outputs": [
    {
     "name": "stdout",
     "output_type": "stream",
     "text": [
      "Original DataFrame:\n",
      "      Age       JoinDate Salary\n",
      "0      25     2022-01-01  50000\n",
      "1      30     2021/12/30  60000\n",
      "2      45  not available  70000\n",
      "3  twenty     2020-06-15    NaN\n",
      "4      35     2019-03-10  80000\n",
      "\n",
      "Corrected DataFrame with proper data types:\n",
      "    Age   JoinDate   Salary\n",
      "0  25.0 2022-01-01  50000.0\n",
      "1  30.0        NaT  60000.0\n",
      "2  45.0        NaT  70000.0\n",
      "3   NaN 2020-06-15      NaN\n",
      "4  35.0 2019-03-10  80000.0\n",
      "\n",
      "Data types after correction:\n",
      "Age                float64\n",
      "JoinDate    datetime64[ns]\n",
      "Salary             float64\n",
      "dtype: object\n"
     ]
    }
   ],
   "source": [
    "#3.\n",
    "import pandas as pd\n",
    "data = {\n",
    "    'Age': ['25', '30', '45', 'twenty', '35'],\n",
    "    'JoinDate': ['2022-01-01', '2021/12/30', 'not available', '2020-06-15', '2019-03-10'],\n",
    "    'Salary': ['50000', '60000', '70000', 'NaN', '80000']\n",
    "}\n",
    "df = pd.DataFrame(data)\n",
    "print(\"Original DataFrame:\")\n",
    "print(df)\n",
    "df['Age'] = pd.to_numeric(df['Age'], errors='coerce')\n",
    "df['Salary'] = pd.to_numeric(df['Salary'], errors='coerce')\n",
    "df['JoinDate'] = pd.to_datetime(df['JoinDate'], errors='coerce')\n",
    "print(\"\\nCorrected DataFrame with proper data types:\")\n",
    "print(df)\n",
    "print(\"\\nData types after correction:\")\n",
    "print(df.dtypes)    "
   ]
  },
  {
   "cell_type": "code",
   "execution_count": 8,
   "metadata": {},
   "outputs": [
    {
     "data": {
      "image/png": "[encoded data removed]",
      "text/plain": [
       "<Figure size 600x400 with 1 Axes>"
      ]
     },
     "metadata": {},
     "output_type": "display_data"
    },
    {
     "name": "stdout",
     "output_type": "stream",
     "text": [
      "\n",
      "Original Data:\n",
      "    Salary\n",
      "0    50000\n",
      "1    52000\n",
      "2    51000\n",
      "3    53000\n",
      "4  1000000\n",
      "\n",
      "Data After Outlier Removal:\n",
      "   Salary\n",
      "0   50000\n",
      "1   52000\n",
      "2   51000\n",
      "3   53000\n",
      "\n",
      "Data After Z-score Filtering:\n",
      "    Salary   z_score\n",
      "0    50000 -0.503952\n",
      "1    52000 -0.498680\n",
      "2    51000 -0.501316\n",
      "3    53000 -0.496045\n",
      "4  1000000  1.999993\n"
     ]
    }
   ],
   "source": [
    "# 4.\n",
    "    \n",
    "import pandas as pd\n",
    "import numpy as np\n",
    "import matplotlib.pyplot as plt\n",
    "import seaborn as sns\n",
    "data = {'Salary': [50000, 52000, 51000, 53000, 1000000]}\n",
    "df = pd.DataFrame(data)\n",
    "plt.figure(figsize=(6, 4))\n",
    "sns.boxplot(x=df['Salary'])\n",
    "plt.title('Boxplot to Identify Outliers')\n",
    "plt.show()\n",
    "Q1 = df['Salary'].quantile(0.25)\n",
    "Q3 = df['Salary'].quantile(0.75)\n",
    "IQR = Q3 - Q1\n",
    "lower_bound = Q1 - 1.5 * IQR\n",
    "upper_bound = Q3 + 1.5 * IQR\n",
    "df_cleaned = df[(df['Salary'] >= lower_bound) & (df['Salary'] <= upper_bound)]\n",
    "print(\"\\nOriginal Data:\")\n",
    "print(df)\n",
    "print(\"\\nData After Outlier Removal:\")\n",
    "print(df_cleaned)\n",
    "from scipy.stats import zscore\n",
    "df['z_score'] = zscore(df['Salary'])\n",
    "df_z_filtered = df[df['z_score'].abs() < 3]\n",
    "print(\"\\nData After Z-score Filtering:\")\n",
    "print(df_z_filtered)\n"
   ]
  }
 ],
 "metadata": {
  "kernelspec": {
   "display_name": "Python 3",
   "language": "python",
   "name": "python3"
  },
  "language_info": {
   "codemirror_mode": {
    "name": "ipython",
    "version": 3
   },
   "file_extension": ".py",
   "mimetype": "text/x-python",
   "name": "python",
   "nbconvert_exporter": "python",
   "pygments_lexer": "ipython3",
   "version": "3.10.12"
  }
 },
 "nbformat": 4,
 "nbformat_minor": 2
}
