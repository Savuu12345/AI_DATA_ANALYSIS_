{
 "cells": [
  {
   "cell_type": "markdown",
   "metadata": {},
   "source": [
    "## Defining Data Quality SLAs\n",
    "### Data Completeness\n",
    "**Description**: Set an SLA that ensures that 95% of data fields in your dataset are filled (non-null values). Practice by checking a dataset of your choice and calculate its completeness."
   ]
  },
  {
   "cell_type": "code",
   "execution_count": 9,
   "metadata": {},
   "outputs": [
    {
     "name": "stdout",
     "output_type": "stream",
     "text": [
      "Calculated Data Completeness: 94.29%\n",
      "FAILURE: The dataset DOES NOT meet the Data Completeness SLA of 95.0%.\n",
      "Missing 0.71% to meet the SLA.\n"
     ]
    }
   ],
   "source": [
    "# write your code from here\n",
    "import pandas as pd\n",
    "data={'TransactionID':[101,102,103,104,105,106,107,108,109,110],'CustomerID':[1,2,None,4,5,6,7,8,9,10],'ProductName':['Laptop','Mouse','Keyboard','Monitor','Webcam','Speakers','Headphones','Microphone','Printer',None],'Price':[1200.00,25.00,75.00,300.00,50.00,150.00,80.00,60.00,None,250.00],'Quantity':[1,2,1,1,3,1,2,1,1,1],'OrderDate':['2023-01-01','2023-01-01','2023-01-02','2023-01-02','2023-01-03','2023-01-03','2023-01-04','2023-01-04','2023-01-05','2023-01-05'],'ShippingAddress':['Address A','Address B','Address C','Address D','Address E','Address F','Address G',None,'Address I','Address J']}\n",
    "df=pd.DataFrame(data)\n",
    "SLA_COMPLETENESS_PERCENTAGE=95.0\n",
    "total_cells=df.shape[0]*df.shape[1]\n",
    "non_null_cells=df.count().sum()\n",
    "completeness_percentage=(non_null_cells/total_cells)*100\n",
    "print(f\"Calculated Data Completeness: {completeness_percentage:.2f}%\")\n",
    "if completeness_percentage>=SLA_COMPLETENESS_PERCENTAGE:\n",
    "    print(f\"SUCCESS: The dataset meets the Data Completeness SLA of {SLA_COMPLETENESS_PERCENTAGE}%!\")\n",
    "else:\n",
    "    print(f\"FAILURE: The dataset DOES NOT meet the Data Completeness SLA of {SLA_COMPLETENESS_PERCENTAGE}%.\")\n",
    "    print(f\"Missing {SLA_COMPLETENESS_PERCENTAGE-completeness_percentage:.2f}% to meet the SLA.\")"
   ]
  },
  {
   "cell_type": "markdown",
   "metadata": {},
   "source": [
    "### Data Timeliness:\n",
    "**Description**: Establish an SLA that specifies that data should be integrated and processed within 24 hours of acquisition. Monitor the data pipeline for timeliness."
   ]
  },
  {
   "cell_type": "code",
   "execution_count": 10,
   "metadata": {},
   "outputs": [
    {
     "name": "stdout",
     "output_type": "stream",
     "text": [
      "FAILURE: The Data Timeliness SLA of 24 hours is NOT met.\n",
      "Non-compliant records details:\n",
      "   RecordID                 acquisition_time                  processing_time  \\\n",
      "2         3 2025-05-23 13:20:43.911572+05:30 2025-05-24 13:21:43.911572+05:30   \n",
      "4         5 2025-05-22 13:21:43.911572+05:30 2025-05-24 13:21:43.911572+05:30   \n",
      "7         8 2025-05-23 11:21:43.911572+05:30 2025-05-24 13:21:43.911572+05:30   \n",
      "9        10 2025-05-22 13:21:43.911572+05:30 2025-05-24 13:21:43.911572+05:30   \n",
      "\n",
      "   processing_lag  \n",
      "2 1 days 00:01:00  \n",
      "4 2 days 00:00:00  \n",
      "7 1 days 02:00:00  \n",
      "9 2 days 00:00:00  \n"
     ]
    }
   ],
   "source": [
    "# write your code from here\n",
    "import pandas as pd\n",
    "from datetime import datetime,timedelta\n",
    "import pytz\n",
    "DATA_TIMEZONE=pytz.timezone('Asia/Kolkata')\n",
    "current_processing_time=datetime.now(DATA_TIMEZONE)\n",
    "data={'RecordID':[1,2,3,4,5,6,7,8,9,10],'Value':['A','B','C','D','E','F','G','H','I','J'],'acquisition_time':[current_processing_time-timedelta(hours=12),current_processing_time-timedelta(hours=23),current_processing_time-timedelta(hours=24,minutes=1),current_processing_time-timedelta(hours=5),current_processing_time-timedelta(days=2),current_processing_time-timedelta(hours=18),current_processing_time-timedelta(hours=23,minutes=59),current_processing_time-timedelta(days=1,hours=2),current_processing_time-timedelta(hours=1),current_processing_time-timedelta(hours=48),]}\n",
    "df=pd.DataFrame(data)\n",
    "df['acquisition_time']=pd.to_datetime(df['acquisition_time']) # It's already timezone-aware from the current_processing_time calculations\n",
    "SLA_TIMELINESS_HOURS=24\n",
    "SLA_TIMELINESS_THRESHOLD=timedelta(hours=SLA_TIMELINESS_HOURS)\n",
    "df['processing_time']=current_processing_time\n",
    "df['processing_lag']=df['processing_time']-df['acquisition_time']\n",
    "df['is_compliant']=df['processing_lag']<=SLA_TIMELINESS_THRESHOLD\n",
    "compliant_records_count=df['is_compliant'].sum()\n",
    "total_records=len(df)\n",
    "compliance_percentage=(compliant_records_count/total_records)*100\n",
    "if compliance_percentage>=100:\n",
    "    print(f\"SUCCESS: All records meet the Data Timeliness SLA of {SLA_TIMELINESS_HOURS} hours!\")\n",
    "elif compliance_percentage>95:\n",
    "    print(f\"WARNING: Some records ({100-compliance_percentage:.2f}%) are non-compliant, but overall compliance is high.\")\n",
    "else:\n",
    "    print(f\"FAILURE: The Data Timeliness SLA of {SLA_TIMELINESS_HOURS} hours is NOT met.\")\n",
    "    print(\"Non-compliant records details:\")\n",
    "    print(df[df['is_compliant']==False][['RecordID','acquisition_time','processing_time','processing_lag']])"
   ]
  },
  {
   "cell_type": "markdown",
   "metadata": {},
   "source": [
    "### Data Consistency:\n",
    "**Description**: Define an SLA for maintaining consistency across various related datasets. Implement a check to ensure that 99% of data entries are consistent."
   ]
  },
  {
   "cell_type": "code",
   "execution_count": null,
   "metadata": {},
   "outputs": [
    {
     "name": "stdout",
     "output_type": "stream",
     "text": [
      "1. Simulating Related Datasets:\n",
      "Products Dataset (df_products):\n",
      "    product_id product_name     category\n",
      "0         101       Laptop  Electronics\n",
      "1         102        Mouse  Electronics\n",
      "2         103     Keyboard  Electronics\n",
      "3         104      Monitor  Electronics\n",
      "4         105       Webcam  Peripherals\n",
      "------------------------------\n",
      "Orders Dataset (df_orders):\n",
      "     order_id  product_id  quantity  customer_id\n",
      "0          1         101         1            1\n",
      "1          2         102         2            1\n",
      "2          3         103         1            2\n",
      "3          4         101         1            3\n",
      "4          5         104         3            2\n",
      "5          6         105         1            4\n",
      "6          7         102         2            1\n",
      "7          8         103         1            5\n",
      "8          9         999         1            3\n",
      "9         10         101         1            4\n",
      "10        11         104         1            1\n",
      "11        12         105         1            2\n",
      "12        13         102         2            3\n",
      "13        14         103         1            4\n",
      "14        15         101         1            5\n",
      "15        16         888         1            1\n",
      "16        17         104         1            2\n",
      "17        18         105         1            3\n",
      "18        19         102         2            4\n",
      "19        20         103         1            5\n",
      "\n",
      "Total records in Orders Dataset: 20\n",
      "--------------------------------------------------\n",
      "2. Defined Data Consistency SLA: 99.0% of 'product_id' in orders must exist in products.\n",
      "--------------------------------------------------\n",
      "3. Implementing Consistency Check: Checking if 'product_id' in orders exists in products.\n",
      "Total records in Orders to check: 20\n",
      "Consistent records found: 18\n",
      "Inconsistent records found: 2\n",
      "Calculated Data Consistency: 90.00%\n",
      "--------------------------------------------------\n",
      "4. Checking Compliance with SLA:\n",
      "FAILURE: The dataset DOES NOT meet the Data Consistency SLA of 99.0%.\n",
      "  Calculated consistency: 90.00%\n",
      "  Missing 9.00% to meet the SLA.\n",
      "\n",
      "Details of Inconsistent Records (Orders with invalid product_id):\n",
      "    order_id  product_id  is_consistent\n",
      "8          9         999          False\n",
      "15        16         888          False\n",
      "--------------------------------------------------\n"
     ]
    }
   ],
   "source": [
    "# write your code from here\n",
    "import pandas as pd\n",
    "\n",
    "# --- 1. Simulate Related Datasets ---\n",
    "print(\"1. Simulating Related Datasets:\")\n",
    "\n",
    "# Dataset 1: Products (Master Data)\n",
    "products_data = {\n",
    "    'product_id': [101, 102, 103, 104, 105],\n",
    "    'product_name': ['Laptop', 'Mouse', 'Keyboard', 'Monitor', 'Webcam'],\n",
    "    'category': ['Electronics', 'Electronics', 'Electronics', 'Electronics', 'Peripherals']\n",
    "}\n",
    "df_products = pd.DataFrame(products_data)\n",
    "print(\"Products Dataset (df_products):\\n\", df_products)\n",
    "print(\"-\" * 30)\n",
    "# Dataset 2: Orders (Transactional Data - dependent on Products)\n",
    "# We'll intentionally introduce some inconsistent product_ids\n",
    "orders_data = {\n",
    "    'order_id': [1, 2, 3, 4, 5, 6, 7, 8, 9, 10, 11, 12, 13, 14, 15, 16, 17, 18, 19, 20],\n",
    "    'product_id': [101, 102, 103, 101, 104, # Consistent\n",
    "                   105, 102, 103, 999, 101, # 999 is inconsistent\n",
    "                   104, 105, 102, 103, 101, # Consistent\n",
    "                   888, 104, 105, 102, 103], # 888 is inconsistent\n",
    "    'quantity': [1, 2, 1, 1, 3, 1, 2, 1, 1, 1, 1, 1, 2, 1, 1, 1, 1, 1, 2, 1],\n",
    "    'customer_id': [1, 1, 2, 3, 2, 4, 1, 5, 3, 4, 1, 2, 3, 4, 5, 1, 2, 3, 4, 5]\n",
    "}\n",
    "df_orders = pd.DataFrame(orders_data)\n",
    "print(\"Orders Dataset (df_orders):\\n\", df_orders)\n",
    "print(f\"\\nTotal records in Orders Dataset: {len(df_orders)}\")\n",
    "print(\"-\" * 50)\n",
    "# --- 2. Define the Data Consistency SLA ---\n",
    "SLA_CONSISTENCY_PERCENTAGE = 99.0\n",
    "print(f\"2. Defined Data Consistency SLA: {SLA_CONSISTENCY_PERCENTAGE}% of 'product_id' in orders must exist in products.\")\n",
    "print(\"-\" * 50)\n",
    "\n",
    "# --- 3. Implement Consistency Check ---\n",
    "\n",
    "print(\"3. Implementing Consistency Check: Checking if 'product_id' in orders exists in products.\")\n",
    "\n",
    "# Get all unique product_ids from the products dataset (master list)\n",
    "valid_product_ids = df_products['product_id'].unique()\n",
    "\n",
    "# Check which product_ids in the orders dataset are NOT in the valid_product_ids list\n",
    "df_orders['is_consistent'] = df_orders['product_id'].isin(valid_product_ids)\n",
    "\n",
    "consistent_records_count = df_orders['is_consistent'].sum()\n",
    "total_records_to_check = len(df_orders)\n",
    "consistency_percentage = (consistent_records_count / total_records_to_check) * 100\n",
    "\n",
    "inconsistent_records = df_orders[df_orders['is_consistent'] == False]\n",
    "\n",
    "print(f\"Total records in Orders to check: {total_records_to_check}\")\n",
    "print(f\"Consistent records found: {consistent_records_count}\")\n",
    "print(f\"Inconsistent records found: {total_records_to_check - consistent_records_count}\")\n",
    "print(f\"Calculated Data Consistency: {consistency_percentage:.2f}%\")\n",
    "print(\"-\" * 50)\n",
    "\n",
    "# --- 4. Check Compliance with SLA ---\n",
    "print(\"4. Checking Compliance with SLA:\")\n",
    "if consistency_percentage >= SLA_CONSISTENCY_PERCENTAGE:\n",
    "    print(f\"SUCCESS: The dataset meets the Data Consistency SLA of {SLA_CONSISTENCY_PERCENTAGE}%!\")\n",
    "else:\n",
    "    print(f\"FAILURE: The dataset DOES NOT meet the Data Consistency SLA of {SLA_CONSISTENCY_PERCENTAGE}%.\")\n",
    "    print(f\"  Calculated consistency: {consistency_percentage:.2f}%\")\n",
    "    print(f\"  Missing {SLA_CONSISTENCY_PERCENTAGE - consistency_percentage:.2f}% to meet the SLA.\")\n",
    "    print(\"\\nDetails of Inconsistent Records (Orders with invalid product_id):\")\n",
    "    print(inconsistent_records[['order_id', 'product_id', 'is_consistent']])\n",
    "\n",
    "print(\"-\" * 50)"
   ]
  }
 ],
 "metadata": {
  "kernelspec": {
   "display_name": "Python 3",
   "language": "python",
   "name": "python3"
  },
  "language_info": {
   "codemirror_mode": {
    "name": "ipython",
    "version": 3
   },
   "file_extension": ".py",
   "mimetype": "text/x-python",
   "name": "python",
   "nbconvert_exporter": "python",
   "pygments_lexer": "ipython3",
   "version": "3.10.12"
  }
 },
 "nbformat": 4,
 "nbformat_minor": 2
}
