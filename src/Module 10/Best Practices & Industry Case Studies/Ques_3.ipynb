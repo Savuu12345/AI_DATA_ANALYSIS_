{
 "cells": [
  {
   "cell_type": "markdown",
   "metadata": {},
   "source": [
    "## Real-World Case Studies\n",
    "\n",
    "### Finance - Fraud Detection Models:\n",
    "**Description**: Analyze a financial dataset, define SLAs for data accuracy and\n",
    "completeness, and ensure high data quality for fraud detection models."
   ]
  },
  {
   "cell_type": "code",
   "execution_count": null,
   "metadata": {},
   "outputs": [
    {
     "name": "stdout",
     "output_type": "stream",
     "text": [
      "Data Completeness: 98.75%\n",
      "Completeness SLA Met!\n",
      "Model Accuracy: 0.5123\n",
      "Model Precision: 0.5036\n",
      "Model Recall: 0.4929\n",
      "Model F1-Score: 0.4982\n",
      "Model Accuracy SLA NOT Met!\n"
     ]
    }
   ],
   "source": [
    "\n",
    "import pandas as pd\n",
    "from sklearn.model_selection import train_test_split\n",
    "from sklearn.ensemble import RandomForestClassifier\n",
    "from sklearn.metrics import accuracy_score,precision_score,recall_score,f1_score\n",
    "import numpy as np\n",
    "import datetime\n",
    "data_accuracy={'transaction_id':range(1000),'amount':np.random.rand(1000)*1000,'timestamp':[datetime.datetime.now()-datetime.timedelta(hours=np.random.randint(0,72))for _ in range(1000)],'is_fraud':np.random.randint(0,2,1000)}\n",
    "df_accuracy=pd.DataFrame(data_accuracy)\n",
    "df_accuracy.loc[np.random.choice(df_accuracy.index,50,replace=False),'amount']=np.nan\n",
    "df_accuracy.loc[np.random.choice(df_accuracy.index,20,replace=False),'is_fraud']=np.random.choice([0,1],20)\n",
    "total_cells_accuracy=df_accuracy.shape[0]*df_accuracy.shape[1]\n",
    "non_null_cells_accuracy=df_accuracy.count().sum()\n",
    "completeness_percentage=(non_null_cells_accuracy/total_cells_accuracy)*100\n",
    "print(f\"Data Completeness: {completeness_percentage:.2f}%\")\n",
    "SLA_COMPLETENESS=98.0\n",
    "if completeness_percentage>=SLA_COMPLETENESS:\n",
    "    print(\"Completeness SLA Met!\")\n",
    "else:\n",
    "    print(\"Completeness SLA NOT Met!\")\n",
    "df_accuracy_clean=df_accuracy.dropna()\n",
    "X=df_accuracy_clean[['amount']]\n",
    "y=df_accuracy_clean['is_fraud']\n",
    "X_train,X_test,y_train,y_test=train_test_split(X,y,test_size=0.3,random_state=42)\n",
    "model=RandomForestClassifier(random_state=42)\n",
    "model.fit(X_train,y_train)\n",
    "predictions=model.predict(X_test)\n",
    "accuracy=accuracy_score(y_test,predictions)\n",
    "precision=precision_score(y_test,predictions)\n",
    "recall=recall_score(y_test,predictions)\n",
    "f1=f1_score(y_test,predictions)\n",
    "print(f\"Model Accuracy: {accuracy:.4f}\")\n",
    "print(f\"Model Precision: {precision:.4f}\")\n",
    "print(f\"Model Recall: {recall:.4f}\")\n",
    "print(f\"Model F1-Score: {f1:.4f}\")\n",
    "SLA_MODEL_ACCURACY=0.90\n",
    "if accuracy>=SLA_MODEL_ACCURACY:\n",
    "    print(\"Model Accuracy SLA Met!\")\n",
    "else:\n",
    "    print(\"Model Accuracy SLA NOT Met!\")"
   ]
  }
 ],
 "metadata": {
  "kernelspec": {
   "display_name": "Python 3",
   "language": "python",
   "name": "python3"
  },
  "language_info": {
   "codemirror_mode": {
    "name": "ipython",
    "version": 3
   },
   "file_extension": ".py",
   "mimetype": "text/x-python",
   "name": "python",
   "nbconvert_exporter": "python",
   "pygments_lexer": "ipython3",
   "version": "3.10.12"
  }
 },
 "nbformat": 4,
 "nbformat_minor": 2
}
