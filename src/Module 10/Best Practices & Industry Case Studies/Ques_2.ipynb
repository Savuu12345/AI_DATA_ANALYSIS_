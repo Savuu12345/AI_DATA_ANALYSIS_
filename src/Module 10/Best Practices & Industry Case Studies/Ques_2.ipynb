{
 "cells": [
  {
   "cell_type": "markdown",
   "metadata": {},
   "source": [
    "## Implementing ML Model Monitoring Pipelines\n",
    "\n",
    "### Model Performance Drift:\n",
    "**Description**: Setup a monitoring pipeline to track key performance metrics (e.g., accuracy, precision) of an ML model over time using a monitoring tool or dashboard."
   ]
  },
  {
   "cell_type": "code",
   "execution_count": null,
   "metadata": {},
   "outputs": [],
   "source": [
    "# write your code from here\n",
    "#1\n",
    "import pandas as pd\n",
    "import numpy as np\n",
    "import matplotlib.pyplot as plt\n",
    "from sklearn.metrics import accuracy_score, precision_score\n",
    "from datetime import datetime\n",
    "import os\n",
    "def evaluate_model(y_true, y_pred):\n",
    "    return {\n",
    "        \"timestamp\": datetime.now(),\n",
    "        \"accuracy\": accuracy_score(y_true, y_pred),\n",
    "        \"precision\": precision_score(y_true, y_pred, zero_division=0)\n",
    "    }\n",
    "def log_metrics(metrics, log_path=\"model_metrics.csv\"):\n",
    "    df = pd.DataFrame([metrics])\n",
    "    if os.path.exists(log_path):\n",
    "        df.to_csv(log_path, mode='a', header=False, index=False)\n",
    "    else:\n",
    "        df.to_csv(log_path, index=False)\n",
    "def visualize_metrics(log_path=\"model_metrics.csv\"):\n",
    "    df = pd.read_csv(log_path, parse_dates=[\"timestamp\"])\n",
    "    df.sort_values(\"timestamp\", inplace=True)\n",
    "    plt.figure(figsize=(10, 4))\n",
    "    plt.plot(df[\"timestamp\"], df[\"accuracy\"], label=\"Accuracy\", marker='o')\n",
    "    plt.plot(df[\"timestamp\"], df[\"precision\"], label=\"Precision\", marker='o')\n",
    "    plt.ylabel(\"Metric Value\")\n",
    "    plt.xlabel(\"Timestamp\")\n",
    "    plt.title(\"Model Performance Over Time\")\n",
    "    plt.legend()\n",
    "    plt.xticks(rotation=45)\n",
    "    plt.tight_layout()\n",
    "    plt.show()\n",
    "y_true = np.random.randint(0, 2, 100)\n",
    "y_pred = np.random.randint(0, 2, 100)\n",
    "metrics = evaluate_model(y_true, y_pred)\n",
    "log_metrics(metrics)\n",
    "visualize_metrics()"
   ]
  },
  {
   "cell_type": "markdown",
   "metadata": {},
   "source": [
    "### Feature Distribution Drift:\n",
    "**Description**: Monitor the distribution of your input features in deployed models to detect any significant shifts from training data distributions."
   ]
  },
  {
   "cell_type": "code",
   "execution_count": null,
   "metadata": {},
   "outputs": [],
   "source": [
    "# write your code from here\n",
    "#1\n",
    "import pandas as pd\n",
    "import numpy as np\n",
    "from scipy.stats import ks_2samp\n",
    "import matplotlib.pyplot as plt\n",
    "def calculate_feature_drift(train_df, live_df, threshold=0.05):\n",
    "    drift_report = []\n",
    "    for col in train_df.columns:\n",
    "        stat, p_value = ks_2samp(train_df[col], live_df[col])\n",
    "        drift_detected = p_value < threshold\n",
    "        drift_report.append({\n",
    "            \"feature\": col,\n",
    "            \"p_value\": p_value,\n",
    "            \"drift\": drift_detected\n",
    "        })\n",
    "    return pd.DataFrame(drift_report)\n",
    "def plot_feature_distributions(train_df, live_df, features):\n",
    "    for col in features:\n",
    "        plt.figure(figsize=(6, 3))\n",
    "        plt.hist(train_df[col], bins=30, alpha=0.5, label=\"Train\", density=True)\n",
    "        plt.hist(live_df[col], bins=30, alpha=0.5, label=\"Live\", density=True)\n",
    "        plt.title(f\"Distribution of Feature: {col}\")\n",
    "        plt.legend()\n",
    "        plt.tight_layout()\n",
    "        plt.show()\n",
    "train_data = pd.DataFrame({\n",
    "    \"feature1\": np.random.normal(0, 1, 1000),\n",
    "    \"feature2\": np.random.normal(5, 2, 1000)\n",
    "})\n",
    "live_data = pd.DataFrame({\n",
    "    \"feature1\": np.random.normal(0.5, 1, 1000),\n",
    "    \"feature2\": np.random.normal(7, 2, 1000)\n",
    "})\n",
    "drift_result = calculate_feature_drift(train_data, live_data)\n",
    "print(drift_result)\n",
    "plot_feature_distributions(train_data, live_data, drift_result[\"feature\"].tolist())"
   ]
  },
  {
   "cell_type": "markdown",
   "metadata": {},
   "source": [
    "### Anomaly Detection in Predictions:\n",
    "**DEscription**: Implement an anomaly detection mechanism to flag unusual model\n",
    "predictions. Simulate anomalies by altering input data."
   ]
  },
  {
   "cell_type": "code",
   "execution_count": null,
   "metadata": {},
   "outputs": [],
   "source": [
    "# write your code from here\n",
    "#1\n",
    "import numpy as np\n",
    "import pandas as pd\n",
    "import matplotlib.pyplot as plt\n",
    "from scipy.stats import zscore\n",
    "def simulate_predictions(n=100):\n",
    "    normal_preds = np.random.normal(loc=0.5, scale=0.1, size=n)\n",
    "    anomalies = np.random.normal(loc=1.0, scale=0.05, size=5)\n",
    "    return np.concatenate([normal_preds, anomalies])\n",
    "def detect_prediction_anomalies(preds, threshold=3.0):\n",
    "    z_scores = zscore(preds)\n",
    "    anomalies = np.abs(z_scores) > threshold\n",
    "    return anomalies\n",
    "def plot_predictions(preds, anomalies):\n",
    "    plt.figure(figsize=(10, 4))\n",
    "    plt.plot(preds, marker='o', label=\"Predictions\")\n",
    "    plt.plot(np.where(anomalies)[0], preds[anomalies], 'ro', label=\"Anomalies\")\n",
    "    plt.title(\"Model Predictions with Anomalies\")\n",
    "    plt.xlabel(\"Index\")\n",
    "    plt.ylabel(\"Prediction Value\")\n",
    "    plt.legend()\n",
    "    plt.tight_layout()\n",
    "    plt.show()\n",
    "preds = simulate_predictions()\n",
    "anomalies = detect_prediction_anomalies(preds)\n",
    "plot_predictions(preds, anomalies)\n",
    "anomaly_indices = np.where(anomalies)[0]\n",
    "print(\"Anomalies detected at indices:\", anomaly_indices)"
   ]
  }
 ],
 "metadata": {
  "kernelspec": {
   "display_name": "Python 3",
   "language": "python",
   "name": "python3"
  },
  "language_info": {
   "codemirror_mode": {
    "name": "ipython",
    "version": 3
   },
   "file_extension": ".py",
   "mimetype": "text/x-python",
   "name": "python",
   "nbconvert_exporter": "python",
   "pygments_lexer": "ipython3",
   "version": "3.10.12"
  }
 },
 "nbformat": 4,
 "nbformat_minor": 2
}
