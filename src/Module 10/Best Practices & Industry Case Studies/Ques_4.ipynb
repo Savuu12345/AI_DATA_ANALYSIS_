{
 "cells": [
  {
   "cell_type": "markdown",
   "metadata": {},
   "source": [
    "## Real-World Case Studies\n",
    "\n",
    "### Healthcare - Medical Prediction Errors:\n",
    "**Description**: Implement validation rules using a healthcare dataset to reduce errors in\n",
    "predictive models by automating data quality checks."
   ]
  },
  {
   "cell_type": "code",
   "execution_count": null,
   "metadata": {},
   "outputs": [
    {
     "name": "stdout",
     "output_type": "stream",
     "text": [
      "                     Check  Issue Count\n",
      "0      Invalid Age Entries            2\n",
      "1     Abnormal Heart Rates            2\n",
      "2    Invalid Gender Values            1\n",
      "3  Missing Diagnosis Codes            1\n",
      "4        Swapped BP Values            1\n"
     ]
    }
   ],
   "source": [
    "\n",
    "import pandas as pd\n",
    "import numpy as np\n",
    "def validate_healthcare_data(df):\n",
    "    report = []\n",
    "    if 'age' in df.columns:\n",
    "        invalid_ages = df[(df['age'] < 0) | (df['age'] > 120)]\n",
    "        report.append([\"Invalid Age Entries\", len(invalid_ages)])\n",
    "    if 'heart_rate' in df.columns:\n",
    "        abnormal_hr = df[(df['heart_rate'] < 30) | (df['heart_rate'] > 200)]\n",
    "        report.append([\"Abnormal Heart Rates\", len(abnormal_hr)])\n",
    "    if 'gender' in df.columns:\n",
    "        invalid_gender = df[~df['gender'].isin(['M', 'F', 'Other'])]\n",
    "        report.append([\"Invalid Gender Values\", len(invalid_gender)])\n",
    "    if 'diagnosis_code' in df.columns:\n",
    "        missing_codes = df['diagnosis_code'].isnull().sum()\n",
    "        report.append([\"Missing Diagnosis Codes\", missing_codes])\n",
    "    if 'blood_pressure_systolic' in df.columns and 'blood_pressure_diastolic' in df.columns:\n",
    "        swapped_bp = df[df['blood_pressure_systolic'] < df['blood_pressure_diastolic']]\n",
    "        report.append([\"Swapped BP Values\", len(swapped_bp)])\n",
    "    return pd.DataFrame(report, columns=[\"Check\", \"Issue Count\"])\n",
    "\n",
    "data = pd.DataFrame({\n",
    "    \"age\": [25, 130, -2],\n",
    "    \"heart_rate\": [72, 210, 15],\n",
    "    \"gender\": [\"M\", \"X\", \"F\"],\n",
    "    \"diagnosis_code\": [\"D123\", None, \"D456\"],\n",
    "    \"blood_pressure_systolic\": [120, 80, 110],\n",
    "    \"blood_pressure_diastolic\": [80, 90, 70]\n",
    "})\n",
    "validation_report = validate_healthcare_data(data)\n",
    "print(validation_report)\n"
   ]
  }
 ],
 "metadata": {
  "kernelspec": {
   "display_name": "Python 3",
   "language": "python",
   "name": "python3"
  },
  "language_info": {
   "codemirror_mode": {
    "name": "ipython",
    "version": 3
   },
   "file_extension": ".py",
   "mimetype": "text/x-python",
   "name": "python",
   "nbconvert_exporter": "python",
   "pygments_lexer": "ipython3",
   "version": "3.10.12"
  }
 },
 "nbformat": 4,
 "nbformat_minor": 2
}
