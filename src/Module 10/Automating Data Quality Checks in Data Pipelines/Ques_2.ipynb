{
 "cells": [
  {
   "cell_type": "markdown",
   "metadata": {},
   "source": [
    "## Automated Data Quality Monitoring\n",
    "**Objective**: Use Great Expectations to perform data profiling and write validation rules.\n",
    "\n",
    "1. Data Profiling with Great Expectations\n",
    "### Profile a CSV dataset containing customer information to inspect distribution patterns of 'Age' and 'Income' columns.\n",
    "- Load the dataset using Great Expectations and create a data context.\n",
    "- Generate a data asset to inspect the summary statistics.\n",
    "- View the generated expectation suite to analyze data distributions."
   ]
  },
  {
   "cell_type": "code",
   "execution_count": 1,
   "metadata": {},
   "outputs": [
    {
     "ename": "ModuleNotFoundError",
     "evalue": "No module named 'great_expectations'",
     "output_type": "error",
     "traceback": [
      "\u001b[0;31m---------------------------------------------------------------------------\u001b[0m",
      "\u001b[0;31mModuleNotFoundError\u001b[0m                       Traceback (most recent call last)",
      "Cell \u001b[0;32mIn[1], line 3\u001b[0m\n\u001b[1;32m      1\u001b[0m \u001b[38;5;66;03m# write your code from here\u001b[39;00m\n\u001b[1;32m      2\u001b[0m \u001b[38;5;66;03m# write your code from here\u001b[39;00m\n\u001b[0;32m----> 3\u001b[0m \u001b[38;5;28;01mfrom\u001b[39;00m \u001b[38;5;21;01mgreat_expectations\u001b[39;00m\u001b[38;5;21;01m.\u001b[39;00m\u001b[38;5;21;01mdata_context\u001b[39;00m \u001b[38;5;28;01mimport\u001b[39;00m get_context\n\u001b[1;32m      5\u001b[0m \u001b[38;5;66;03m# Get the context\u001b[39;00m\n\u001b[1;32m      6\u001b[0m context \u001b[38;5;241m=\u001b[39m get_context()\n",
      "\u001b[0;31mModuleNotFoundError\u001b[0m: No module named 'great_expectations'"
     ]
    }
   ],
   "source": [
    "# write your code from here\n",
    "# write your code from here\n",
    "from great_expectations.data_context import get_context\n",
    "\n",
    "# Get the context\n",
    "context = get_context()\n",
    "\n",
    "# Add a Fluent-style datasource\n",
    "datasource = context.sources.add_pandas_filesystem(\n",
    "    name=\"customer_csv\",\n",
    "    base_directory=\".\",  # directory where 'customer_data.csv' is located\n",
    ")\n",
    "\n",
    "# Add an asset (points to a specific CSV file)\n",
    "asset = datasource.add_csv_asset(\n",
    "    name=\"customer_data_asset\",\n",
    "    filepath=\"customer_data.csv\"\n",
    ")\n",
    "\n",
    "# Create expectation suite\n",
    "suite = context.add_or_update_expectation_suite(\"customer_profile_suite\")\n",
    "\n",
    "# Get a Validator\n",
    "validator = context.get_validator(\n",
    "    datasource_name=\"customer_csv\",\n",
    "    data_asset_name=\"customer_data_asset\",\n",
    "    expectation_suite_name=\"customer_profile_suite\"\n",
    ")\n",
    "\n",
    "# Define expectations\n",
    "validator.expect_column_values_to_be_between(\"Age\", min_value=18, max_value=99)\n",
    "validator.expect_column_values_to_be_between(\"Income\", min_value=10000, max_value=1000000)\n",
    "\n",
    "# Save and view\n",
    "validator.save_expectation_suite(discard_failed_expectations=False)\n",
    "context.build_data_docs()\n",
    "context.open_data_docs()\n",
    "\n",
    "\n"
   ]
  },
  {
   "cell_type": "markdown",
   "metadata": {},
   "source": [
    "2. Writing Validation Rules for Data Ingestion\n",
    "### Write validation rules for a CSV file to ensure the 'Date' column follows a specific date format.\n",
    "- Utilize expect_column_values_to_match_regex to enforce date format validation.\n",
    "- Run the validation and interpret the output."
   ]
  },
  {
   "cell_type": "code",
   "execution_count": null,
   "metadata": {},
   "outputs": [],
   "source": [
    "# write your code from here"
   ]
  }
 ],
 "metadata": {
  "kernelspec": {
   "display_name": "Python 3",
   "language": "python",
   "name": "python3"
  },
  "language_info": {
   "codemirror_mode": {
    "name": "ipython",
    "version": 3
   },
   "file_extension": ".py",
   "mimetype": "text/x-python",
   "name": "python",
   "nbconvert_exporter": "python",
   "pygments_lexer": "ipython3",
   "version": "3.10.12"
  }
 },
 "nbformat": 4,
 "nbformat_minor": 2
}
