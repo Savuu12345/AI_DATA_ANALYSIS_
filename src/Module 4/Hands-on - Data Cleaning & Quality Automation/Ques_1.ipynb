{
 "cells": [
  {
   "cell_type": "code",
   "execution_count": 1,
   "metadata": {},
   "outputs": [
    {
     "name": "stdout",
     "output_type": "stream",
     "text": [
      "  employee   department   salary\n",
      "0    Alice           HR  50000.0\n",
      "1      Bob  Engineering  70000.0\n",
      "2  Charlie           HR  51000.0\n",
      "3    David  Engineering  70000.0\n",
      "4      Eve           HR  52000.0\n"
     ]
    }
   ],
   "source": [
    "#  Question 1: Handling Missing Values with Conditional Filling\n",
    "# Description: Fill missing values in a specific column based on a condition from another column.\n",
    "# Fill missing salary values with the mean salary of the same department\n",
    "import pandas as pd\n",
    "import numpy as np\n",
    "df = pd.DataFrame({\n",
    "    \"employee\": [\"Alice\", \"Bob\", \"Charlie\", \"David\", \"Eve\"],\n",
    "    \"department\": [\"HR\", \"Engineering\", \"HR\", \"Engineering\", \"HR\"],\n",
    "    \"salary\": [50000, np.nan, np.nan, 70000, 52000]\n",
    "})\n",
    "df[\"salary\"] = df.groupby(\"department\")[\"salary\"].transform(\n",
    "    lambda x: x.fillna(x.mean())\n",
    ")\n",
    "print(df)\n"
   ]
  },
  {
   "cell_type": "code",
   "execution_count": 2,
   "metadata": {},
   "outputs": [
    {
     "name": "stdout",
     "output_type": "stream",
     "text": [
      "Cleaned Data:\n",
      "    salary\n",
      "0   50000\n",
      "1   52000\n",
      "2   51000\n",
      "3   49000\n",
      "4   51500\n",
      "5  120000\n"
     ]
    }
   ],
   "source": [
    "# Question 2: Removing Outliers by Rescaling\n",
    "# Description: Remove outliers by standardizing a numerical column using z-scores.\n",
    "import pandas as pd\n",
    "import numpy as np\n",
    "from scipy import stats\n",
    "df = pd.DataFrame({\n",
    "    \"salary\": [50000, 52000, 51000, 49000, 51500, 120000]\n",
    "})\n",
    "z_scores = np.abs(stats.zscore(df[\"salary\"]))\n",
    "threshold = 3\n",
    "df_clean = df[z_scores < threshold]\n",
    "print(\"Cleaned Data:\\n\", df_clean)\n"
   ]
  },
  {
   "cell_type": "code",
   "execution_count": 3,
   "metadata": {},
   "outputs": [
    {
     "name": "stdout",
     "output_type": "stream",
     "text": [
      "      Name  Age\n",
      "0    Alice   25\n",
      "1      Bob   27\n",
      "2  Charlie   30\n",
      "3    David   27\n"
     ]
    },
    {
     "name": "stderr",
     "output_type": "stream",
     "text": [
      "/tmp/ipykernel_5989/2064722758.py:9: FutureWarning: A value is trying to be set on a copy of a DataFrame or Series through chained assignment using an inplace method.\n",
      "The behavior will change in pandas 3.0. This inplace method will never work because the intermediate object on which we are setting values always behaves as a copy.\n",
      "\n",
      "For example, when doing 'df[col].method(value, inplace=True)', try using 'df.method({col: value}, inplace=True)' or df[col] = df[col].method(value) instead, to perform the operation inplace on the original object.\n",
      "\n",
      "\n",
      "  df['Age'].fillna(df['Age'].median(), inplace=True)\n"
     ]
    }
   ],
   "source": [
    "# Question 3: Applying Data Type Conversion\n",
    "# Description: Convert the 'Age' column to integers after filling missing values.\n",
    "import pandas as pd\n",
    "import numpy as np\n",
    "df = pd.DataFrame({\n",
    "    'Name': ['Alice', 'Bob', 'Charlie', 'David'],\n",
    "    'Age': [25, np.nan, 30, np.nan]\n",
    "})\n",
    "df['Age'].fillna(df['Age'].median(), inplace=True)\n",
    "df['Age'] = df['Age'].astype(int)\n",
    "print(df)\n",
    "\n"
   ]
  },
  {
   "cell_type": "code",
   "execution_count": 4,
   "metadata": {},
   "outputs": [
    {
     "name": "stdout",
     "output_type": "stream",
     "text": [
      "Cleaned DataFrame:\n",
      "       name   age   salary\n",
      "0    Alice  25.0  50000.0\n",
      "1      Bob   NaN  60000.0\n",
      "2  Charlie  30.0      NaN\n",
      "4    David   NaN  70000.0\n"
     ]
    }
   ],
   "source": [
    "# Question 4: Automating Data Cleaning with Functions\n",
    "# Description: Create a function that automates the process of filling missing values, removing duplicates, and standardizing column names.\n",
    "import pandas as pd\n",
    "\n",
    "def clean_data(df, fillna_dict=None, remove_duplicates=True):\n",
    "    \"\"\"\n",
    "    Automates the process of data cleaning:\n",
    "    - Fill missing values based on column-wise definitions.\n",
    "    - Remove duplicates if specified.\n",
    "    - Standardize column names to lowercase and replace spaces with underscores.\n",
    "    \n",
    "    Parameters:\n",
    "    - df: DataFrame to be cleaned.\n",
    "    - fillna_dict: Dictionary defining columns and values to fill for missing data (optional).\n",
    "    - remove_duplicates: Boolean flag to indicate if duplicates should be removed (default=True).\n",
    "    \n",
    "    Returns:\n",
    "    - Cleaned DataFrame.\n",
    "    \"\"\"\n",
    "    \n",
    "    df.columns = df.columns.str.lower().str.replace(' ', '_')\n",
    "    if fillna_dict:\n",
    "        for column, value in fillna_dict.items():\n",
    "            if column in df.columns:\n",
    "                df[column].fillna(value, inplace=True)\n",
    "    if remove_duplicates:\n",
    "        df.drop_duplicates(inplace=True)\n",
    "    \n",
    "    return df\n",
    "data = {\n",
    "    'Name': ['Alice', 'Bob', 'Charlie', 'Alice', 'David'],\n",
    "    'Age': [25, None, 30, 25, None],\n",
    "    'Salary': [50000, 60000, None, 50000, 70000]\n",
    "}\n",
    "df = pd.DataFrame(data)\n",
    "cleaned_df = clean_data(df, fillna_dict={'Age': 28, 'Salary': 55000})\n",
    "print(\"Cleaned DataFrame:\\n\", cleaned_df)\n"
   ]
  },
  {
   "cell_type": "code",
   "execution_count": 5,
   "metadata": {},
   "outputs": [
    {
     "name": "stdout",
     "output_type": "stream",
     "text": [
      "   Age  Age_normalized\n",
      "0   25        0.230769\n",
      "1   28        0.461538\n",
      "2   30        0.615385\n",
      "3   22        0.000000\n",
      "4   35        1.000000\n"
     ]
    }
   ],
   "source": [
    "#  Question 5: Complex Data Normalization\n",
    "# Description: Normalize a numeric column to a range using min-max scaling.\n",
    "import pandas as pd\n",
    "df = pd.DataFrame({\n",
    "    'Age': [25, 28, 30, 22, 35]\n",
    "})\n",
    "df['Age_normalized'] = (df['Age'] - df['Age'].min()) / (df['Age'].max() - df['Age'].min())\n",
    "print(df)\n",
    "\n"
   ]
  }
 ],
 "metadata": {
  "kernelspec": {
   "display_name": "Python 3",
   "language": "python",
   "name": "python3"
  },
  "language_info": {
   "codemirror_mode": {
    "name": "ipython",
    "version": 3
   },
   "file_extension": ".py",
   "mimetype": "text/x-python",
   "name": "python",
   "nbconvert_exporter": "python",
   "pygments_lexer": "ipython3",
   "version": "3.10.12"
  }
 },
 "nbformat": 4,
 "nbformat_minor": 2
}
