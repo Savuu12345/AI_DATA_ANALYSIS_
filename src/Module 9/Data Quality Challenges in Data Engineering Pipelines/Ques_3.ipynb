{
 "cells": [
  {
   "cell_type": "markdown",
   "metadata": {},
   "source": [
    "### Metadata Management for Data Quality\n",
    "**Description**: Store and use metadata to manage data quality in a pipeline.\n",
    "\n",
    "**Steps**:\n",
    "1. Load metadata\n",
    "2. Load data\n",
    "3. Use metadata to validate data quality\n",
    "4. Show valid data\n"
   ]
  },
  {
   "cell_type": "code",
   "execution_count": null,
   "metadata": {},
   "outputs": [
    {
     "ename": "SyntaxError",
     "evalue": "invalid syntax (662044575.py, line 27)",
     "output_type": "error",
     "traceback": [
      "\u001b[0;36m  Cell \u001b[0;32mIn[1], line 27\u001b[0;36m\u001b[0m\n\u001b[0;31m    defvalidate_data_with_metadata(dataframe,metadata):\u001b[0m\n\u001b[0m                                                      ^\u001b[0m\n\u001b[0;31mSyntaxError\u001b[0m\u001b[0;31m:\u001b[0m invalid syntax\n"
     ]
    }
   ],
   "source": [
    "# write your code from here\n",
    "import pandas as pd\n",
    "import numpy as np\n",
    "metadata={\n",
    "'customer_id':{'type':'int64','nullable':False,'min_value':1000,'max_value':9999},\n",
    "'customer_name':{'type':'object','nullable':False},\n",
    "'age':{'type':'int64','nullable':True,'min_value':18,'max_value':99},\n",
    "'city':{'type':'object','nullable':False,'allowed_values':['New York','Los Angeles','Chicago','Houston','Miami']},\n",
    "'purchase_amount':{'type':'float64','nullable':False,'min_value':0.0,'max_value':10000.0},\n",
    "'is_vip':{'type':'bool','nullable':True}\n",
    "}\n",
    "data={\n",
    "'customer_id':[1001,1002,1003,1004,1005,1006,1007,1008,1009,1010],\n",
    "'customer_name':['Alice','Bob',None,'David','Eve','Frank','Grace','Henry','Ivy','Jack'],\n",
    "'age':[25,30,15,40,np.nan,60,75,100,22,33],\n",
    "'city':['New York','Los Angeles','Paris','Houston','Miami','London','Chicago','New York','Dallas','Los Angeles'],\n",
    "'purchase_amount':[50.50,120.00,-10.00,np.nan,500.00,12000.00,75.25,300.00,10.00,9999.99],\n",
    "'is_vip':[True,False,True,False,None,True,False,True,False,True]\n",
    "}\n",
    "df=pd.DataFrame(data)\n",
    "def validate_data_with_metadata(dataframe,metadata):\n",
    "    valid_rows=pd.Series(True,index=dataframe.index)\n",
    "    for col_name,col_meta in metadata.items():\n",
    "        if col_name not in dataframe.columns:\n",
    "            print(f\"ERROR:Column'{col_name}'missing.\")\n",
    "            valid_rows=pd.Series(False,index=dataframe.index)\n",
    "            continue\n",
    "        if dataframe[col_name].dtype != col_meta['type']:\n",
    "            try:\n",
    "                dataframe[col_name]=dataframe[col_name].astype(col_meta['type'])\n",
    "            except ValueError:\n",
    "                print(f\"WARNING:Column'{col_name}'typecastfailed.Somevaluesmaybemarkedinvalid.\")\n",
    "                valid_rows&=dataframe[col_name].apply(lambda x: pd.api.types.is_dtype_equal(type(x), col_meta['type']) or pd.isna(x))\n",
    "        if not col_meta['nullable']:\n",
    "            null_rows=dataframe[col_name].isnull()\n",
    "            if null_rows.any():\n",
    "                print(f\"ERROR:Column'{col_name}'hasnullvaluesbutisnotnullable.\")\n",
    "                valid_rows&=~null_rows\n",
    "        if 'min_value'in col_meta and 'max_value'in col_meta:\n",
    "            invalid_range_rows=(dataframe[col_name]<col_meta['min_value'])|(dataframe[col_name]>col_meta['max_value'])\n",
    "            if invalid_range_rows.any():\n",
    "                print(f\"ERROR:Column'{col_name}'hasvaluesoutsiderange[{col_meta['min_value']}-{col_meta['max_value']}].\")\n",
    "                valid_rows&=~invalid_range_rows\n",
    "        if 'allowed_values'in col_meta:\n",
    "            invalid_values_rows=~dataframe[col_name].isin(col_meta['allowed_values'])\n",
    "            if invalid_values_rows.any():\n",
    "                print(f\"ERROR:Column'{col_name}'hasvaluesnotinallowedset:{col_meta['allowed_values']}.\")\n",
    "                valid_rows&=~invalid_values_rows\n",
    "    return dataframe[valid_rows]\n",
    "valid_df=validate_data_with_metadata(df.copy(),metadata)\n",
    "print(\"\\nOriginalDataFrameHead:\")\n",
    "print(df.head())\n",
    "print(\"\\nOriginalDataFrameInfo:\")\n",
    "df.info()\n",
    "print(\"\\nValidDataFrameHead:\")\n",
    "print(valid_df.head())\n",
    "print(\"\\nValidDataFrameInfo:\")\n",
    "valid_df.info()\n",
    "print(f\"\\nNumberofValidRows:{len(valid_df)}out of{len(df)}.\")"
   ]
  }
 ],
 "metadata": {
  "kernelspec": {
   "display_name": "Python 3",
   "language": "python",
   "name": "python3"
  },
  "language_info": {
   "codemirror_mode": {
    "name": "ipython",
    "version": 3
   },
   "file_extension": ".py",
   "mimetype": "text/x-python",
   "name": "python",
   "nbconvert_exporter": "python",
   "pygments_lexer": "ipython3",
   "version": "3.10.12"
  }
 },
 "nbformat": 4,
 "nbformat_minor": 2
}
