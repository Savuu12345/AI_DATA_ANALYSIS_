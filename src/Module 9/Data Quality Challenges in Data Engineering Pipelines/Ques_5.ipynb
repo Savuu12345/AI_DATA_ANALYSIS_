{
 "cells": [
  {
   "cell_type": "markdown",
   "metadata": {},
   "source": [
    "### Implementing Data Validation using Protobuf in a Distributed System\n",
    "**Description**: Use gRPC to implement a distributed system that validates messages using\n",
    "Protobuf.\n",
    "\n",
    "**Steps**:\n",
    "1. Create a .proto file for gRPC service.\n",
    "2. Implement server-side validation\n",
    "    - Create a gRPC server\n",
    "    - Bind the server to an address\n",
    "    - Start server"
   ]
  },
  {
   "cell_type": "code",
   "execution_count": 4,
   "metadata": {},
   "outputs": [
    {
     "ename": "ModuleNotFoundError",
     "evalue": "No module named 'validator_pb2'",
     "output_type": "error",
     "traceback": [
      "\u001b[0;31m---------------------------------------------------------------------------\u001b[0m",
      "\u001b[0;31mModuleNotFoundError\u001b[0m                       Traceback (most recent call last)",
      "Cell \u001b[0;32mIn[4], line 9\u001b[0m\n\u001b[1;32m      7\u001b[0m \u001b[38;5;28;01mfrom\u001b[39;00m \u001b[38;5;21;01mconcurrent\u001b[39;00m \u001b[38;5;28;01mimport\u001b[39;00m futures\n\u001b[1;32m      8\u001b[0m \u001b[38;5;28;01mimport\u001b[39;00m \u001b[38;5;21;01mre\u001b[39;00m\n\u001b[0;32m----> 9\u001b[0m \u001b[38;5;28;01mimport\u001b[39;00m \u001b[38;5;21;01mvalidator_pb2\u001b[39;00m\n\u001b[1;32m     10\u001b[0m \u001b[38;5;28;01mimport\u001b[39;00m \u001b[38;5;21;01mvalidator_pb2_grpc\u001b[39;00m\n\u001b[1;32m     11\u001b[0m \u001b[38;5;28;01mclass\u001b[39;00m \u001b[38;5;21;01mValidatorServiceServicer\u001b[39;00m(validator_pb2_grpc\u001b[38;5;241m.\u001b[39mValidatorServiceServicer):\n",
      "\u001b[0;31mModuleNotFoundError\u001b[0m: No module named 'validator_pb2'"
     ]
    }
   ],
   "source": [
    "# Write your code from here\n",
    "import sys\n",
    "import os\n",
    "sys.path.append('.')\n",
    "import grpc\n",
    "import time\n",
    "from concurrent import futures\n",
    "import re\n",
    "import validator_pb2\n",
    "import validator_pb2_grpc\n",
    "class ValidatorServiceServicer(validator_pb2_grpc.ValidatorServiceServicer):\n",
    "    def ValidateUser(self,request,context):\n",
    "        user_data=request.user_data\n",
    "        is_valid=True\n",
    "        error_messages=[]\n",
    "        if user_data.user_id<=0:\n",
    "            is_valid=False\n",
    "            error_messages.append(\"User ID must be positive.\")\n",
    "        if not user_data.name:\n",
    "            is_valid=False\n",
    "            error_messages.append(\"Name cannot be empty.\")\n",
    "        if not re.match(r\"[^@]+@[^@]+\\.[^@]+\",user_data.email):\n",
    "            is_valid=False\n",
    "            error_messages.append(\"Invalid email format.\")\n",
    "        if user_data.age<0 or user_data.age>120:\n",
    "            is_valid=False\n",
    "            error_messages.append(\"Age must be between 0 and 120.\")\n",
    "        return validator_pb2.ValidationResponse(is_valid=is_valid,error_messages=error_messages)\n",
    "def serve():\n",
    "    server=grpc.server(futures.ThreadPoolExecutor(max_workers=10))\n",
    "    validator_pb2_grpc.add_ValidatorServiceServicer_to_server(\n",
    "        ValidatorServiceServicer(),server)\n",
    "    server.add_insecure_port('[::]:50051')\n",
    "    server.start()\n",
    "    print(\"Serverstarted,listeningonport50051.\")\n",
    "    try:\n",
    "        while True:\n",
    "            time.sleep(86400)\n",
    "    except KeyboardInterrupt:\n",
    "        server.stop(0)\n",
    "if __name__=='__main__':\n",
    "    serve()"
   ]
  }
 ],
 "metadata": {
  "kernelspec": {
   "display_name": "Python 3",
   "language": "python",
   "name": "python3"
  },
  "language_info": {
   "codemirror_mode": {
    "name": "ipython",
    "version": 3
   },
   "file_extension": ".py",
   "mimetype": "text/x-python",
   "name": "python",
   "nbconvert_exporter": "python",
   "pygments_lexer": "ipython3",
   "version": "3.10.12"
  }
 },
 "nbformat": 4,
 "nbformat_minor": 2
}
