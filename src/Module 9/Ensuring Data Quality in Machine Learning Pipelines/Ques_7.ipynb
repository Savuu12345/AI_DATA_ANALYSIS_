{
 "cells": [
  {
   "cell_type": "markdown",
   "metadata": {},
   "source": [
    "### Feature Engineering Best Practices: Handling Text Data\n",
    "**Question**: Load a dataset with text data (e.g., SMS Spam Collection), perform text\n",
    "preprocessing, and extract numerical features using TF-IDF."
   ]
  },
  {
   "cell_type": "code",
   "execution_count": null,
   "metadata": {},
   "outputs": [
    {
     "name": "stdout",
     "output_type": "stream",
     "text": [
      "OriginalDataHead:\n",
      "  label                                               text\n",
      "0   ham  Go until jurong point, crazy.. Available only ...\n",
      "1  spam  Free entry in 2 a wkly comp to win FA Cup fina...\n",
      "2   ham                      Ok lar... Joking wif u oni...\n",
      "3   ham  U dun say so early hor... U c already then say...\n",
      "4  spam  WINNER!! As a valued network customer you have...\n",
      "\n",
      "ProcessedText(first5entriesinCorpus):\n",
      "go jurong point crazi avail bugi n great world la e buffet\n",
      "free entri wkli comp win fa cup final tkt st may text fa receiv entri question std txt rate c appli\n",
      "ok lar joke wif u oni\n",
      "u dun say earli hor u c alreadi say\n",
      "winner valu network custom select receivea prize reward claim call claim code kl valid hour\n",
      "\n",
      "ShapeofTF-IDFfeatures(X): (5, 52)\n",
      "\n",
      "ShapeofTarget(y): (5,)\n",
      "\n",
      "FirstrowofTF-IDFfeatures(X[0]):\n",
      " [0.         0.         0.31622777 0.31622777 0.31622777]\n"
     ]
    },
    {
     "name": "stderr",
     "output_type": "stream",
     "text": [
      "[nltk_data] Downloading package stopwords to /home/vscode/nltk_data...\n",
      "[nltk_data]   Package stopwords is already up-to-date!\n",
      "[nltk_data] Downloading package punkt to /home/vscode/nltk_data...\n",
      "[nltk_data]   Package punkt is already up-to-date!\n"
     ]
    }
   ],
   "source": [
    "\n",
    "import pandas as pd\n",
    "import numpy as np\n",
    "import re\n",
    "\n",
    "import nltk\n",
    "from nltk.corpus import stopwords\n",
    "from nltk.stem import PorterStemmer\n",
    "from sklearn.feature_extraction.text import TfidfVectorizer\n",
    "nltk.download('stopwords')\n",
    "nltk.download('punkt')\n",
    "data={\n",
    "    'label':['ham','spam','ham','ham','spam'],\n",
    "    'text':[\n",
    "        'Go until jurong point, crazy.. Available only in bugis n great world la e buffet... Then so on...',\n",
    "        'Free entry in 2 a wkly comp to win FA Cup final tkts 21st May 2005. Text FA to 87121 to receive entry question(std txt rate)T&C\\'s apply 08452810075over18\\'s',\n",
    "        'Ok lar... Joking wif u oni...',\n",
    "        'U dun say so early hor... U c already then say...',\n",
    "        'WINNER!! As a valued network customer you have been selected to receivea £900 prize reward! To claim call 09061701461. Claim code KL341. Valid 12 hours only.'\n",
    "    ]\n",
    "}\n",
    "\n",
    "df=pd.DataFrame(data)\n",
    "ps=PorterStemmer()\n",
    "corpus=[]\n",
    "for i in range(len(df)):\n",
    "    review=re.sub('[^a-zA-Z]',' ',df['text'][i])\n",
    "    review=review.lower()\n",
    "    review=review.split()\n",
    "    review=[ps.stem(word)for word in review if not word in stopwords.words('english')]\n",
    "    review=' '.join(review)\n",
    "    corpus.append(review)\n",
    "tfidf=TfidfVectorizer(max_features=100) \n",
    "X=tfidf.fit_transform(corpus).toarray()\n",
    "y=pd.get_dummies(df['label'])\n",
    "y=y.iloc[:,1].values\n",
    "print(\"OriginalDataHead:\")\n",
    "print(df.head())\n",
    "print(\"\\nProcessedText(first5entriesinCorpus):\")\n",
    "for i in range(5):\n",
    "    print(corpus[i])\n",
    "print(\"\\nShapeofTF-IDFfeatures(X):\",X.shape)\n",
    "print(\"\\nShapeofTarget(y):\",y.shape)\n",
    "print(\"\\nFirstrowofTF-IDFfeatures(X[0]):\\n\",X[0][:5])"
   ]
  }
 ],
 "metadata": {
  "kernelspec": {
   "display_name": "Python 3",
   "language": "python",
   "name": "python3"
  },
  "language_info": {
   "codemirror_mode": {
    "name": "ipython",
    "version": 3
   },
   "file_extension": ".py",
   "mimetype": "text/x-python",
   "name": "python",
   "nbconvert_exporter": "python",
   "pygments_lexer": "ipython3",
   "version": "3.10.12"
  }
 },
 "nbformat": 4,
 "nbformat_minor": 2
}
