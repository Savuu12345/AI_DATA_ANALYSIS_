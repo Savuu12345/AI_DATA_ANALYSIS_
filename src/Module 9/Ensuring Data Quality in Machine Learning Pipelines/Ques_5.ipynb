{
 "cells": [
  {
   "cell_type": "markdown",
   "metadata": {},
   "source": [
    "### Ensuring Consistency Across Training & Inference Datasets: Feature Scaling\n",
    "**Question**: Load a dataset (e.g., Boston Housing) and perform feature scaling. Ensure the\n",
    "same scaling is applied during model inference with new data."
   ]
  },
  {
   "cell_type": "code",
   "execution_count": 1,
   "metadata": {},
   "outputs": [
    {
     "name": "stdout",
     "output_type": "stream",
     "text": [
      "OriginalX_new_inference(first5rows):\n",
      " [[ 39.68410492  30.28228494  28.24370165  62.90688333  72.14573171]\n",
      " [ 85.34251207  67.01268719  59.18314931  61.68271315  29.95136877]\n",
      " [ 52.8739232   95.47589396  82.52410761  26.43714336 -11.35186757]\n",
      " [ 23.84311763 100.10074174  28.05488199 113.66217531  64.40607442]\n",
      " [ 58.02339724  44.3843133   -8.41972571  51.73202342  33.06389333]]\n",
      "\n",
      "ScaledX_train(first5rows):\n",
      " [[ 1.23446871 -1.85147512 -0.99705371 -1.89155453 -0.08348963]\n",
      " [ 0.8077672  -0.08540924 -1.08999129  0.87866696 -0.85767102]\n",
      " [ 0.05163815  0.26722702  1.37568803 -0.2128853  -1.31547336]\n",
      " [ 0.89394638 -0.72414772  0.11027559 -0.97127207 -0.21023228]\n",
      " [-0.48166899 -0.82825855  1.63968517 -0.4882022   1.41031699]]\n",
      "\n",
      "ScaledX_new_inference(first5rows):\n",
      " [[-0.25968352 -0.58510621 -0.68290296  0.33171932  0.87340572]\n",
      " [ 1.04781659  0.51954945  0.33628987  0.29361615 -0.35322032]\n",
      " [ 0.11802761  1.37557173  1.10517682 -0.80342733 -1.55394054]\n",
      " [-0.71331504  1.51466262 -0.68912297  1.91151396  0.6484073 ]\n",
      " [ 0.26549088 -0.160992   -1.89065247 -0.01610616 -0.26273658]]\n",
      "\n",
      "ScalerMean(fromtrainingdata):\n",
      " [48.75235349 49.73738501 48.9744601  52.24947847 42.10169474]\n",
      "ScalerStandardDeviation(fromtrainingdata):\n",
      " [34.92038498 33.2505445  30.35681427 32.12777837 34.39871786]\n"
     ]
    }
   ],
   "source": [
    "# write your code from here\n",
    "import numpy as np\n",
    "import pandas as pd\n",
    "from sklearn.preprocessing import StandardScaler\n",
    "from sklearn.model_selection import train_test_split\n",
    "\n",
    "#SimulateaDataset(replacingBostonHousing)\n",
    "np.random.seed(42)\n",
    "num_samples=100\n",
    "num_features=5\n",
    "X=np.random.rand(num_samples,num_features)*100+np.random.randn(num_samples,num_features)*10\n",
    "y=np.random.rand(num_samples)*1000\n",
    "\n",
    "#Splitthedatainto\"training\"and\"new/inference\"sets\n",
    "X_train,X_new_inference,y_train,y_new_inference=train_test_split(X,y,test_size=0.3,random_state=42)\n",
    "\n",
    "#InitializeandFitthescalerontheTRAININGDATAONLY\n",
    "scaler=StandardScaler()\n",
    "scaler.fit(X_train)\n",
    "\n",
    "#TransformtheTRAININGDATA\n",
    "X_train_scaled=scaler.transform(X_train)\n",
    "\n",
    "#Simulatenew/inference_data(usingX_new_inferencefromsplit)\n",
    "#ThisX_new_inferenceisour\"newdata\"thatthemodelwillseeindatainference\n",
    "print(\"OriginalX_new_inference(first5rows):\\n\",X_new_inference[:5])\n",
    "\n",
    "#TransformtheNEW/INFERENCEDATAusingtheSAMEFITTEDSCALER\n",
    "X_new_inference_scaled=scaler.transform(X_new_inference)\n",
    "\n",
    "print(\"\\nScaledX_train(first5rows):\\n\",X_train_scaled[:5])\n",
    "print(\"\\nScaledX_new_inference(first5rows):\\n\",X_new_inference_scaled[:5])\n",
    "\n",
    "#Verifythatthescalerparameters(meanandstd)arethesameforboth\n",
    "#Thisimplicitlyshowsthesamescalingisapplied\n",
    "print(\"\\nScalerMean(fromtrainingdata):\\n\",scaler.mean_)\n",
    "print(\"ScalerStandardDeviation(fromtrainingdata):\\n\",scaler.scale_)"
   ]
  }
 ],
 "metadata": {
  "kernelspec": {
   "display_name": "Python 3",
   "language": "python",
   "name": "python3"
  },
  "language_info": {
   "codemirror_mode": {
    "name": "ipython",
    "version": 3
   },
   "file_extension": ".py",
   "mimetype": "text/x-python",
   "name": "python",
   "nbconvert_exporter": "python",
   "pygments_lexer": "ipython3",
   "version": "3.10.12"
  }
 },
 "nbformat": 4,
 "nbformat_minor": 2
}
