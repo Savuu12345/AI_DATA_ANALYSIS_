{
 "cells": [
  {
   "cell_type": "markdown",
   "metadata": {},
   "source": [
    "### Data Drift: Detection Using Statistical Tests\n",
    "**Question**: Simulate two datasets with a shift in distribution, and apply the Kolmogorov-\n",
    "Smirnov test to determine if data drift has occurred."
   ]
  },
  {
   "cell_type": "code",
   "execution_count": null,
   "metadata": {},
   "outputs": [
    {
     "name": "stdout",
     "output_type": "stream",
     "text": [
      "Kolmogorov-SmirnovTestResults:\n",
      "KSStatistic:0.4080\n",
      "P-value:0.0000\n",
      "DataDriftDetected:P-valueislessthanalpha(0.05).\n",
      "\n",
      "Kolmogorov-SmirnovTestResults(NoDriftScenario):\n",
      "KSStatistic:0.0680\n",
      "P-value:0.1980\n",
      "NoSignificantDataDriftDetected:P-valueisgreaterthanalpha(0.05).\n"
     ]
    }
   ],
   "source": [
    "# write your code from here\n",
    "import numpy as np\n",
    "from scipy import stats\n",
    "np.random.seed(42)\n",
    "dataset_before_drift=np.random.normal(loc=10,scale=2,size=500)\n",
    "dataset_after_drift=np.random.normal(loc=12,scale=2.2,size=500)\n",
    "#ApplyKolmogorov-SmirnovTest\n",
    "ks_statistic,p_value=stats.ks_2samp(dataset_before_drift,dataset_after_drift)\n",
    "print(\"Kolmogorov-SmirnovTestResults:\")\n",
    "print(f\"KSStatistic:{ks_statistic:.4f}\")\n",
    "print(f\"P-value:{p_value:.4f}\")\n",
    "#Determineifdriftisdetected(usingacommonsignificancelevelalpha=0.05)\n",
    "alpha=0.05\n",
    "if p_value<alpha:\n",
    "    print(\"DataDriftDetected:P-valueislessthanalpha(0.05).\")\n",
    "else:\n",
    "    print(\"NoSignificantDataDriftDetected:P-valueisgreaterthanalpha(0.05).\")\n",
    "#SimulateNoDrift(forcomparison)\n",
    "dataset_no_drift_after=np.random.normal(loc=10,scale=2,size=500)\n",
    "ks_statistic_no_drift,p_value_no_drift=stats.ks_2samp(dataset_before_drift,dataset_no_drift_after)\n",
    "print(\"\\nKolmogorov-SmirnovTestResults(NoDriftScenario):\")\n",
    "print(f\"KSStatistic:{ks_statistic_no_drift:.4f}\")\n",
    "print(f\"P-value:{p_value_no_drift:.4f}\")\n",
    "if p_value_no_drift<alpha:\n",
    "    print(\"DataDriftDetected:P-valueislessthanalpha(0.05).\")\n",
    "else:\n",
    "    print(\"NoSignificantDataDriftDetected:P-valueisgreaterthanalpha(0.05).\")"
   ]
  }
 ],
 "metadata": {
  "kernelspec": {
   "display_name": "Python 3",
   "language": "python",
   "name": "python3"
  },
  "language_info": {
   "codemirror_mode": {
    "name": "ipython",
    "version": 3
   },
   "file_extension": ".py",
   "mimetype": "text/x-python",
   "name": "python",
   "nbconvert_exporter": "python",
   "pygments_lexer": "ipython3",
   "version": "3.10.12"
  }
 },
 "nbformat": 4,
 "nbformat_minor": 2
}
