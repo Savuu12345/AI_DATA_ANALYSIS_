{
 "cells": [
  {
   "cell_type": "markdown",
   "metadata": {},
   "source": [
    "### Bias & Fairness in Data: Bias Mitigation Techniques\n",
    "**Question**: Use the Adult Income dataset and apply reweighing technique to balance the\n",
    "class weights based on sensitive attributes (e.g., gender)."
   ]
  },
  {
   "cell_type": "code",
   "execution_count": null,
   "metadata": {},
   "outputs": [
    {
     "name": "stdout",
     "output_type": "stream",
     "text": [
      "OriginalGenderIncomeCrosstab(Counts):\n",
      "income  <=50K  >50K\n",
      "sex                \n",
      "Female   9592  1179\n",
      "Male    15128  6662\n",
      "\n",
      "OriginalGenderIncomeCrosstab(ProportionswithinGender):\n",
      "income     <=50K      >50K\n",
      "sex                       \n",
      "Female  0.890539  0.109461\n",
      "Male    0.694263  0.305737\n",
      "\n",
      "WeightedGenderIncomeCrosstab(Sums of Weights):\n",
      "income         <=50K         >50K\n",
      "sex                              \n",
      "Female   8177.240257  2593.759743\n",
      "Male    16542.759743  5247.240257\n",
      "\n",
      "WeightedGenderIncomeCrosstab(ProportionswithinGenderfromWeights):\n",
      "income    <=50K     >50K\n",
      "sex                     \n",
      "Female  0.75919  0.24081\n",
      "Male    0.75919  0.24081\n",
      "\n",
      "First5rowsWithSampleWeights:\n",
      "      sex income  sample_weight\n",
      "0    Male  <=50K       1.093519\n",
      "1    Male  <=50K       1.093519\n",
      "2    Male  <=50K       1.093519\n",
      "3    Male  <=50K       1.093519\n",
      "4  Female  <=50K       0.852506\n"
     ]
    }
   ],
   "source": [
    "\n",
    "import pandas as pd\n",
    "import numpy as np\n",
    "column_names=['age','workclass','fnlwgt','education','education-num','marital-status','occupation','relationship','race','sex','capital-gain','capital-loss','hours-per-week','native-country','income']\n",
    "df=pd.read_csv(\"https://archive.ics.uci.edu/ml/machine-learning-databases/adult/adult.data\",\n",
    "               names=column_names,\n",
    "               na_values=' ?',\n",
    "               skipinitialspace=True)\n",
    "df['income']=df['income'].replace({'<=50K.':'<=50K','>50K.':'>50K'})\n",
    "sensitive_attr='sex'\n",
    "target_var='income'\n",
    "overall_income_dist=df[target_var].value_counts(normalize=True)\n",
    "sex_dist=df[sensitive_attr].value_counts(normalize=True)\n",
    "joint_dist=df.groupby([sensitive_attr,target_var]).size().unstack(fill_value=0)\n",
    "joint_dist_norm=joint_dist.div(joint_dist.sum().sum(),axis=0)\n",
    "df['sample_weight']=1.0 \n",
    "for s_val in df[sensitive_attr].unique():\n",
    "    for t_val in df[target_var].unique():\n",
    "        prob_joint=len(df[(df[sensitive_attr]==s_val)&(df[target_var]==t_val)])/len(df)\n",
    "        prob_target=overall_income_dist.get(t_val,0)\n",
    "        prob_sensitive=sex_dist.get(s_val,0)\n",
    "        #Avoiddivisionbyzero\n",
    "        if prob_joint>0:\n",
    "            #Calculateweight: w(A=s_val,Y=t_val) = P(Y=t_val) * P(A=s_val) / P(Y=t_val, A=s_val)\n",
    "            #Thisformulatries tomatchjointdistributionsofbalanceddata.\n",
    "            #Acommonalternative (used in aif360) is to achieve independence: P(Y=y) / P(Y=y|A=a)\n",
    "            #Let'suseasimplevariant: (P(Y=t_val) / P(Y=t_val|A=s_val))\n",
    "            #Where P(Y=t_val|A=s_val) = prob_joint / prob_sensitive\n",
    "            #Weight = (P(Y=t_val) / P(Y=t_val|A=s_val))\n",
    "            #Thisversionfocusesonbalancingtheoutcomeproportionwithin each group\n",
    "            #If P(Y=t_val|A=s_val) is 0, this can cause division by zero.\n",
    "            #Arobustweightingformula,e.g.,fromaif360,is:\n",
    "            #weight(a, y) = P(Y=y) / P(Y=y | A=a) * P(A=a) / P(A=a)\n",
    "            #weight(a, y) = P(Y=y) / P(Y=y | A=a)\n",
    "            #Butwecantry: w(a,y) = (P(Y=y) * P(A=a)) / P(Y=y, A=a)\n",
    "            #ThismakesP(Y=y,A=a)proportionaltoP(Y=y)*P(A=a),i.e.,makesYandAindependent.\n",
    "            desired_joint_prob=(prob_target*prob_sensitive)\n",
    "            if desired_joint_prob > 0:\n",
    "                weight_val=desired_joint_prob/prob_joint\n",
    "                df.loc[(df[sensitive_attr]==s_val)&(df[target_var]==t_val),'sample_weight']=weight_val\n",
    "            else: #If desired_joint_prob is 0, and prob_joint is not, it means an impossible combination is present.\n",
    "                df.loc[(df[sensitive_attr]==s_val)&(df[target_var]==t_val),'sample_weight']=0 #Assign0weight\n",
    "        else: #Ifprob_jointis0,thiscombinationdoesntexist,so weightis0\n",
    "            df.loc[(df[sensitive_attr]==s_val)&(df[target_var]==t_val),'sample_weight']=0\n",
    "print(\"OriginalGenderIncomeCrosstab(Counts):\")\n",
    "print(pd.crosstab(df[sensitive_attr],df[target_var]))\n",
    "print(\"\\nOriginalGenderIncomeCrosstab(ProportionswithinGender):\")\n",
    "print(pd.crosstab(df[sensitive_attr],df[target_var],normalize='index'))\n",
    "print(\"\\nWeightedGenderIncomeCrosstab(Sums of Weights):\")\n",
    "print(df.groupby([sensitive_attr,target_var])['sample_weight'].sum().unstack(fill_value=0))\n",
    "print(\"\\nWeightedGenderIncomeCrosstab(ProportionswithinGenderfromWeights):\")\n",
    "weighted_crosstab=df.groupby([sensitive_attr,target_var])['sample_weight'].sum().unstack(fill_value=0)\n",
    "print(weighted_crosstab.div(weighted_crosstab.sum(axis=1),axis=0))\n",
    "print(\"\\nFirst5rowsWithSampleWeights:\")\n",
    "print(df[['sex','income','sample_weight']].head())"
   ]
  }
 ],
 "metadata": {
  "kernelspec": {
   "display_name": "Python 3",
   "language": "python",
   "name": "python3"
  },
  "language_info": {
   "codemirror_mode": {
    "name": "ipython",
    "version": 3
   },
   "file_extension": ".py",
   "mimetype": "text/x-python",
   "name": "python",
   "nbconvert_exporter": "python",
   "pygments_lexer": "ipython3",
   "version": "3.10.12"
  }
 },
 "nbformat": 4,
 "nbformat_minor": 2
}
