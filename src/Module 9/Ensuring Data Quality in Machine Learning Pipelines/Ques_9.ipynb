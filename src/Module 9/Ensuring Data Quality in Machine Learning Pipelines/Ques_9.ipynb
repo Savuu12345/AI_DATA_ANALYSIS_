{
 "cells": [
  {
   "cell_type": "markdown",
   "metadata": {},
   "source": [
    "### Ensuring Consistency Across Training & Inference Datasets: Pipeline Integration\n",
    "**Question**: Create and train a machine learning pipeline that ensures feature transformation consistency across training and inference datasets using scikit-learn."
   ]
  },
  {
   "cell_type": "code",
   "execution_count": 1,
   "metadata": {},
   "outputs": [
    {
     "name": "stdout",
     "output_type": "stream",
     "text": [
      "PipelineFittedSuccessfully.\n",
      "\n",
      "PredictionsonTestData(first10):\n",
      "[1 1 0 0 0 1 1 1 1 1]\n",
      "\n",
      "FirstrowofOriginalX_test:\n",
      " [-1.37048697 -4.19982289  2.9717728  -2.72995437  0.64632591]\n",
      "\n",
      "FirstrowofScaledX_test(internalpipelineor_manually):\n",
      " [-0.71387952 -1.08076659  0.53009656 -1.03045976  0.06215994]\n"
     ]
    }
   ],
   "source": [
    "# write your code from here\n",
    "import numpy as np\n",
    "from sklearn.pipeline import Pipeline\n",
    "from sklearn.preprocessing import StandardScaler\n",
    "from sklearn.linear_model import LogisticRegression\n",
    "from sklearn.model_selection import train_test_split\n",
    "from sklearn.datasets import make_classification\n",
    "#SimulateaDataset\n",
    "X,y=make_classification(n_samples=1000,n_features=20,n_informative=10,n_redundant=10,random_state=42)\n",
    "#SplitthedataintoTrainingandTestsets\n",
    "X_train,X_test,y_train,y_test=train_test_split(X,y,test_size=0.3,random_state=42)\n",
    "#CreateaPipeline:ScalingfollowedbyLogisticRegression\n",
    "pipeline=Pipeline([\n",
    "('scaler',StandardScaler()),\n",
    "('classifier',LogisticRegression(random_state=42))\n",
    "])\n",
    "#Trainthepipelineonthetrainingdata\n",
    "#Thescalerwillbefittedandtransformedhereautomatically\n",
    "pipeline.fit(X_train,y_train)\n",
    "print(\"PipelineFittedSuccessfully.\")\n",
    "#Now,use thetrainedpipelineforinferenceonnewdata(X_test)\n",
    "#Thescaler'stransformation(fittedonX_train)willbeautomaticallyappliedtoX_test\n",
    "y_pred=pipeline.predict(X_test)\n",
    "print(\"\\nPredictionsonTestData(first10):\")\n",
    "print(y_pred[:10])\n",
    "#Demonstrateinternaltransformation(optional,forunderstanding)\n",
    "#Accessingthefittedscalerfromthepipeline\n",
    "fitted_scaler=pipeline.named_steps['scaler']\n",
    "#YoucanmanuallytransformX_testtoseeitmatcheswhatpipelineinternallydoes\n",
    "X_test_scaled_manually=fitted_scaler.transform(X_test)\n",
    "print(\"\\nFirstrowofOriginalX_test:\\n\",X_test[0][:5])\n",
    "print(\"\\nFirstrowofScaledX_test(internalpipelineor_manually):\\n\",X_test_scaled_manually[0][:5])\n",
    "#Thekeyisthatyouonlycall.fit()onthetrainingdata,and.transform()or.predict()\n",
    "#onthenewdata,usingthesametrainedsampler."
   ]
  }
 ],
 "metadata": {
  "kernelspec": {
   "display_name": "Python 3",
   "language": "python",
   "name": "python3"
  },
  "language_info": {
   "codemirror_mode": {
    "name": "ipython",
    "version": 3
   },
   "file_extension": ".py",
   "mimetype": "text/x-python",
   "name": "python",
   "nbconvert_exporter": "python",
   "pygments_lexer": "ipython3",
   "version": "3.10.12"
  }
 },
 "nbformat": 4,
 "nbformat_minor": 2
}
