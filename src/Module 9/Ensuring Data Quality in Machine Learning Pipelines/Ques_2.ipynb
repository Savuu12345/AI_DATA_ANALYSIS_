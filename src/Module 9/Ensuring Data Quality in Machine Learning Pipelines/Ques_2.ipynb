{
 "cells": [
  {
   "cell_type": "markdown",
   "metadata": {},
   "source": [
    "### Bias & Fairness in Data: Distribution Check\n",
    "**Description**: Load the Adult Income dataset and check for representation bias by analyzing the distribution of gender across different income levels."
   ]
  },
  {
   "cell_type": "code",
   "execution_count": 3,
   "metadata": {},
   "outputs": [
    {
     "name": "stdout",
     "output_type": "stream",
     "text": [
      "Genderdistributionacrossincomelevels(Counts):\n",
      "income  <=50K  >50K\n",
      "sex                \n",
      "Female   9592  1179\n",
      "Male    15128  6662\n",
      "\n",
      "Genderdistributionacrossincomelevels(ProportionswithinGender):\n",
      "income     <=50K      >50K\n",
      "sex                       \n",
      "Female  0.890539  0.109461\n",
      "Male    0.694263  0.305737\n",
      "\n",
      "OverallIncomedistribution:\n",
      "income\n",
      "<=50K    0.75919\n",
      ">50K     0.24081\n",
      "Name: proportion, dtype: float64\n"
     ]
    }
   ],
   "source": [
    "# write your code from here\n",
    "import pandas as pd\n",
    "import numpy as np\n",
    "\n",
    "#LoadAdultIncomedataset\n",
    "#ColumnnamesaremanuallydefinedasthedatasetURLdoesn'tincludeheaders\n",
    "column_names=['age','workclass','fnlwgt','education','education-num','marital-status','occupation','relationship','race','sex','capital-gain','capital-loss','hours-per-week','native-country','income']\n",
    "df=pd.read_csv(\"https://archive.ics.uci.edu/ml/machine-learning-databases/adult/adult.data\",\n",
    "               names=column_names,\n",
    "               na_values=' ?',\n",
    "               skipinitialspace=True)\n",
    "\n",
    "#Cleanincomecolumn(removeperiodandwhitespace)\n",
    "df['income']=df['income'].replace({'<=50K.':'<=50K','>50K.':'>50K'})\n",
    "\n",
    "#Checkforrepresentationbias:Genderacrossincometabulation\n",
    "gender_income_crosstab=pd.crosstab(df['sex'],df['income'])\n",
    "print(\"Genderdistributionacrossincomelevels(Counts):\")\n",
    "print(gender_income_crosstab)\n",
    "\n",
    "#Checkforrepresentationbias:Genderacrossincomeasproportions\n",
    "gender_income_proportion=pd.crosstab(df['sex'],df['income'],normalize='index')\n",
    "print(\"\\nGenderdistributionacrossincomelevels(ProportionswithinGender):\")\n",
    "print(gender_income_proportion)\n",
    "\n",
    "#Checkforoverallproportions\n",
    "overall_income_proportion=df['income'].value_counts(normalize=True)\n",
    "print(\"\\nOverallIncomedistribution:\")\n",
    "print(overall_income_proportion)\n",
    "#Optionally,visualizetheproportion(requiresmatplotlib)\n",
    "#importmatplotlib.pyplotasplt\n",
    "#gender_income_proportion.plot(kind='bar',figsize=(8,5))\n",
    "#plt.title('IncomeDistributionbyGender')\n",
    "#plt.ylabel('Proportion')\n",
    "#plt.xticks(rotation=0)\n",
    "#plt.legend(title='Income')\n",
    "#plt.tight_layout()\n",
    "#plt.show()"
   ]
  }
 ],
 "metadata": {
  "kernelspec": {
   "display_name": "Python 3",
   "language": "python",
   "name": "python3"
  },
  "language_info": {
   "codemirror_mode": {
    "name": "ipython",
    "version": 3
   },
   "file_extension": ".py",
   "mimetype": "text/x-python",
   "name": "python",
   "nbconvert_exporter": "python",
   "pygments_lexer": "ipython3",
   "version": "3.10.12"
  }
 },
 "nbformat": 4,
 "nbformat_minor": 2
}
