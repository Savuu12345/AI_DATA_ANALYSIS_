{
 "cells": [
  {
   "cell_type": "markdown",
   "metadata": {},
   "source": [
    "### Imputing Missing Data\n",
    "**Description**: Impute missing data using various strategies like mean, median, or mode."
   ]
  },
  {
   "cell_type": "code",
   "execution_count": null,
   "metadata": {},
   "outputs": [
    {
     "name": "stdout",
     "output_type": "stream",
     "text": [
      "numerical_col_mean      3\n",
      "numerical_col_median    3\n",
      "categorical_col_mode    2\n",
      "another_col             0\n",
      "dtype: int64\n",
      "numerical_col_mean      0\n",
      "numerical_col_median    3\n",
      "categorical_col_mode    2\n",
      "another_col             0\n",
      "dtype: int64\n",
      "numerical_col_mean      3\n",
      "numerical_col_median    0\n",
      "categorical_col_mode    2\n",
      "another_col             0\n",
      "dtype: int64\n",
      "numerical_col_mean      3\n",
      "numerical_col_median    3\n",
      "categorical_col_mode    0\n",
      "another_col             0\n",
      "dtype: int64\n",
      "   numerical_col_mean  numerical_col_median categorical_col_mode  another_col\n",
      "0                10.0                   1.0                    A          100\n",
      "1                20.0                   2.0                    B          200\n",
      "2                82.5                   3.0                    A          300\n",
      "3                40.0                   NaN                    C          400\n",
      "4                50.0                   5.0                    B          500\n",
      "   numerical_col_mean  numerical_col_median categorical_col_mode  another_col\n",
      "0                10.0                   1.0                    A          100\n",
      "1                20.0                   2.0                    B          200\n",
      "2                 NaN                   3.0                    A          300\n",
      "3                40.0                   8.0                    C          400\n",
      "4                50.0                   5.0                    B          500\n",
      "   numerical_col_mean  numerical_col_median categorical_col_mode  another_col\n",
      "0                10.0                   1.0                    A          100\n",
      "1                20.0                   2.0                    B          200\n",
      "2                 NaN                   3.0                    A          300\n",
      "3                40.0                   NaN                    C          400\n",
      "4                50.0                   5.0                    B          500\n"
     ]
    }
   ],
   "source": [
    "# Write your code from here\n",
    "import pandas as pd\n",
    "import numpy as np\n",
    "\n",
    "#CreateSampleDatasetwithMissingValues\n",
    "data={\n",
    "'numerical_col_mean':[10,20,np.nan,40,50,np.nan,70,80,90,100,110,np.nan,130,140,150],\n",
    "'numerical_col_median':[1,2,3,np.nan,5,6,7,np.nan,9,10,11,12,np.nan,14,15],\n",
    "'categorical_col_mode':['A','B','A','C','B',np.nan,'A','C','B','A','B',None,'A','C','A'],\n",
    "'another_col':[100,200,300,400,500,600,700,800,900,1000,1100,1200,1300,1400,1500]\n",
    "}\n",
    "df=pd.DataFrame(data)\n",
    "\n",
    "#ImputeMissingDatausingMeanStrategy\n",
    "df_mean_imputed=df.copy()\n",
    "mean_value=df_mean_imputed['numerical_col_mean'].mean()\n",
    "df_mean_imputed['numerical_col_mean'].fillna(mean_value,inplace=True)\n",
    "\n",
    "#ImputeMissingDatausingMedianStrategy\n",
    "df_median_imputed=df.copy()\n",
    "median_value=df_median_imputed['numerical_col_median'].median()\n",
    "df_median_imputed['numerical_col_median'].fillna(median_value,inplace=True)\n",
    "#ImputeMissingDatausingModeStrategy\n",
    "df_mode_imputed=df.copy()\n",
    "mode_value=df_mode_imputed['categorical_col_mode'].mode()[0]\n",
    "df_mode_imputed['categorical_col_mode'].fillna(mode_value,inplace=True)\n",
    "print(df.isnull().sum())\n",
    "print(df_mean_imputed.isnull().sum())\n",
    "print(df_median_imputed.isnull().sum())\n",
    "print(df_mode_imputed.isnull().sum())\n",
    "print(df_mean_imputed.head())\n",
    "print(df_median_imputed.head())\n",
    "print(df_mode_imputed.head())"
   ]
  }
 ],
 "metadata": {
  "kernelspec": {
   "display_name": "Python 3",
   "language": "python",
   "name": "python3"
  },
  "language_info": {
   "codemirror_mode": {
    "name": "ipython",
    "version": 3
   },
   "file_extension": ".py",
   "mimetype": "text/x-python",
   "name": "python",
   "nbconvert_exporter": "python",
   "pygments_lexer": "ipython3",
   "version": "3.10.12"
  }
 },
 "nbformat": 4,
 "nbformat_minor": 2
}
