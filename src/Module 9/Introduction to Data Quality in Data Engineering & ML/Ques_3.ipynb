{
 "cells": [
  {
   "cell_type": "markdown",
   "metadata": {},
   "source": [
    "### Detect Bias in Data\n",
    "**Description**: Use statistical tests to detect bias in data, which can affect AI model fairness."
   ]
  },
  {
   "cell_type": "code",
   "execution_count": 2,
   "metadata": {},
   "outputs": [
    {
     "name": "stdout",
     "output_type": "stream",
     "text": [
      "Chi-squaredtestforLoanApprovalbyGender:\n",
      "Chi2Statistic:100.2461\n",
      "P-value:0.0000\n",
      "SignificantassociationfoundbetweenGenderandLoanApproval(evidenceofbias).\n",
      "LoanApprovalRatesbyGender:\n",
      " gender\n",
      "Female    0.074364\n",
      "Male      0.329243\n",
      "Name: loan_approval, dtype: float64\n",
      "\n",
      "T-testforIncomedifferencebyGender:\n",
      "T-Statistic:9.3792\n",
      "P-value:0.0000\n",
      "SignificantdifferencenfoundinIncomebetweenGendergroups(evidenceofbias).\n",
      "AverageIncomesbyGender:\n",
      " gender\n",
      "Female    44577.797330\n",
      "Male      50075.730503\n",
      "Name: income, dtype: float64\n"
     ]
    },
    {
     "name": "stderr",
     "output_type": "stream",
     "text": [
      "/tmp/ipykernel_65828/1947667868.py:18: UserWarning: Boolean Series key will be reindexed to match DataFrame index.\n",
      "  rejected_females_indices=np.random.choice(df[df['gender']=='Female'][df['loan_approval']==1].index,size=num_females_to_change,replace=False)\n"
     ]
    }
   ],
   "source": [
    "import pandas as pd\n",
    "import numpy as np\n",
    "from scipy import stats\n",
    "\n",
    "#CreateSampleDatasetwithBias\n",
    "np.random.seed(42)\n",
    "data={\n",
    "'age':np.random.randint(20,60,1000),\n",
    "'gender':np.random.choice(['Male','Female'],size=1000,p=[0.5,0.5]),\n",
    "'income':np.random.normal(loc=50000,scale=10000,size=1000),\n",
    "'loan_approval':np.random.choice([0,1],size=1000,p=[0.7,0.3])\n",
    "}\n",
    "df=pd.DataFrame(data)\n",
    "\n",
    "#IntroduceBias:LowerloanapprovalforFemales\n",
    "female_indices=df[df['gender']=='Female'].index\n",
    "num_females_to_change=int(len(female_indices)*0.2)\n",
    "rejected_females_indices=np.random.choice(df[df['gender']=='Female'][df['loan_approval']==1].index,size=num_females_to_change,replace=False)\n",
    "df.loc[rejected_females_indices,'loan_approval']=0\n",
    "\n",
    "#IntroduceBias:LowerAverageIncomeforFemales\n",
    "df.loc[df['gender']=='Female','income']=np.random.normal(loc=45000,scale=8000,size=len(df[df['gender']=='Female']))\n",
    "\n",
    "#DetectBiasusingStatisticalTests\n",
    "\n",
    "#Bias1:LoanApprovalRatebyGender(Categorical-Categorical)-Chi-squaredtest\n",
    "contingency_table=pd.crosstab(df['gender'],df['loan_approval'])\n",
    "chi2,p_val,dof,expected=stats.chi2_contingency(contingency_table)\n",
    "print(f\"Chi-squaredtestforLoanApprovalbyGender:\")\n",
    "print(f\"Chi2Statistic:{chi2:.4f}\")\n",
    "print(f\"P-value:{p_val:.4f}\")\n",
    "if p_val<0.05:\n",
    "    print(\"SignificantassociationfoundbetweenGenderandLoanApproval(evidenceofbias).\")\n",
    "else:\n",
    "    print(\"NosignificantassociationfoundbetweenGenderandLoanApproval.\")\n",
    "\n",
    "#Displayactualapprovalrates\n",
    "approval_rates=df.groupby('gender')['loan_approval'].mean()\n",
    "print(\"LoanApprovalRatesbyGender:\\n\",approval_rates)\n",
    "\n",
    "#Bias2:IncomedifferencebyGender(Numerical-Categorical)-T-test\n",
    "male_income=df[df['gender']=='Male']['income']\n",
    "female_income=df[df['gender']=='Female']['income']\n",
    "t_stat,p_val_ttest=stats.ttest_ind(male_income,female_income,equal_var=False)\n",
    "print(f\"\\nT-testforIncomedifferencebyGender:\")\n",
    "print(f\"T-Statistic:{t_stat:.4f}\")\n",
    "print(f\"P-value:{p_val_ttest:.4f}\")\n",
    "if p_val_ttest<0.05:\n",
    "    print(\"SignificantdifferencenfoundinIncomebetweenGendergroups(evidenceofbias).\")\n",
    "else:\n",
    "    print(\"NosignificantdifferencefoundinIncomebetweenGendergroups.\")\n",
    "\n",
    "#Displayaverageincomes\n",
    "average_incomes=df.groupby('gender')['income'].mean()\n",
    "print(\"AverageIncomesbyGender:\\n\",average_incomes)"
   ]
  }
 ],
 "metadata": {
  "kernelspec": {
   "display_name": "Python 3",
   "language": "python",
   "name": "python3"
  },
  "language_info": {
   "codemirror_mode": {
    "name": "ipython",
    "version": 3
   },
   "file_extension": ".py",
   "mimetype": "text/x-python",
   "name": "python",
   "nbconvert_exporter": "python",
   "pygments_lexer": "ipython3",
   "version": "3.10.12"
  }
 },
 "nbformat": 4,
 "nbformat_minor": 2
}
