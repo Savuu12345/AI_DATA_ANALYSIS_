{
 "cells": [
  {
   "cell_type": "markdown",
   "metadata": {},
   "source": [
    "### Implementing Adversarial Validation for Data Drift\n",
    "Description: Create and train a classifier that distinguishes between train and test datasets, using the classifier’s performance to infer data drift."
   ]
  },
  {
   "cell_type": "code",
   "execution_count": 1,
   "metadata": {},
   "outputs": [
    {
     "name": "stdout",
     "output_type": "stream",
     "text": [
      "AdversarialValidationAUCScore:0.8620\n",
      "SignificantDataDriftDetected:AUCscoreiswellabove0.5,indicatingthedatasetsaredistinguishable.\n"
     ]
    }
   ],
   "source": [
    "# write your code from here\n",
    "import numpy as np\n",
    "import pandas as pd\n",
    "from sklearn.model_selection import train_test_split\n",
    "from sklearn.linear_model import LogisticRegression\n",
    "from sklearn.metrics import roc_auc_score\n",
    "#SimulateTrainandTestDatasetswithDrift\n",
    "np.random.seed(42)\n",
    "num_samples_train=1000\n",
    "num_samples_test=1000\n",
    "num_features=10\n",
    "#Dataset1:TrainData(e.g.,fromaNormalDistribution)\n",
    "X_train_data=np.random.normal(loc=0,scale=1,size=(num_samples_train,num_features))\n",
    "#Dataset2:TestData(withadistributionshift,e.g.,differentmeanforsomefeatures)\n",
    "X_test_data=np.random.normal(loc=0.5,scale=1.2,size=(num_samples_test,num_features))\n",
    "#CombineDatasetsandCreateLabelsforAdversarialValidation\n",
    "X_combined=np.vstack((X_train_data,X_test_data))\n",
    "y_adversarial=np.hstack((np.zeros(num_samples_train),np.ones(num_samples_test)))\n",
    "#SplitthecombineddatasetforAdversarialClassifierTraining\n",
    "X_adv_train,X_adv_test,y_adv_train,y_adv_test=train_test_split(\n",
    "X_combined,y_adversarial,test_size=0.3,random_state=42,stratify=y_adversarial)\n",
    "#TrainanAdversarialClassifier\n",
    "adversarial_classifier=LogisticRegression(random_state=42,solver='liblinear')\n",
    "adversarial_classifier.fit(X_adv_train,y_adv_train)\n",
    "#EvaluatetheClassifier'sPerformance\n",
    "y_adv_pred_proba=adversarial_classifier.predict_proba(X_adv_test)[:,1]\n",
    "auc_score=roc_auc_score(y_adv_test,y_adv_pred_proba)\n",
    "print(f\"AdversarialValidationAUCScore:{auc_score:.4f}\")\n",
    "#Interprettheresult\n",
    "if auc_score>0.7: #Thresholdisarbitrary,butsignificantlyabove0.5indicatesdistinguishability\n",
    "    print(\"SignificantDataDriftDetected:AUCscoreiswellabove0.5,indicatingthedatasetsaredistinguishable.\")\n",
    "elif auc_score<0.55: #Close to 0.5 suggests no significant drift\n",
    "    print(\"NoSignificantDataDriftDetected:AUCscoreiscloseto0.5,indicatingthedatasetsarenoteasilydistinguishable.\")\n",
    "else:\n",
    "    print(\"PotentialDataDrift:AUCscoreissomewhatabove0.5,suggestingsomedecreeofdistinguishability.\")"
   ]
  }
 ],
 "metadata": {
  "kernelspec": {
   "display_name": "Python 3",
   "language": "python",
   "name": "python3"
  },
  "language_info": {
   "codemirror_mode": {
    "name": "ipython",
    "version": 3
   },
   "file_extension": ".py",
   "mimetype": "text/x-python",
   "name": "python",
   "nbconvert_exporter": "python",
   "pygments_lexer": "ipython3",
   "version": "3.10.12"
  }
 },
 "nbformat": 4,
 "nbformat_minor": 2
}
