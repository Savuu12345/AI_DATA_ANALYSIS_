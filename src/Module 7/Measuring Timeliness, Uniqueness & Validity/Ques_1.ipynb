{
 "cells": [
  {
   "cell_type": "markdown",
   "metadata": {},
   "source": [
    "## Format Compliance for Email\n",
    "\n",
    "**Description**: Check if emails in a list are valid based on a basic regex pattern."
   ]
  },
  {
   "cell_type": "code",
   "execution_count": null,
   "metadata": {},
   "outputs": [],
   "source": [
    "import re\n",
    "def is_valid_email(email):\n",
    "    pattern = r\"^[a-zA-Z0-9._%+-]+@[a-zA-Z0-9.-]+\\.[a-zA-Z]{2,}$\"\n",
    "    return bool(re.fullmatch(pattern, email))\n",
    "emails_to_check = [\"test@example.com\", \"user.name@sub.domain.co.in\", \"invalid_email\", \"another@test\"]\n",
    "for email_address in emails_to_check:\n",
    "    if is_valid_email(email_address):\n",
    "        print(f\"{email_address} is a valid email.\")\n",
    "    else:\n",
    "        print(f\"{email_address} is not a valid email.\")"
   ]
  },
  {
   "cell_type": "markdown",
   "metadata": {},
   "source": [
    "## Format Compliance for Phone Numbers\n",
    "\n",
    "**Description**: Verify if the phone numbers follow a specific pattern."
   ]
  },
  {
   "cell_type": "code",
   "execution_count": null,
   "metadata": {},
   "outputs": [],
   "source": [
    "\n",
    "import re\n",
    "def is_valid_phone_number(phone_number):\n",
    "    pattern = r\"^\\d{10}$\"\n",
    "    return bool(re.fullmatch(pattern, phone_number))\n",
    "phone_numbers_to_check = [\"1234567890\", \"987654321\", \"123-456-7890\", \"9988776655\"]\n",
    "for number in phone_numbers_to_check:\n",
    "    if is_valid_phone_number(number):\n",
    "        print(f\"{number} is a valid phone number.\")\n",
    "    else:\n",
    "        print(f\"{number} is not a valid phone number.\")"
   ]
  },
  {
   "cell_type": "markdown",
   "metadata": {},
   "source": [
    "## Checking Date Validity Format\n",
    "\n",
    "**Description**: Ensure the dates in a list adhere to a specific format (e.g., YYYY-MM-DD)."
   ]
  },
  {
   "cell_type": "code",
   "execution_count": null,
   "metadata": {},
   "outputs": [],
   "source": [
    "\n",
    "import re\n",
    "def is_valid_date(date_str):\n",
    "    pattern = r\"^\\d{4}-\\d{2}-\\d{2}$\"\n",
    "    return bool(re.fullmatch(pattern, date_str))\n",
    "dates_to_check = [\"2023-10-26\", \"2024-01-05\", \"2022/12/31\", \"2025-5-12\"]\n",
    "for date in dates_to_check:\n",
    "    if is_valid_date(date):\n",
    "        print(f\"{date} is a valid date.\")\n",
    "    else:\n",
    "        print(f\"{date} is not a valid date.\")"
   ]
  }
 ],
 "metadata": {
  "kernelspec": {
   "display_name": "Python 3",
   "language": "python",
   "name": "python3"
  },
  "language_info": {
   "codemirror_mode": {
    "name": "ipython",
    "version": 3
   },
   "file_extension": ".py",
   "mimetype": "text/x-python",
   "name": "python",
   "nbconvert_exporter": "python",
   "pygments_lexer": "ipython3",
   "version": "3.10.12"
  }
 },
 "nbformat": 4,
 "nbformat_minor": 2
}
