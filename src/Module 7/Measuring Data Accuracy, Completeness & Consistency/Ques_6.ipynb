{
 "cells": [
  {
   "cell_type": "markdown",
   "metadata": {},
   "source": [
    "## Architecture to Monitor Data Quality Over Time\n",
    "\n",
    "**Description**: Design a monitoring system in Python that checks and logs data quality metrics (accuracy, completeness) for a dataset over time.\n",
    "\n",
    "**Steps to follow:**\n",
    "1. Implement a Scheduled Script:\n",
    "    - Use schedule library to periodically run a script.\n",
    "2. Script to Calculate Metrics:\n",
    "    - For simplicity, use a function calculate_quality_metrics() that calculates and logs metrics such as missing rate or mismatch rate.\n",
    "3. Store Logs:\n",
    "    - Use Python's logging library to save these metrics over time."
   ]
  },
  {
   "cell_type": "code",
   "execution_count": null,
   "metadata": {},
   "outputs": [
    {
     "ename": "KeyboardInterrupt",
     "evalue": "",
     "output_type": "error",
     "traceback": [
      "\u001b[0;31m---------------------------------------------------------------------------\u001b[0m",
      "\u001b[0;31mKeyboardInterrupt\u001b[0m                         Traceback (most recent call last)",
      "Cell \u001b[0;32mIn[2], line 81\u001b[0m\n\u001b[1;32m     79\u001b[0m \u001b[38;5;28;01mwhile\u001b[39;00m \u001b[38;5;28;01mTrue\u001b[39;00m:\n\u001b[1;32m     80\u001b[0m     schedule\u001b[38;5;241m.\u001b[39mrun_pending()\n\u001b[0;32m---> 81\u001b[0m     \u001b[43mtime\u001b[49m\u001b[38;5;241;43m.\u001b[39;49m\u001b[43msleep\u001b[49m\u001b[43m(\u001b[49m\u001b[38;5;241;43m1\u001b[39;49m\u001b[43m)\u001b[49m\n",
      "\u001b[0;31mKeyboardInterrupt\u001b[0m: "
     ]
    }
   ],
   "source": [
    "# Write your code from here\n",
    "# Write your code from here\n",
    "import schedule\n",
    "import time\n",
    "import pandas as pd\n",
    "import logging\n",
    "from datetime import datetime\n",
    "logging.basicConfig(filename='data_quality_monitoring.log', level=logging.INFO,\n",
    "                    format='%(asctime)s - %(levelname)s - %(message)s')\n",
    "\n",
    "DATA_FILE = 'your_dataset.csv'  # Replace with your actual data file\n",
    "TRUSTED_DATA_FILE = 'trusted_dataset.csv' # Replace with your trusted data file (if needed for accuracy)\n",
    "ID_COLUMN = 'id'      # Replace with your unique identifier column name (if applicable for joins)\n",
    "COMPLETENESS_COLUMNS = ['column_a', 'column_b', 'column_c'] # Replace with columns for completeness check\n",
    "ACCURACY_COLUMN = 'data_value' # Replace with the column to check for accuracy against trusted data\n",
    "TRUSTED_VALUE_COLUMN = 'trusted_value' # Replace with the column in the trusted dataset\n",
    "def calculate_completeness(df, columns):\n",
    "    \"\"\"Calculates the completeness rate for specified columns.\"\"\"\n",
    "    completeness_metrics = {}\n",
    "    total_rows = len(df)\n",
    "    if total_rows > 0:\n",
    "        for col in columns:\n",
    "            missing_count = df[col].isnull().sum()\n",
    "            completeness_rate = ((total_rows - missing_count) / total_rows) * 100\n",
    "            completeness_metrics[f'completeness_{col}'] = f\"{completeness_rate:.2f}%\"\n",
    "    return completeness_metrics\n",
    "def calculate_accuracy(df, trusted_df, id_col, data_col, trusted_col):\n",
    "    \"\"\"Calculates accuracy by comparing a column with a trusted source.\"\"\"\n",
    "    accuracy_metrics = {}\n",
    "    if trusted_df is not None and not trusted_df.empty and id_col in df.columns and data_col in df.columns and id_col in trusted_df.columns and trusted_col in trusted_df.columns:\n",
    "        merged_df = pd.merge(df[[id_col, data_col]], trusted_df[[id_col, trusted_col]], on=id_col, suffixes=('_current', '_trusted'), how='inner')\n",
    "        if not merged_df.empty:\n",
    "            mismatches = merged_df[merged_df[f'{data_col}_current'] != merged_df[f'{trusted_col}_trusted']]\n",
    "            total_compared = len(merged_df)\n",
    "            mismatch_rate = (len(mismatches) / total_compared) * 100 if total_compared > 0 else 0\n",
    "            accuracy_metrics[f'accuracy_{data_col}'] = f\"{100 - mismatch_rate:.2f}%\"\n",
    "            accuracy_metrics[f'mismatch_rate_{data_col}'] = f\"{mismatch_rate:.2f}%\"\n",
    "    return accuracy_metrics\n",
    "\n",
    "def calculate_quality_metrics():\n",
    "    \"\"\"Calculates and logs data quality metrics.\"\"\"\n",
    "    try:\n",
    "        df = pd.read_csv(DATA_FILE)\n",
    "        logging.info(f\"Data loaded successfully from {DATA_FILE} at {datetime.now()}\")\n",
    "\n",
    "        completeness = calculate_completeness(df, COMPLETENESS_COLUMNS)\n",
    "        for metric, value in completeness.items():\n",
    "            logging.info(f\"Metric: {metric}, Value: {value}\")\n",
    "\n",
    "        trusted_df = None\n",
    "        if TRUSTED_DATA_FILE:\n",
    "            try:\n",
    "                trusted_df = pd.read_csv(TRUSTED_DATA_FILE)\n",
    "                logging.info(f\"Trusted data loaded successfully from {TRUSTED_DATA_FILE}\")\n",
    "                accuracy = calculate_accuracy(df, trusted_df, ID_COLUMN, ACCURACY_COLUMN, TRUSTED_VALUE_COLUMN)\n",
    "                for metric, value in accuracy.items():\n",
    "                    logging.info(f\"Metric: {metric}, Value: {value}\")\n",
    "            except FileNotFoundError:\n",
    "                logging.warning(f\"Trusted data file {TRUSTED_DATA_FILE} not found. Skipping accuracy checks.\")\n",
    "            except Exception as e:\n",
    "                logging.error(f\"Error loading trusted data: {e}\")\n",
    "\n",
    "    except FileNotFoundError:\n",
    "        logging.error(f\"Data file {DATA_FILE} not found.\")\n",
    "    except Exception as e:\n",
    "        logging.error(f\"Error calculating data quality metrics: {e}\")\n",
    "\n",
    "# 1. Implement a Scheduled Script:\n",
    "schedule.every().hour.do(calculate_quality_metrics)\n",
    "# schedule.every().day.at(\"09:00\").do(calculate_quality_metrics)\n",
    "# schedule.every(15).minutes.do(calculate_quality_metrics)\n",
    "\n",
    "if __name__ == \"__main__\":\n",
    "    logging.info(\"Data Quality Monitoring system started.\")\n",
    "    while True:\n",
    "        schedule.run_pending()\n",
    "        time.sleep(1)\n"
   ]
  }
 ],
 "metadata": {
  "kernelspec": {
   "display_name": "Python 3",
   "language": "python",
   "name": "python3"
  },
  "language_info": {
   "codemirror_mode": {
    "name": "ipython",
    "version": 3
   },
   "file_extension": ".py",
   "mimetype": "text/x-python",
   "name": "python",
   "nbconvert_exporter": "python",
   "pygments_lexer": "ipython3",
   "version": "3.10.12"
  }
 },
 "nbformat": 4,
 "nbformat_minor": 2
}
