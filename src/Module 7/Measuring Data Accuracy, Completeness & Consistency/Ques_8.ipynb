{
 "cells": [
  {
   "cell_type": "markdown",
   "metadata": {},
   "source": [
    "# Measuring Data Accuracy\n",
    "\n",
    "**Activity Overview**: Assess data accuracy by comparing it to a trusted source and detecting incorrect values or mismatches.\n",
    "\n",
    "## Title: Product Pricing\n",
    "\n",
    "**Task**: Compare a dataset of product prices with the latest official price list.\n",
    "\n",
    "**Steps**:\n",
    "1. Obtain the latest product price list from the official company website.\n",
    "2. Compare the dataset's product prices against the verified list.\n",
    "3. Identify any discrepancies and mark them for correction."
   ]
  },
  {
   "cell_type": "code",
   "execution_count": 1,
   "metadata": {},
   "outputs": [
    {
     "name": "stdout",
     "output_type": "stream",
     "text": [
      "Discrepant Records:\n",
      "Empty DataFrame\n",
      "Columns: [product_id, price_dataset, price_trusted]\n",
      "Index: []\n"
     ]
    }
   ],
   "source": [
    "# Write your code from here\n",
    "\n",
    "import pandas as pd\n",
    "dataset_prices = pd.read_csv(\"company_prices.csv\")       \n",
    "trusted_prices = pd.read_csv(\"trusted_prices.csv\")         \n",
    "merged = pd.merge(dataset_prices, trusted_prices, on=\"product_id\", suffixes=('_dataset', '_trusted'))\n",
    "merged['price_match'] = merged['price_dataset'] == merged['price_trusted']\n",
    "discrepancies = merged[~merged['price_match']]\n",
    "print(\"Discrepant Records:\")\n",
    "print(discrepancies[['product_id', 'price_dataset', 'price_trusted']])\n"
   ]
  }
 ],
 "metadata": {
  "kernelspec": {
   "display_name": "Python 3",
   "language": "python",
   "name": "python3"
  },
  "language_info": {
   "codemirror_mode": {
    "name": "ipython",
    "version": 3
   },
   "file_extension": ".py",
   "mimetype": "text/x-python",
   "name": "python",
   "nbconvert_exporter": "python",
   "pygments_lexer": "ipython3",
   "version": "3.10.12"
  }
 },
 "nbformat": 4,
 "nbformat_minor": 2
}
