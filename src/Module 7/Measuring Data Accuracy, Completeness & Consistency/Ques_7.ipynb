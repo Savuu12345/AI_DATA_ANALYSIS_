{
 "cells": [
  {
   "cell_type": "markdown",
   "metadata": {},
   "source": [
    "## Advanced Consistency Check with Hierarchical Data\n",
    "\n",
    "**Description**: You have two datasets `orders.csv` and `order_items.csv` . Perform a consistency check to ensure each order in `orders.csv` has corresponding items in `order_items.csv` ."
   ]
  },
  {
   "cell_type": "code",
   "execution_count": null,
   "metadata": {},
   "outputs": [
    {
     "name": "stdout",
     "output_type": "stream",
     "text": [
      "Orders found in the orders file without corresponding items in the order items file:\n",
      "   order_id\n",
      "0       104\n"
     ]
    }
   ],
   "source": [
    "# Write your code from here\n",
    "# Write your code from here\n",
    "import pandas as pd\n",
    "\n",
    "def check_order_item_consistency(orders_file, order_items_file, order_id_column='order_id'):\n",
    "    \"\"\"\n",
    "    Checks for consistency between orders and order items datasets,\n",
    "    ensuring each order in the orders file has corresponding items\n",
    "    in the order items file.\n",
    "\n",
    "    Args:\n",
    "        orders_file (str): Path to the CSV file containing order data.\n",
    "        order_items_file (str): Path to the CSV file containing order item data.\n",
    "        order_id_column (str, optional): The common column linking orders and items.\n",
    "                                        Defaults to 'order_id'.\n",
    "    Returns:\n",
    "        pandas.DataFrame: A DataFrame containing order IDs from the orders file\n",
    "                          that do not have any corresponding entries in the\n",
    "                          order items file. Returns None if files are not found.\n",
    "    \"\"\"\n",
    "    try:\n",
    "        orders_df = pd.read_csv(orders_file)\n",
    "        order_items_df = pd.read_csv(order_items_file)\n",
    "    except FileNotFoundError as e:\n",
    "        print(f\"Error: One or both files not found: {e}\")\n",
    "        return None\n",
    "    if order_id_column not in orders_df.columns:\n",
    "        print(f\"Error: Order ID column '{order_id_column}' not found in {orders_file}.\")\n",
    "        return None\n",
    "    if order_id_column not in order_items_df.columns:\n",
    "        print(f\"Error: Order ID column '{order_id_column}' not found in {order_items_file}.\")\n",
    "        return None\n",
    "    all_orders = set(orders_df[order_id_column])\n",
    "    orders_with_items = set(order_items_df[order_id_column])\n",
    "    orders_without_items = all_orders - orders_with_items\n",
    "    if orders_without_items:\n",
    "        print(\"Orders found in the orders file without corresponding items in the order items file:\")\n",
    "        return pd.DataFrame({order_id_column: list(orders_without_items)})\n",
    "    else:\n",
    "        print(\"Consistency check passed: All orders in the orders file have corresponding items in the order items file.\")\n",
    "        return pd.DataFrame({order_id_column: []})\n",
    "\n",
    "orders_data = {'order_id': [101, 102, 103, 104, 105],\n",
    "               'customer_id': [1, 2, 1, 3, 2],\n",
    "               'order_date': ['2025-05-01', '2025-05-02', '2025-05-02', '2025-05-03', '2025-05-04']}\n",
    "order_items_data = {'item_id': [1, 2, 3, 4, 5, 6, 7],\n",
    "                    'order_id': [101, 101, 102, 102, 103, 105, 105],\n",
    "                    'product_id': ['A', 'B', 'B', 'C', 'A', 'D', 'E'],\n",
    "                    'quantity': [2, 1, 3, 2, 1, 1, 2]}\n",
    "orders_df = pd.DataFrame(orders_data)\n",
    "order_items_df = pd.DataFrame(order_items_data)\n",
    "orders_df.to_csv('orders.csv', index=False)\n",
    "order_items_df.to_csv('order_items.csv', index=False)\n",
    "inconsistent_orders = check_order_item_consistency('orders.csv', 'order_items.csv')\n",
    "if inconsistent_orders is not None and not inconsistent_orders.empty:\n",
    "    print(inconsistent_orders)"
   ]
  }
 ],
 "metadata": {
  "kernelspec": {
   "display_name": "Python 3",
   "language": "python",
   "name": "python3"
  },
  "language_info": {
   "codemirror_mode": {
    "name": "ipython",
    "version": 3
   },
   "file_extension": ".py",
   "mimetype": "text/x-python",
   "name": "python",
   "nbconvert_exporter": "python",
   "pygments_lexer": "ipython3",
   "version": "3.10.12"
  }
 },
 "nbformat": 4,
 "nbformat_minor": 2
}
