{
 "cells": [
  {
   "cell_type": "markdown",
   "metadata": {},
   "source": [
    "# Measuring Completeness\n",
    "\n",
    "**Activity Overview**: Evaluate data completeness by checking missing data rates and handling partially available records.\n",
    "\n",
    "## Title: Customer Profiles\n",
    "\n",
    "**Task**: Calculate the missing data rate for customer profiles.\n",
    "\n",
    "**Steps**:\n",
    "1. List all required fields for a complete customer profile (e.g., name, address, email,\n",
    "phone number).\n",
    "2. Analyze the dataset to count how many profiles have missing fields.\n",
    "3. Calculate the percentage of missing data fields across all profiles."
   ]
  },
  {
   "cell_type": "code",
   "execution_count": 1,
   "metadata": {},
   "outputs": [
    {
     "name": "stdout",
     "output_type": "stream",
     "text": [
      "Number of profiles with at least one missing required field: 4\n",
      "Overall percentage of missing required fields: 25.00%\n"
     ]
    }
   ],
   "source": [
    "# Write your code from here\n",
    "# Write your code from here\n",
    "import pandas as pd\n",
    "\n",
    "def calculate_missing_profile_rate(file_path, required_fields):\n",
    "    \"\"\"\n",
    "    Calculates the missing data rate for required fields in customer profiles.\n",
    "\n",
    "    Args:\n",
    "        file_path (str): Path to the CSV file containing customer profile data.\n",
    "        required_fields (list): A list of strings representing the names of the\n",
    "                                 required fields for a complete profile.\n",
    "    Returns:\n",
    "        tuple: A tuple containing:\n",
    "            - int: The number of profiles with at least one missing required field.\n",
    "            - float: The overall percentage of missing required fields across all profiles.\n",
    "                   Returns None, None if the file is not found or DataFrame is empty.\n",
    "    \"\"\"\n",
    "    try:\n",
    "        df = pd.read_csv(file_path)\n",
    "    except FileNotFoundError:\n",
    "        print(f\"Error: File not found at '{file_path}'\")\n",
    "        return None, None\n",
    "    if df.empty:\n",
    "        print(\"Error: The DataFrame is empty.\")\n",
    "        return None, None\n",
    "    missing_profile_count = 0\n",
    "    total_required_fields_count = 0\n",
    "    total_missing_fields_count = 0\n",
    "\n",
    "    for index, row in df.iterrows():\n",
    "        has_missing = False\n",
    "        for field in required_fields:\n",
    "            if field not in df.columns:\n",
    "                print(f\"Warning: Required field '{field}' not found in the dataset.\")\n",
    "                continue  # Skip this field for this analysis\n",
    "\n",
    "            if pd.isnull(row[field]):\n",
    "                has_missing = True\n",
    "                total_missing_fields_count += 1\n",
    "            total_required_fields_count += 1\n",
    "\n",
    "        if has_missing:\n",
    "            missing_profile_count += 1\n",
    "\n",
    "    overall_missing_percentage = (total_missing_fields_count / total_required_fields_count) * 100 if total_required_fields_count > 0 else 0\n",
    "\n",
    "    return missing_profile_count, overall_missing_percentage\n",
    "\n",
    "# Example Usage\n",
    "file_path = 'customer_profiles.csv'\n",
    "required_fields = ['name', 'address', 'email', 'phone_number']\n",
    "\n",
    "# Create a dummy CSV for demonstration\n",
    "data = {'customer_id': [1, 2, 3, 4, 5],\n",
    "        'name': ['Alice', 'Bob', None, 'Charlie', 'David'],\n",
    "        'address': ['123 Main St', None, '789 Pine Ln', '456 Oak Ave', '101 Elm Rd'],\n",
    "        'email': ['alice@example.com', 'bob@example.com', 'charlie@example.com', None, 'david@example.com'],\n",
    "        'phone_number': ['123-456-7890', None, '555-123-4567', '987-654-3210', None],\n",
    "        'age': [25, 30, None, 35, 28]}\n",
    "df = pd.DataFrame(data)\n",
    "df.to_csv(file_path, index=False)\n",
    "\n",
    "missing_profiles, missing_percentage = calculate_missing_profile_rate(file_path, required_fields)\n",
    "\n",
    "if missing_profiles is not None:\n",
    "    print(f\"Number of profiles with at least one missing required field: {missing_profiles}\")\n",
    "    print(f\"Overall percentage of missing required fields: {missing_percentage:.2f}%\")"
   ]
  }
 ],
 "metadata": {
  "kernelspec": {
   "display_name": "Python 3",
   "language": "python",
   "name": "python3"
  },
  "language_info": {
   "codemirror_mode": {
    "name": "ipython",
    "version": 3
   },
   "file_extension": ".py",
   "mimetype": "text/x-python",
   "name": "python",
   "nbconvert_exporter": "python",
   "pygments_lexer": "ipython3",
   "version": "3.10.12"
  }
 },
 "nbformat": 4,
 "nbformat_minor": 2
}
