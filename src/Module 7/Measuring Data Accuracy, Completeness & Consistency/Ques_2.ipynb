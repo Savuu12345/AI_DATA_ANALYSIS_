{
 "cells": [
  {
   "cell_type": "markdown",
   "metadata": {},
   "source": [
    "## Find Conflicting Values Across Datasets\n",
    "\n",
    "**Description**: You have two datasets: `crm_customers.csv` and `erp_customers.csv` . Find customers with conflicting \"email\" information."
   ]
  },
  {
   "cell_type": "code",
   "execution_count": null,
   "metadata": {},
   "outputs": [
    {
     "name": "stdout",
     "output_type": "stream",
     "text": [
      "Customers with conflicting email information:\n",
      "   customer_id        email_crm        email_erp\n",
      "1            2  bob@example.net  bob@example.com\n"
     ]
    }
   ],
   "source": [
    "\n",
    "\n",
    "import pandas as pd\n",
    "def find_conflicting_emails(crm_file, erp_file):\n",
    "    \"\"\"\n",
    "    Finds customers with conflicting \"email\" information across two datasets\n",
    "    based on a common identifier (\"customer_id\").\n",
    "\n",
    "    Args:\n",
    "        crm_file (str): Path to the CSV file containing CRM customer data.\n",
    "        erp_file (str): Path to the CSV file containing ERP customer data.\n",
    "\n",
    "    Returns:\n",
    "        pandas.DataFrame: A DataFrame containing customers with conflicting emails,\n",
    "                          including customer_id, email from CRM, and email from ERP.\n",
    "                          Returns None if files are not found or no conflicts are found.\n",
    "    \"\"\"\n",
    "    try:\n",
    "        crm_df = pd.read_csv(crm_file)\n",
    "        erp_df = pd.read_csv(erp_file)\n",
    "    except FileNotFoundError as e:\n",
    "        print(f\"Error: One or both files not found: {e}\")\n",
    "        return None\n",
    "    if 'customer_id' not in crm_df.columns or 'email' not in crm_df.columns:\n",
    "        print(\"Error: 'customer_id' or 'email' column missing in CRM data.\")\n",
    "        return None\n",
    "    if 'customer_id' not in erp_df.columns or 'email' not in erp_df.columns:\n",
    "        print(\"Error: 'customer_id' or 'email' column missing in ERP data.\")\n",
    "        return None\n",
    "    merged_df = pd.merge(crm_df, erp_df, on='customer_id', suffixes=('_crm', '_erp'))\n",
    "    if merged_df.empty:\n",
    "        print(\"No matching customer IDs found between the CRM and ERP datasets.\")\n",
    "        return pd.DataFrame()\n",
    "    conflicting_emails_df = merged_df[merged_df['email_crm'] != merged_df['email_erp']]\n",
    "    if not conflicting_emails_df.empty:\n",
    "        print(\"Customers with conflicting email information:\")\n",
    "        return conflicting_emails_df[['customer_id', 'email_crm', 'email_erp']]\n",
    "    else:\n",
    "        print(\"No conflicting email information found across the datasets for matching customers.\")\n",
    "        return pd.DataFrame()\n",
    "crm_data = {'customer_id': [1, 2, 3, 4, 5],\n",
    "            'name': ['Alice', 'Bob', 'Charlie', 'David', 'Eve'],\n",
    "            'email': ['alice@example.com', 'bob@example.net', 'charlie@example.org', 'david@example.com', 'eve@example.net']}\n",
    "erp_data = {'customer_id': [1, 2, 3, 6, 5],\n",
    "            'product': ['A', 'B', 'C', 'D', 'E'],\n",
    "            'email': ['alice@example.com', 'bob@example.com', 'charlie@example.org', 'frank@example.org', 'eve@example.net']}\n",
    "crm_df = pd.DataFrame(crm_data)\n",
    "erp_df = pd.DataFrame(erp_data)\n",
    "crm_df.to_csv('crm_customers.csv', index=False)\n",
    "erp_df.to_csv('erp_customers.csv', index=False)\n",
    "conflicts_report = find_conflicting_emails('crm_customers.csv', 'erp_customers.csv')\n",
    "if conflicts_report is not None:\n",
    "    print(conflicts_report)"
   ]
  }
 ],
 "metadata": {
  "kernelspec": {
   "display_name": "Python 3",
   "language": "python",
   "name": "python3"
  },
  "language_info": {
   "codemirror_mode": {
    "name": "ipython",
    "version": 3
   },
   "file_extension": ".py",
   "mimetype": "text/x-python",
   "name": "python",
   "nbconvert_exporter": "python",
   "pygments_lexer": "ipython3",
   "version": "3.10.12"
  }
 },
 "nbformat": 4,
 "nbformat_minor": 2
}
