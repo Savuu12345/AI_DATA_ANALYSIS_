{
 "cells": [
  {
   "cell_type": "markdown",
   "metadata": {},
   "source": [
    "## Ensuring Consistency in Multi-source Data Integration\n",
    "\n",
    "**Description**: Validate the integration of two datasets `products_A.csv` and `products_B.csv` . Ensure consistency in product \"category\" information."
   ]
  },
  {
   "cell_type": "code",
   "execution_count": 1,
   "metadata": {},
   "outputs": [
    {
     "name": "stdout",
     "output_type": "stream",
     "text": [
      "Products with inconsistent category information:\n",
      "   product_id   category_A  category_B\n",
      "2           3  Electronics  Appliances\n"
     ]
    }
   ],
   "source": [
    "# Write your code from here\n",
    "# Write your code from here\n",
    "import pandas as pd\n",
    "\n",
    "def validate_category_consistency(file_a, file_b, join_column='product_id'):\n",
    "    \"\"\"\n",
    "    Validates the consistency of product \"category\" information between two datasets\n",
    "    based on a common join column (default: 'product_id').\n",
    "\n",
    "    Args:\n",
    "        file_a (str): Path to the CSV file for dataset A.\n",
    "        file_b (str): Path to the CSV file for dataset B.\n",
    "        join_column (str, optional): The column to join the two datasets on.\n",
    "                                     Defaults to 'product_id'.\n",
    "\n",
    "    Returns:\n",
    "        pandas.DataFrame: A DataFrame showing products with inconsistent categories,\n",
    "                          including the join column and the category from each dataset.\n",
    "                          Returns None if files are not found or no conflicts are found.\n",
    "    \"\"\"\n",
    "    try:\n",
    "        df_a = pd.read_csv(file_a)\n",
    "        df_b = pd.read_csv(file_b)\n",
    "    except FileNotFoundError as e:\n",
    "        print(f\"Error: One or both files not found: {e}\")\n",
    "        return None\n",
    "\n",
    "    # Check if required columns exist in both DataFrames\n",
    "    if join_column not in df_a.columns or 'category' not in df_a.columns:\n",
    "        print(f\"Error: '{join_column}' or 'category' column missing in {file_a}.\")\n",
    "        return None\n",
    "    if join_column not in df_b.columns or 'category' not in df_b.columns:\n",
    "        print(f\"Error: '{join_column}' or 'category' column missing in {file_b}.\")\n",
    "        return None\n",
    "    merged_df = pd.merge(df_a, df_b, on=join_column, suffixes=('_A', '_B'))\n",
    "    if merged_df.empty:\n",
    "        print(f\"No matching entries found between {file_a} and {file_b} based on '{join_column}'.\")\n",
    "        return pd.DataFrame()\n",
    "    inconsistent_categories_df = merged_df[merged_df['category_A'] != merged_df['category_B']]\n",
    "\n",
    "    if not inconsistent_categories_df.empty:\n",
    "        print(\"Products with inconsistent category information:\")\n",
    "        return inconsistent_categories_df[[join_column, 'category_A', 'category_B']]\n",
    "    else:\n",
    "        print(\"No inconsistencies found in product category information across the datasets.\")\n",
    "        return pd.DataFrame()\n",
    "data_a = {'product_id': [1, 2, 3, 4, 5],\n",
    "          'name_A': ['Product 1A', 'Product 2A', 'Product 3A', 'Product 4A', 'Product 5A'],\n",
    "          'category': ['Electronics', 'Books', 'Electronics', 'Clothing', 'Books']}\n",
    "data_b = {'product_id': [1, 2, 3, 6, 5],\n",
    "          'description_B': ['Desc 1B', 'Desc 2B', 'Desc 3B', 'Desc 6B', 'Desc 5B'],\n",
    "          'category': ['Electronics', 'Books', 'Appliances', 'Clothing', 'Books']}\n",
    "\n",
    "df_a = pd.DataFrame(data_a)\n",
    "df_b = pd.DataFrame(data_b)\n",
    "\n",
    "df_a.to_csv('products_A.csv', index=False)\n",
    "df_b.to_csv('products_B.csv', index=False)\n",
    "\n",
    "# Validate category consistency\n",
    "inconsistent_report = validate_category_consistency('products_A.csv', 'products_B.csv')\n",
    "\n",
    "if inconsistent_report is not None:\n",
    "    print(inconsistent_report)\n"
   ]
  }
 ],
 "metadata": {
  "kernelspec": {
   "display_name": "Python 3",
   "language": "python",
   "name": "python3"
  },
  "language_info": {
   "codemirror_mode": {
    "name": "ipython",
    "version": 3
   },
   "file_extension": ".py",
   "mimetype": "text/x-python",
   "name": "python",
   "nbconvert_exporter": "python",
   "pygments_lexer": "ipython3",
   "version": "3.10.12"
  }
 },
 "nbformat": 4,
 "nbformat_minor": 2
}
