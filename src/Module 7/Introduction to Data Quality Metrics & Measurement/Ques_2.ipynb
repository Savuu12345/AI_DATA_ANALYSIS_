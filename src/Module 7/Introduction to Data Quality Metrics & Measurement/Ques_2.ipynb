{
 "cells": [
  {
   "cell_type": "markdown",
   "metadata": {},
   "source": [
    "## Data Quality Framework Implementation\n",
    "\n",
    "**Description**: Implement a simple data quality measurement framework using ISO 8000 principles to assess key dimensions in a dataset."
   ]
  },
  {
   "cell_type": "code",
   "execution_count": null,
   "metadata": {},
   "outputs": [
    {
     "name": "stdout",
     "output_type": "stream",
     "text": [
      "{'Completeness': id              1.00\n",
      "name            0.75\n",
      "status          1.00\n",
      "email           1.00\n",
      "last_updated    1.00\n",
      "dtype: float64, 'Uniqueness': np.float64(0.75), 'Consistency': {'status': np.float64(0.75)}, 'Accuracy': {'email': np.float64(0.75)}, 'Timeliness': np.float64(0.5)}\n"
     ]
    },
    {
     "data": {
      "text/plain": [
       "{'Completeness': {'id': 1.0,\n",
       "  'name': 0.75,\n",
       "  'status': 1.0,\n",
       "  'email': 1.0,\n",
       "  'last_updated': 1.0},\n",
       " 'Uniqueness': 0.75,\n",
       " 'Consistency': {'status': 0.75},\n",
       " 'Accuracy': {'email': 0.75},\n",
       " 'Timeliness': 0.5}"
      ]
     },
     "execution_count": 1,
     "metadata": {},
     "output_type": "execute_result"
    }
   ],
   "source": [
    "# Write a conceptual framework described in Python pseudo-code:\n",
    "# Write a conceptual framework described in Python pseudo-code\n",
    "import pandas as pd\n",
    "class DataQualityFramework:\n",
    "    def __init__(self, df):\n",
    "        self.df = df\n",
    "        self.results = {}\n",
    "    def assess_completeness(self):\n",
    "        completeness = 1 - self.df.isnull().mean()\n",
    "        self.results['Completeness'] = completeness\n",
    "    def assess_uniqueness(self, subset=None):\n",
    "        duplicate_ratio = 1 - self.df.duplicated(subset=subset).mean()\n",
    "        self.results['Uniqueness'] = duplicate_ratio\n",
    "    def assess_consistency(self, column, valid_values):\n",
    "        consistency = self.df[column].isin(valid_values).mean()\n",
    "        self.results.setdefault('Consistency', {})[column] = consistency\n",
    "    def assess_accuracy(self, column, validation_func):\n",
    "        accuracy = self.df[column].apply(validation_func).mean()\n",
    "        self.results.setdefault('Accuracy', {})[column] = accuracy\n",
    "    def assess_timeliness(self, column, max_age_days):\n",
    "        from datetime import datetime, timedelta\n",
    "        today = pd.Timestamp(datetime.now().date())\n",
    "        timeliness = (self.df[column] >= (today - pd.Timedelta(days=max_age_days))).mean()\n",
    "        self.results['Timeliness'] = timeliness\n",
    "    def report(self):\n",
    "        return self.results\n",
    "data = {\n",
    "    'id': [1, 2, 2, 4],\n",
    "    'name': ['Alice', 'Bob', 'Bob', None],\n",
    "    'status': ['active', 'inactive', 'active', 'archived'],\n",
    "    'email': ['a@example.com', 'b@example.com', 'b@example.com', 'bademail'],\n",
    "    'last_updated': pd.to_datetime(['2025-04-01', '2025-04-30', '2025-03-01', '2023-12-01'])\n",
    "}\n",
    "df = pd.DataFrame(data)\n",
    "dq = DataQualityFramework(df)\n",
    "dq.assess_completeness()\n",
    "dq.assess_uniqueness(subset=['id'])\n",
    "dq.assess_consistency('status', ['active', 'inactive'])\n",
    "dq.assess_accuracy('email', lambda x: '@' in str(x) and '.' in str(x))\n",
    "dq.assess_timeliness('last_updated', max_age_days=60)\n",
    "print(dq.report())\n",
    "{\n",
    "  'Completeness': {'id': 1.0, 'name': 0.75, 'status': 1.0, 'email': 1.0, 'last_updated': 1.0},\n",
    "  'Uniqueness': 0.75,\n",
    "  'Consistency': {'status': 0.75},\n",
    "  'Accuracy': {'email': 0.75},\n",
    "  'Timeliness': 0.5\n",
    "}"
   ]
  }
 ],
 "metadata": {
  "kernelspec": {
   "display_name": "Python 3",
   "language": "python",
   "name": "python3"
  },
  "language_info": {
   "codemirror_mode": {
    "name": "ipython",
    "version": 3
   },
   "file_extension": ".py",
   "mimetype": "text/x-python",
   "name": "python",
   "nbconvert_exporter": "python",
   "pygments_lexer": "ipython3",
   "version": "3.10.12"
  }
 },
 "nbformat": 4,
 "nbformat_minor": 2
}
