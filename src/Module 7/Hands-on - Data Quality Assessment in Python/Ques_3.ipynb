{
 "cells": [
  {
   "cell_type": "markdown",
   "metadata": {},
   "source": [
    "## Check Uniqueness & Validity\n",
    "\n",
    "**Objective**: Evaluate data quality by checking for uniqueness and validity of data entries.\n",
    "\n",
    "For this activity, you will use a sample dataset students.csv that contains the following\n",
    "columns: ID , Name , Age , Grade , Email .\n",
    "\n",
    "**Steps**:\n",
    "1. Check Uniqueness\n",
    "    - Unique IDs\n",
    "    - Unique Email Addresses\n",
    "    - Unique Combination\n",
    "\n",
    "2. Check Validity\n",
    "    - Validate Age Range\n",
    "    - Validate Grade Scale\n",
    "    - Validate Name Format"
   ]
  },
  {
   "cell_type": "code",
   "execution_count": null,
   "metadata": {},
   "outputs": [],
   "source": [
    "\n",
    "import pandas as pd\n",
    "import re\n",
    "data = {\n",
    "    'ID': [1, 2, 3, 4, 5, 6, 1],  \n",
    "    'Name': ['John Doe', 'Jane Smith', 'Bob Johnson', 'Alice Brown', 'Tom Wilson', 'Sarah Connor', 'Duplicate John'],\n",
    "    'Age': [20, 21, 19, 22, 23, 150, 20],  \n",
    "    'Grade': ['A', 'B', 'C', 'D', 'F', 'X', 'A'], \n",
    "    'Email': ['john@example.com', 'jane@example.com', 'bob@example.com', \n",
    "              'alice@example.com', 'tom@example.com', 'sarah@example.com', 'john@example.com']  \n",
    "}\n",
    "df = pd.DataFrame(data)\n",
    "def check_uniqueness(df):\n",
    "    print(\"\\n=== UNIQUENESS CHECKS ===\")\n",
    "    duplicate_ids = df[df.duplicated('ID', keep=False)]\n",
    "    print(\"\\nDuplicate IDs:\")\n",
    "    print(duplicate_ids[['ID', 'Name']] if not duplicate_ids.empty else \"No duplicate IDs found\")\n",
    "    duplicate_emails = df[df.duplicated('Email', keep=False)]\n",
    "    print(\"\\nDuplicate Emails:\")\n",
    "    print(duplicate_emails[['Email', 'Name']] if not duplicate_emails.empty else \"No duplicate emails found\")\n",
    "    duplicate_combos = df[df.duplicated(['Name', 'Email'], keep=False)]\n",
    "    print(\"\\nDuplicate Name-Email Combinations:\")\n",
    "    print(duplicate_combos[['Name', 'Email']] if not duplicate_combos.empty else \"No duplicate combinations found\")\n",
    "def check_validity(df):\n",
    "    print(\"\\n=== VALIDITY CHECKS ===\")\n",
    "    invalid_ages = df[(df['Age'] < 15) | (df['Age'] > 30)]\n",
    "    print(\"\\nInvalid Ages (outside 15-30 range):\")\n",
    "    print(invalid_ages[['ID', 'Name', 'Age']] if not invalid_ages.empty else \"All ages valid\")\n",
    "    valid_grades = ['A', 'B', 'C', 'D', 'F']\n",
    "    invalid_grades = df[~df['Grade'].isin(valid_grades)]\n",
    "    print(\"\\nInvalid Grades (not A-F):\")\n",
    "    print(invalid_grades[['ID', 'Name', 'Grade']] if not invalid_grades.empty else \"All grades valid\")\n",
    "    invalid_names = df[~df['Name'].str.contains(r'^\\w+\\s+\\w+', na=True)]\n",
    "    print(\"\\nInvalid Name Formats (missing last name):\")\n",
    "    print(invalid_names[['ID', 'Name']] if not invalid_names.empty else \"All names valid\")\n",
    "check_uniqueness(df)\n",
    "check_validity(df)"
   ]
  }
 ],
 "metadata": {
  "kernelspec": {
   "display_name": "Python 3",
   "language": "python",
   "name": "python3"
  },
  "language_info": {
   "codemirror_mode": {
    "name": "ipython",
    "version": 3
   },
   "file_extension": ".py",
   "mimetype": "text/x-python",
   "name": "python",
   "nbconvert_exporter": "python",
   "pygments_lexer": "ipython3",
   "version": "3.10.12"
  }
 },
 "nbformat": 4,
 "nbformat_minor": 2
}
