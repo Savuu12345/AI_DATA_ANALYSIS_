{
 "cells": [
  {
   "cell_type": "markdown",
   "metadata": {},
   "source": [
    "## Check Accuracy & Completeness\n",
    "\n",
    "**Objective**: Learn to assess data quality by checking for accuracy and completeness using Python.\n",
    "\n",
    "For this, you will use a sample dataset students.csv that contains the following\n",
    "columns: ID , Name , Age , Grade , Email .\n",
    "\n",
    "**Steps**:\n",
    "1. Check Accuracy\n",
    "    - Verify Numerical Data Accuracy\n",
    "    - Validate Email Format\n",
    "    - Integer Accuracy Check for Age\n",
    "2. Check Completeness\n",
    "    - Identify Missing Values\n",
    "    - Rows with Missing Data\n",
    "    - Column Specific Missing Value Check"
   ]
  },
  {
   "cell_type": "code",
   "execution_count": null,
   "metadata": {},
   "outputs": [],
   "source": [
    "import pandas as pd\n",
    "import re\n",
    "data = {\n",
    "    'ID': [1, 2, 3, 4, 5, 6, 7],\n",
    "    'Name': ['John Doe', 'Jane Smith', 'Bob Johnson', 'Alice Brown', 'Tom Wilson', None, 'Mike Davis'],\n",
    "    'Age': [20, 21, None, 22, 23.5, 24, 25],\n",
    "    'Grade': ['A', 'B', 'C', None, 'D', 'E', 'F'],\n",
    "    'Email': ['john@example.com', 'jane@example.com', 'bob@example', 'alice@example.com', 'tom@example.com', 'not-an-email', 'mike@example.com']\n",
    "}\n",
    "df = pd.DataFrame(data)\n",
    "def check_accuracy(df):\n",
    "    print(\"\\n=== DATA ACCURACY CHECKS ===\")\n",
    "    print(\"\\nNumerical Data Statistics:\")\n",
    "    print(df[['Age']].describe())\n",
    "    print(\"\\nEmail Format Validation:\")\n",
    "    email_pattern = r'^[a-zA-Z0-9._%+-]+@[a-zA-Z0-9.-]+\\.[a-zA-Z]{2,}$'\n",
    "    valid_emails = df['Email'].apply(lambda x: bool(re.fullmatch(email_pattern, str(x))))\n",
    "    print(f\"Valid emails: {valid_emails.sum()}/{len(df)}\")\n",
    "    print(\"Invalid emails:\")\n",
    "    print(df[~valid_emails]['Email'])\n",
    "    print(\"\\nAge Integer Check:\")\n",
    "    non_integer_ages = df['Age'].apply(lambda x: not float(x).is_integer() if pd.notna(x) else False)\n",
    "    print(f\"Non-integer ages: {non_integer_ages.sum()}\")\n",
    "    print(df[non_integer_ages][['ID', 'Age']])\n",
    "def check_completeness(df):\n",
    "    print(\"\\n=== DATA COMPLETENESS CHECKS ===\")\n",
    "    print(\"\\nMissing Values per Column:\")\n",
    "    missing = df.isnull().sum()\n",
    "    print(missing)\n",
    "    print(\"\\nRows with Missing Data:\")\n",
    "    incomplete_rows = df[df.isnull().any(axis=1)]\n",
    "    print(incomplete_rows)\n",
    "    print(\"\\nMissing Value Percentages:\")\n",
    "    print(round(df.isnull().mean() * 100, 2))\n",
    "check_accuracy(df)\n",
    "check_completeness(df)"
   ]
  }
 ],
 "metadata": {
  "kernelspec": {
   "display_name": "Python 3",
   "language": "python",
   "name": "python3"
  },
  "language_info": {
   "codemirror_mode": {
    "name": "ipython",
    "version": 3
   },
   "file_extension": ".py",
   "mimetype": "text/x-python",
   "name": "python",
   "nbconvert_exporter": "python",
   "pygments_lexer": "ipython3",
   "version": "3.10.12"
  }
 },
 "nbformat": 4,
 "nbformat_minor": 2
}
