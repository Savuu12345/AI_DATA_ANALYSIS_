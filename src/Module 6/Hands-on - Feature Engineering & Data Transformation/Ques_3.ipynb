{
 "cells": [
  {
   "cell_type": "code",
   "execution_count": null,
   "metadata": {},
   "outputs": [
    {
     "name": "stdout",
     "output_type": "stream",
     "text": [
      "Transformed Data:\n",
      "    Mileage  Horsepower  Fuel_Type\n",
      "0 -0.083652   -0.524891          1\n",
      "1 -0.763321    0.641533          0\n",
      "2  1.641663   -1.399708          2\n",
      "3  0.439171   -0.233285          1\n",
      "4 -1.233861    1.516351          0\n",
      "\n",
      "Fuel Type Mapping:\n",
      "Diesel: 0\n",
      "Gasoline: 1\n",
      "Hybrid: 2\n",
      "\n",
      "Scaled Statistics:\n",
      "        Mileage  Horsepower\n",
      "count  5.000000    5.000000\n",
      "mean   0.000000    0.000000\n",
      "std    1.118034    1.118034\n",
      "min   -1.233861   -1.399708\n",
      "25%   -0.763321   -0.524891\n",
      "50%   -0.083652   -0.233285\n",
      "75%    0.439171    0.641533\n",
      "max    1.641663    1.516351\n"
     ]
    }
   ],
   "source": [
    "\n",
    "import pandas as pd\n",
    "from sklearn.preprocessing import StandardScaler, LabelEncoder\n",
    "sample_data = \"\"\"\n",
    "Mileage,Horsepower,Fuel_Type\n",
    "45000,180,Gasoline\n",
    "32000,220,Diesel\n",
    "78000,150,Hybrid\n",
    "55000,190,Gasoline\n",
    "23000,250,Diesel\n",
    "\"\"\"\n",
    "car_data = pd.read_csv(pd.io.common.StringIO(sample_data))\n",
    "scaler = StandardScaler()\n",
    "numerical_cols = ['Mileage', 'Horsepower']\n",
    "car_data[numerical_cols] = scaler.fit_transform(car_data[numerical_cols])\n",
    "encoder = LabelEncoder()\n",
    "car_data['Fuel_Type'] = encoder.fit_transform(car_data['Fuel_Type'])\n",
    "print(\"Transformed Data:\")\n",
    "print(car_data)\n",
    "print(\"\\nFuel Type Mapping:\")\n",
    "for i, label in enumerate(encoder.classes_):\n",
    "    print(f\"{label}: {i}\")\n",
    "print(\"\\nScaled Statistics:\")\n",
    "print(car_data[numerical_cols].describe())\n"
   ]
  }
 ],
 "metadata": {
  "kernelspec": {
   "display_name": "Python 3",
   "language": "python",
   "name": "python3"
  },
  "language_info": {
   "codemirror_mode": {
    "name": "ipython",
    "version": 3
   },
   "file_extension": ".py",
   "mimetype": "text/x-python",
   "name": "python",
   "nbconvert_exporter": "python",
   "pygments_lexer": "ipython3",
   "version": "3.10.12"
  }
 },
 "nbformat": 4,
 "nbformat_minor": 2
}
