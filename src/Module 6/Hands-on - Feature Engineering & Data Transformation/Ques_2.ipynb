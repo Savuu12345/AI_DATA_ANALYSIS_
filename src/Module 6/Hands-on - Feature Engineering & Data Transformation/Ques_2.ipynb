{
 "cells": [
  {
   "cell_type": "code",
   "execution_count": null,
   "metadata": {},
   "outputs": [
    {
     "name": "stdout",
     "output_type": "stream",
     "text": [
      "Transformed Data:\n",
      "        Age  Annual_Income  Region_North  Region_South  Region_West\n",
      "0  0.000000           0.00           1.0           0.0          0.0\n",
      "1  0.185185           0.25           0.0           1.0          0.0\n",
      "2  0.740741           0.70           0.0           0.0          0.0\n",
      "3  0.481481           0.40           0.0           0.0          1.0\n",
      "4  1.000000           1.00           1.0           0.0          0.0\n",
      "\n",
      "Data Summary:\n",
      "            Age  Annual_Income  Region_North  Region_South  Region_West\n",
      "count  5.000000       5.000000      5.000000      5.000000     5.000000\n",
      "mean   0.481481       0.470000      0.400000      0.200000     0.200000\n",
      "std    0.404874       0.389872      0.547723      0.447214     0.447214\n",
      "min    0.000000       0.000000      0.000000      0.000000     0.000000\n",
      "25%    0.185185       0.250000      0.000000      0.000000     0.000000\n",
      "50%    0.481481       0.400000      0.000000      0.000000     0.000000\n",
      "75%    0.740741       0.700000      1.000000      0.000000     0.000000\n",
      "max    1.000000       1.000000      1.000000      1.000000     1.000000\n"
     ]
    }
   ],
   "source": [
    "# Feature Scaling & Encoding\n",
    "\n",
    "# Objective: Learn to scale numerical features and encode categorical features for better model performance.\n",
    "# Instructions:\n",
    "# For each example, perform the following steps:\n",
    "#     1. Load the Dataset: Load the dataset into your environment.\n",
    "#     2. Feature Scaling: Apply scaling methods (StandardScaler or MinMaxScaler) to specified numerical columns.\n",
    "#     3. Feature Encoding: Apply encoding methods (One-Hot Encoding or Label Encoding) to specified categorical columns.\n",
    "#     4. Verify Changes: Check the data to ensure proper scaling and encoding. \n",
    "# Task:\n",
    "#     Dataset: customer_data.csv (get it by your own it includes the columns of Age , Annual_Income)\n",
    "#     Columns to scale: Age , Annual_Income\n",
    "#     Column to encode: Region\n",
    "#     Steps:\n",
    "#         1. Load customer_data.csv .\n",
    "#         2. Use MinMaxScaler on Age and Annual_Income .\n",
    "#         3. Perform One-Hot Encoding on Region .\n",
    "#         4. Verify by assessing the transformed dataset.\n",
    "import pandas as pd\n",
    "from sklearn.preprocessing import MinMaxScaler, OneHotEncoder\n",
    "import io\n",
    "sample_data = \"\"\"\n",
    "Age,Annual_Income,Region\n",
    "25,50000,North\n",
    "30,75000,South\n",
    "45,120000,East\n",
    "38,90000,West\n",
    "52,150000,North\n",
    "\"\"\"\n",
    "customer_data = pd.read_csv(io.StringIO(sample_data))\n",
    "scaler = MinMaxScaler()\n",
    "numerical_cols = ['Age', 'Annual_Income']\n",
    "customer_data[numerical_cols] = scaler.fit_transform(customer_data[numerical_cols])\n",
    "encoder = OneHotEncoder(sparse_output=False, drop='first')\n",
    "encoded_region = encoder.fit_transform(customer_data[['Region']])\n",
    "encoded_region_names = encoder.get_feature_names_out(['Region'])\n",
    "encoded_region_df = pd.DataFrame(encoded_region, columns=encoded_region_names)\n",
    "customer_data_encoded = pd.concat([customer_data.drop('Region', axis=1), encoded_region_df], axis=1)\n",
    "print(\"Transformed Data:\")\n",
    "print(customer_data_encoded)\n",
    "print(\"\\nData Summary:\")\n",
    "print(customer_data_encoded.describe())"
   ]
  }
 ],
 "metadata": {
  "kernelspec": {
   "display_name": "Python 3",
   "language": "python",
   "name": "python3"
  },
  "language_info": {
   "codemirror_mode": {
    "name": "ipython",
    "version": 3
   },
   "file_extension": ".py",
   "mimetype": "text/x-python",
   "name": "python",
   "nbconvert_exporter": "python",
   "pygments_lexer": "ipython3",
   "version": "3.10.12"
  }
 },
 "nbformat": 4,
 "nbformat_minor": 2
}
