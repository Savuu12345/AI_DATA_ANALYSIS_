{
 "cells": [
  {
   "cell_type": "markdown",
   "metadata": {},
   "source": [
    "### Healthcare – Patient Data Accuracy\n",
    "\n",
    "**Task 1**: Patient Record Accuracy Assessment\n",
    "\n",
    "**Objective**: Achieve high accuracy in patient records.\n",
    "\n",
    "**Steps**:\n",
    "1. Examine a sample patient dataset for common inaccuracies.\n",
    "2. Identify at least three common issues, such as medication errors or misdiagnoses.\n",
    "3. Propose validation measures to ensure data accuracy at the point of entry."
   ]
  },
  {
   "cell_type": "code",
   "execution_count": 3,
   "metadata": {},
   "outputs": [
    {
     "name": "stdout",
     "output_type": "stream",
     "text": [
      "['missing_medication']\n",
      "False\n"
     ]
    }
   ],
   "source": [
    "# Write your code from here\n",
    "def check_patient_data(data):\n",
    "    errors=[]\n",
    "    for record in data:\n",
    "        if not record.get('medication'):\n",
    "            errors.append('missing_medication')\n",
    "        if not record.get('diagnosis'):\n",
    "            errors.append('missing_diagnosis')\n",
    "        if not record.get('allergies'):\n",
    "            errors.append('missing_allergies')\n",
    "    return errors\n",
    "def validate_entry(data):\n",
    "    validation_rules={\n",
    "        'medication':lambda x:len(x)>0,\n",
    "        'diagnosis':lambda x:len(x)>0,\n",
    "        'allergies':lambda x:len(x)>=0\n",
    "    }\n",
    "    valid=True\n",
    "    for field,rule in validation_rules.items():\n",
    "        if not rule(data.get(field,'')):\n",
    "            valid=False\n",
    "    return valid\n",
    "sample_data=[{'medication':'','diagnosis':'Flu','allergies':'None'}]\n",
    "issues=check_patient_data(sample_data)\n",
    "print(issues)\n",
    "valid=validate_entry(sample_data[0])\n",
    "print(valid)\n"
   ]
  },
  {
   "cell_type": "markdown",
   "metadata": {},
   "source": [
    "**Task 2**: Implement Healthcare Data Quality Checks\n",
    "\n",
    "**Objective**: Maintain accurate health records within a healthcare system.\n",
    "\n",
    "**Steps**:\n",
    "1. Develop a validation workflow for patient data.\n",
    "2. Use appropriate software to automate checks for common errors."
   ]
  },
  {
   "cell_type": "code",
   "execution_count": null,
   "metadata": {},
   "outputs": [],
   "source": [
    "# Write your code from here\n",
    "class PatientDataValidator:\n",
    "    def __init__(self):\n",
    "        self.required_fields=['patient_id','name','dob','medication','diagnosis']\n",
    "        self.allergy_check=lambda x:x.lower()in['none','']or isinstance(x,list)\n",
    "    def validate_record(self,record):\n",
    "        missing_fields=[field for field in self.required_fields if field not in record]\n",
    "        if missing_fields:return False,{'missing_fields':missing_fields}\n",
    "        if not self.allergy_check(record.get('allergies','none')):return False,{'invalid_allergies':record['allergies']}\n",
    "        if not isinstance(record['medication'],list):return False,{'invalid_medication_format':record['medication']}\n",
    "        return True,{}\n",
    "def automated_quality_check(patient_records):\n",
    "    validator=PatientDataValidator()\n",
    "    results=[]\n",
    "    for record in patient_records:\n",
    "        is_valid,errors=validator.validate_record(record)\n",
    "        results.append({'valid':is_valid,'errors':errors})\n",
    "    return results\n",
    "sample_records=[{'patient_id':1,'name':'John Doe','dob':'1980-01-01','medication':['Aspirin'],'diagnosis':'Headache','allergies':'None'}]\n",
    "print(automated_quality_check(sample_records))\n"
   ]
  }
 ],
 "metadata": {
  "kernelspec": {
   "display_name": "Python 3",
   "language": "python",
   "name": "python3"
  },
  "language_info": {
   "codemirror_mode": {
    "name": "ipython",
    "version": 3
   },
   "file_extension": ".py",
   "mimetype": "text/x-python",
   "name": "python",
   "nbconvert_exporter": "python",
   "pygments_lexer": "ipython3",
   "version": "3.10.12"
  }
 },
 "nbformat": 4,
 "nbformat_minor": 2
}
