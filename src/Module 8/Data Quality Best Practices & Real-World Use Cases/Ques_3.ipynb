{
 "cells": [
  {
   "cell_type": "markdown",
   "metadata": {},
   "source": [
    "### Finance – Ensuring Accurate Transactions\n",
    "\n",
    "**Task 1**: Transaction Data Validation Insights\n",
    "\n",
    "**Objective**: Maintain transaction integrity.\n",
    "\n",
    "**Steps**:\n",
    "1. Choose a sample financial transaction dataset.\n",
    "2. Identify common transaction issues like duplicate entries or incorrect amounts.\n",
    "3. Develop a list of validation checks specific to financial transactions."
   ]
  },
  {
   "cell_type": "code",
   "execution_count": null,
   "metadata": {},
   "outputs": [
    {
     "ename": "TypeError",
     "evalue": "PandasDatasource.add_dataframe_asset() got an unexpected keyword argument 'dataframe'",
     "output_type": "error",
     "traceback": [
      "\u001b[0;31m---------------------------------------------------------------------------\u001b[0m",
      "\u001b[0;31mTypeError\u001b[0m                                 Traceback (most recent call last)",
      "Cell \u001b[0;32mIn[3], line 22\u001b[0m\n\u001b[1;32m     20\u001b[0m \u001b[38;5;66;03m#AddPandasDatasourceandDataFrameAsset\u001b[39;00m\n\u001b[1;32m     21\u001b[0m datasource\u001b[38;5;241m=\u001b[39mcontext\u001b[38;5;241m.\u001b[39mdata_sources\u001b[38;5;241m.\u001b[39madd_pandas(\u001b[38;5;124m\"\u001b[39m\u001b[38;5;124mfinancial_transactions_datasource\u001b[39m\u001b[38;5;124m\"\u001b[39m)\n\u001b[0;32m---> 22\u001b[0m data_asset\u001b[38;5;241m=\u001b[39m\u001b[43mdatasource\u001b[49m\u001b[38;5;241;43m.\u001b[39;49m\u001b[43madd_dataframe_asset\u001b[49m\u001b[43m(\u001b[49m\u001b[38;5;124;43m\"\u001b[39;49m\u001b[38;5;124;43msample_transactions\u001b[39;49m\u001b[38;5;124;43m\"\u001b[39;49m\u001b[43m,\u001b[49m\u001b[43mdataframe\u001b[49m\u001b[38;5;241;43m=\u001b[39;49m\u001b[43mdf\u001b[49m\u001b[43m)\u001b[49m\n\u001b[1;32m     23\u001b[0m batch_request\u001b[38;5;241m=\u001b[39mdata_asset\u001b[38;5;241m.\u001b[39mbuild_batch_request()\n\u001b[1;32m     25\u001b[0m \u001b[38;5;66;03m#GetValidatorandDefineExpectationsforTransactionIntegrity\u001b[39;00m\n",
      "\u001b[0;31mTypeError\u001b[0m: PandasDatasource.add_dataframe_asset() got an unexpected keyword argument 'dataframe'"
     ]
    }
   ],
   "source": [
    "\n",
    "import pandas as pd\n",
    "import numpy as np\n",
    "np.random.seed(42)\n",
    "transactions = {\n",
    "    'Transaction_ID': range(1, 11),\n",
    "    'Date': pd.date_range(start='2025-04-01', periods=10, freq='D'),\n",
    "    'Amount': [100, 200, 150, 300, 100, 250, 150, 200, 100, 300],\n",
    "    'Merchant': ['Merchant_A', 'Merchant_B', 'Merchant_C', 'Merchant_A', 'Merchant_D',\n",
    "                 'Merchant_B', 'Merchant_C', 'Merchant_A', 'Merchant_E', 'Merchant_A'],\n",
    "    'Account_ID': ['ACC123', 'ACC124', 'ACC125', 'ACC123', 'ACC126',\n",
    "                   'ACC124', 'ACC127', 'ACC123', 'ACC128', 'ACC123'],\n",
    "    'Transaction_Type': ['Debit', 'Credit', 'Debit', 'Credit', 'Debit', \n",
    "                         'Credit', 'Debit', 'Credit', 'Debit', 'Debit']\n",
    "}\n",
    "df_transactions = pd.DataFrame(transactions)\n",
    "df_transactions.to_csv('transaction_data.csv', index=False)\n",
    "duplicate_transactions = df_transactions[df_transactions.duplicated(subset='Transaction_ID', keep=False)]"
   ]
  },
  {
   "cell_type": "markdown",
   "metadata": {},
   "source": [
    "**Task 2**: Implement Financial Data Validation\n",
    "\n",
    "**Objective**: Use automated tools to ensure transaction accuracy.\n",
    "\n",
    "**Steps**:\n",
    "1. Integrate data validation rules into your existing financial systems.\n",
    "2. Ensure real-time checks to validate data upon entry."
   ]
  },
  {
   "cell_type": "code",
   "execution_count": null,
   "metadata": {},
   "outputs": [
    {
     "name": "stdout",
     "output_type": "stream",
     "text": [
      "Transaction successfully added!\n"
     ]
    },
    {
     "data": {
      "text/plain": [
       "True"
      ]
     },
     "execution_count": 2,
     "metadata": {},
     "output_type": "execute_result"
    }
   ],
   "source": [
    "\n",
    "import pandas as pd\n",
    "df_transactions = pd.DataFrame({\n",
    "    'Transaction_ID': [1, 2, 3, 4, 5],\n",
    "    'Date': pd.to_datetime(['2025-04-01', '2025-04-02', '2025-04-03', '2025-04-04', '2025-04-05']),\n",
    "    'Amount': [200, -150, 300, 400, 100],\n",
    "    'Merchant': ['Merchant_A', 'Merchant_B', 'Merchant_C', 'Merchant_A', 'Merchant_D'],\n",
    "    'Account_ID': ['ACC123', 'ACC124', 'ACC125', 'ACC123', 'ACC126'],\n",
    "    'Transaction_Type': ['Debit', 'Credit', 'Debit', 'Debit', 'Debit']\n",
    "})\n",
    "def validate_transaction_data(df):\n",
    "    if df['Transaction_ID'].duplicated().any():\n",
    "        print(\"Warning: Duplicate transaction IDs detected!\")\n",
    "    negative_debits = df[(df['Amount'] < 0) & (df['Transaction_Type'] != 'Credit')]\n",
    "    if not negative_debits.empty:\n",
    "        print(\"Warning: Negative amounts detected in non-Credit transactions!\")\n",
    "    missing_values = df[df[['Transaction_ID', 'Amount', 'Date']].isnull().any(axis=1)]\n",
    "    if not missing_values.empty:\n",
    "        print(\"Warning: Missing values detected in required fields!\")\n",
    "    invalid_transactions = df[(df['Amount'] < 0) & (df['Transaction_Type'] != 'Credit')]\n",
    "    if not invalid_transactions.empty:\n",
    "        print(\"Warning: Invalid refund (negative amount) without Credit type!\")\n",
    "    high_value_transactions = df[df['Amount'] > 1000]\n",
    "    if not high_value_transactions.empty:\n",
    "        print(\"Warning: High-value transactions detected (amount > 1000)!\")\n",
    "    return df\n",
    "validate_transaction_data(df_transactions)\n",
    "def validate_new_transaction(transaction):\n",
    "    if transaction['Transaction_ID'] in df_transactions['Transaction_ID'].values:\n",
    "        print(\"Error: Duplicate Transaction ID detected!\")\n",
    "        return False\n",
    "    if transaction['Amount'] < 0 and transaction['Transaction_Type'] != 'Credit':\n",
    "        print(\"Error: Negative amount detected in non-Credit transaction!\")\n",
    "        return False\n",
    "    if pd.isnull(transaction['Transaction_ID']) or pd.isnull(transaction['Amount']) or pd.isnull(transaction['Date']):\n",
    "        print(\"Error: Missing required fields!\")\n",
    "        return False\n",
    "    if transaction['Amount'] < 0 and transaction['Transaction_Type'] != 'Credit':\n",
    "        print(\"Error: Refund amount should be marked as Credit!\")\n",
    "        return False\n",
    "    if transaction['Amount'] > 1000:\n",
    "        print(\"Error: Transaction amount exceeds the maximum allowed limit of 1000!\")\n",
    "        return False\n",
    "    df_transactions.loc[len(df_transactions)] = transaction\n",
    "    print(\"Transaction successfully added!\")\n",
    "    return True\n",
    "new_transaction = {\n",
    "    'Transaction_ID': 6,\n",
    "    'Date': pd.to_datetime('2025-04-06'),\n",
    "    'Amount': 500,\n",
    "    'Merchant': 'Merchant_B',\n",
    "    'Account_ID': 'ACC127',\n",
    "    'Transaction_Type': 'Debit'\n",
    "}\n",
    "validate_new_transaction(new_transaction)\n",
    "\n",
    "\n"
   ]
  }
 ],
 "metadata": {
  "kernelspec": {
   "display_name": "Python 3",
   "language": "python",
   "name": "python3"
  },
  "language_info": {
   "codemirror_mode": {
    "name": "ipython",
    "version": 3
   },
   "file_extension": ".py",
   "mimetype": "text/x-python",
   "name": "python",
   "nbconvert_exporter": "python",
   "pygments_lexer": "ipython3",
   "version": "3.10.12"
  }
 },
 "nbformat": 4,
 "nbformat_minor": 2
}
