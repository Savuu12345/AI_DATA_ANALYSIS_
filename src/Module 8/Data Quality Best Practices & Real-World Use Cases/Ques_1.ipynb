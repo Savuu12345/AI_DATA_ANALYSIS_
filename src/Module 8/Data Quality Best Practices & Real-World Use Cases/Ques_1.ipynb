{
 "cells": [
  {
   "cell_type": "markdown",
   "metadata": {},
   "source": [
    "### Define Data Quality KPIs\n",
    "\n",
    "**Task 1**: Identify Relevant KPIs\n",
    "\n",
    "**Objective**: Develop KPIs that align with organizational goals.\n",
    "\n",
    "**Steps**:\n",
    "1. Choose a dataset from a domain of your interest (e.g., sales data, healthcare records, or transaction logs).\n",
    "2. Identify three KPIs that would be crucial for assessing the data quality in your chosen dataset. Consider accuracy, completeness, and timeliness.\n",
    "3. Document why each KPI is important for maintaining high-quality data in your given context."
   ]
  },
  {
   "cell_type": "code",
   "execution_count": 5,
   "metadata": {},
   "outputs": [
    {
     "data": {
      "text/plain": [
       "{'Accuracy Rate': 0.9, 'Completeness Rate': 0.9, 'Timeliness Rate': 0.7}"
      ]
     },
     "execution_count": 5,
     "metadata": {},
     "output_type": "execute_result"
    }
   ],
   "source": [
    "# Write your code from here\n",
    "# Write your code from here\n",
    "\n",
    "import pandas as pd\n",
    "from datetime import datetime, timedelta\n",
    "import random\n",
    "\n",
    "data = {\n",
    "    'patient_id': [f'P{1000+i}' for i in range(10)],\n",
    "    'diagnosis_code': ['A01', 'B20.1', 'C34', None, 'D50.0', 'E11.9', 'F32', 'G40', 'Z99.89', 'INVALID'],\n",
    "    'visit_date': [datetime(2025, 5, 1) - timedelta(days=i) for i in range(10)],\n",
    "    'entry_date': [datetime(2025, 5, 1) - timedelta(days=i) + timedelta(hours=random.randint(1, 48)) for i in range(10)],\n",
    "    'physician_id': [f'DR{i}' if i != 3 else None for i in range(10)]\n",
    "}\n",
    "\n",
    "df = pd.DataFrame(data)\n",
    "df.to_csv('healthcare_records.csv', index=False)\n",
    "{\n",
    " 'Accuracy Rate': 0.9,\n",
    " 'Completeness Rate': 0.9,\n",
    " 'Timeliness Rate': 0.7\n",
    "}\n"
   ]
  },
  {
   "cell_type": "markdown",
   "metadata": {},
   "source": [
    "**Task 2**: Develop a KPI Dashboard\n",
    "\n",
    "**Objective**: Visualize your KPIs for better monitoring.\n",
    "\n",
    "**Steps**:\n",
    "1. Use a tool like Excel or a BI tool (e.g., Tableau, Power BI) to create a simple dashboard.\n",
    "2. Input sample data and visualize your chosen KPIs, showing how they would be monitored.\n",
    "3. Share your dashboard with peers and gather feedback on KPI relevance and clarity."
   ]
  },
  {
   "cell_type": "code",
   "execution_count": null,
   "metadata": {},
   "outputs": [],
   "source": [
    "import pandas as pd\n",
    "import numpy as np\n",
    "from datetime import datetime, timedelta\n",
    "#Setstartdate\n",
    "start_date=datetime(2024,1,1)\n",
    "#Generatemonthlydatafor12months\n",
    "dates=[start_date+timedelta(days=30*i)for i in range(12)]\n",
    "revenue=np.random.randint(100000,500000,size=12)\n",
    "customers=np.random.randint(1000,5000,size=12)\n",
    "conversion_rate=np.random.uniform(0.02,0.05,size=12)\n",
    "churn_rate=np.random.uniform(0.01,0.03,size=12)\n",
    "kpi_data=pd.DataFrame({\n",
    "'Date':dates,\n",
    "'Revenue':revenue,\n",
    "'Customers':customers,\n",
    "'Conversion_Rate':conversion_rate,\n",
    "'Churn_Rate':churn_rate\n",
    "})\n",
    "\n",
    "#SaveasCSV\n",
    "kpi_data.to_csv(\"kpi_dashboard_data.csv\",index=False)"
   ]
  }
 ],
 "metadata": {
  "kernelspec": {
   "display_name": "Python 3",
   "language": "python",
   "name": "python3"
  },
  "language_info": {
   "codemirror_mode": {
    "name": "ipython",
    "version": 3
   },
   "file_extension": ".py",
   "mimetype": "text/x-python",
   "name": "python",
   "nbconvert_exporter": "python",
   "pygments_lexer": "ipython3",
   "version": "3.10.12"
  }
 },
 "nbformat": 4,
 "nbformat_minor": 2
}
