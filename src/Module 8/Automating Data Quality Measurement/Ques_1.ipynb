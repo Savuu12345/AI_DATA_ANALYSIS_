{
 "cells": [
  {
   "cell_type": "markdown",
   "metadata": {},
   "source": [
    "### Task 1: Basic Data Profiling of a CSV File\n",
    "**Description**: Load a CSV file and generate a Pandas-Profiling report.\n",
    "\n",
    "**Steps**:\n",
    "1. Load a CSV File: Make sure you have a CSV file (e.g., data.csv ). Load it using pandas.\n",
    "2. Generate a Profile Report."
   ]
  },
  {
   "cell_type": "code",
   "execution_count": 16,
   "metadata": {},
   "outputs": [
    {
     "name": "stdout",
     "output_type": "stream",
     "text": [
      "Successfully loaded 'data.csv' into a DataFrame.\n",
      "DataFrame Head:\n",
      "   ID     Name   Age      City   Salary  HasChildren   LastLogin\n",
      "0   1    Alice  30.0  New York  60000.0         True  2024-01-15\n",
      "1   2      Bob  24.0    London  45000.0        False  2024-02-20\n",
      "2   3  Charlie  35.0     Paris  75000.0         True  2024-03-10\n",
      "3   4    David   NaN    Berlin  50000.0        False  2024-04-01\n",
      "4   5      Eve  29.0  New York  80000.0         True  2024-05-20\n",
      "\n",
      "DataFrame Info:\n",
      "<class 'pandas.core.frame.DataFrame'>\n",
      "RangeIndex: 7 entries, 0 to 6\n",
      "Data columns (total 7 columns):\n",
      " #   Column       Non-Null Count  Dtype  \n",
      "---  ------       --------------  -----  \n",
      " 0   ID           7 non-null      int64  \n",
      " 1   Name         7 non-null      object \n",
      " 2   Age          6 non-null      float64\n",
      " 3   City         6 non-null      object \n",
      " 4   Salary       6 non-null      float64\n",
      " 5   HasChildren  7 non-null      bool   \n",
      " 6   LastLogin    7 non-null      object \n",
      "dtypes: bool(1), float64(2), int64(1), object(3)\n",
      "memory usage: 471.0+ bytes\n",
      "--------------------------------------------------\n",
      "Generating YData-Profiling report for 'data.csv'...\n"
     ]
    },
    {
     "name": "stderr",
     "output_type": "stream",
     "text": [
      "100%|██████████| 7/7 [00:00<00:00, 879.47it/s]0<00:00, 80.91it/s, Describe variable: LastLogin]  \n",
      "Summarize dataset:  64%|██████▍   | 9/14 [00:00<00:00, 134.09it/s, Calculate auto correlation] /home/vscode/.local/lib/python3.10/site-packages/ydata_profiling/model/correlations.py:87: UserWarning: There was an attempt to calculate the auto correlation, but this failed.\n",
      "To hide this warning, disable the calculation\n",
      "(using `df.profile_report(correlations={\"auto\": {\"calculate\": False}})`\n",
      "If this is problematic for your use case, please report this as an issue:\n",
      "https://github.com/ydataai/ydata-profiling/issues\n",
      "(include the error message: 'putmask: first argument must be an array')\n",
      "  warnings.warn(\n",
      "Summarize dataset: 100%|██████████| 26/26 [00:01<00:00, 21.32it/s, Completed]                 \n",
      "Generate report structure: 100%|██████████| 1/1 [00:01<00:00,  1.37s/it]\n",
      "Render HTML: 100%|██████████| 1/1 [00:00<00:00,  4.56it/s]\n",
      "Export report to file: 100%|██████████| 1/1 [00:00<00:00, 607.69it/s]"
     ]
    },
    {
     "name": "stdout",
     "output_type": "stream",
     "text": [
      "Report generated successfully! Check 'data_profile_report.html' in your current directory.\n",
      "Current working directory: /workspaces/AI_DATA_ANALYSIS_/src/Module 8/Automating Data Quality Measurement\n"
     ]
    },
    {
     "name": "stderr",
     "output_type": "stream",
     "text": [
      "\n"
     ]
    }
   ],
   "source": [
    "import pandas as pd\n",
    "from ydata_profiling import ProfileReport # Changed import statement\n",
    "import os\n",
    "\n",
    "# --- Configuration ---\n",
    "csv_file_path = 'data.csv'\n",
    "output_report_html = 'data_profile_report.html'\n",
    "\n",
    "# --- Step 1: Load a CSV File ---\n",
    "try:\n",
    "    df = pd.read_csv(csv_file_path)\n",
    "    print(f\"Successfully loaded '{csv_file_path}' into a DataFrame.\")\n",
    "    print(\"DataFrame Head:\")\n",
    "    print(df.head())\n",
    "    print(\"\\nDataFrame Info:\")\n",
    "    df.info()\n",
    "    print(\"-\" * 50)\n",
    "\n",
    "except FileNotFoundError:\n",
    "    print(f\"Error: The file '{csv_file_path}' was not found.\")\n",
    "    print(\"Please ensure 'data.csv' is in the same directory as this script, or provide its full path.\")\n",
    "    print(\"\\nExample 'data.csv' content to create:\")\n",
    "    print(\"```csv\")\n",
    "    print(\"ID,Name,Age,City,Salary,HasChildren,LastLogin\")\n",
    "    print(\"1,Alice,30,New York,60000,True,2024-01-15\")\n",
    "    print(\"2,Bob,24,London,45000,False,2024-02-20\")\n",
    "    print(\"3,Charlie,35,Paris,75000,True,2024-03-10\")\n",
    "    print(\"4,David,,Berlin,50000,False,2024-04-01\")\n",
    "    print(\"5,Eve,29,New York,80000,True,2024-05-20\")\n",
    "    print(\"6,Frank,40,,65000,False,2024-01-05\")\n",
    "    print(\"7,Grace,22,London,,True,2024-02-12\")\n",
    "    print(\"```\")\n",
    "    exit() # Exit if file not found\n",
    "\n",
    "except pd.errors.EmptyDataError:\n",
    "    print(f\"Error: The file '{csv_file_path}' is empty.\")\n",
    "    exit()\n",
    "\n",
    "except Exception as e:\n",
    "    print(f\"An unexpected error occurred while loading the CSV: {e}\")\n",
    "    exit()\n",
    "\n",
    "# --- Step 2: Generate a Profile Report ---\n",
    "print(f\"Generating YData-Profiling report for '{csv_file_path}'...\")\n",
    "\n",
    "# Create the profile report object\n",
    "profile = ProfileReport(df, title=\"Data Profiling Report\", explorative=True)\n",
    "\n",
    "# Save the report to an HTML file\n",
    "profile.to_file(output_report_html)\n",
    "\n",
    "print(f\"Report generated successfully! Check '{output_report_html}' in your current directory.\")\n",
    "print(f\"Current working directory: {os.getcwd()}\")"
   ]
  },
  {
   "cell_type": "markdown",
   "metadata": {},
   "source": [
    "### Task 2: Understanding Missing Values with Pandas-Profiling\n",
    "\n",
    "**Description**: Identify missing values in your dataset using pandas-profiling.\n",
    "\n",
    "**Steps**: \n",
    "1. Generate a Profile Report to Analyze Missing Values\n"
   ]
  },
  {
   "cell_type": "code",
   "execution_count": 17,
   "metadata": {},
   "outputs": [
    {
     "name": "stdout",
     "output_type": "stream",
     "text": [
      "Successfully loaded 'data.csv' into a DataFrame.\n",
      "DataFrame Head:\n",
      "   ID     Name   Age      City   Salary  HasChildren   LastLogin\n",
      "0   1    Alice  30.0  New York  60000.0         True  2024-01-15\n",
      "1   2      Bob  24.0    London  45000.0        False  2024-02-20\n",
      "2   3  Charlie  35.0     Paris  75000.0         True  2024-03-10\n",
      "3   4    David   NaN    Berlin  50000.0        False  2024-04-01\n",
      "4   5      Eve  29.0  New York  80000.0         True  2024-05-20\n",
      "\n",
      "DataFrame Info:\n",
      "<class 'pandas.core.frame.DataFrame'>\n",
      "RangeIndex: 7 entries, 0 to 6\n",
      "Data columns (total 7 columns):\n",
      " #   Column       Non-Null Count  Dtype  \n",
      "---  ------       --------------  -----  \n",
      " 0   ID           7 non-null      int64  \n",
      " 1   Name         7 non-null      object \n",
      " 2   Age          6 non-null      float64\n",
      " 3   City         6 non-null      object \n",
      " 4   Salary       6 non-null      float64\n",
      " 5   HasChildren  7 non-null      bool   \n",
      " 6   LastLogin    7 non-null      object \n",
      "dtypes: bool(1), float64(2), int64(1), object(3)\n",
      "memory usage: 471.0+ bytes\n",
      "--------------------------------------------------\n",
      "Generating YData-Profiling report for 'data.csv'...\n"
     ]
    },
    {
     "name": "stderr",
     "output_type": "stream",
     "text": [
      "100%|██████████| 7/7 [00:00<00:00, 265.77it/s]0<00:00, 81.53it/s, Describe variable: LastLogin]  \n",
      "Summarize dataset:  64%|██████▍   | 9/14 [00:00<00:00, 77.42it/s, Calculate auto correlation]  /home/vscode/.local/lib/python3.10/site-packages/ydata_profiling/model/correlations.py:87: UserWarning: There was an attempt to calculate the auto correlation, but this failed.\n",
      "To hide this warning, disable the calculation\n",
      "(using `df.profile_report(correlations={\"auto\": {\"calculate\": False}})`\n",
      "If this is problematic for your use case, please report this as an issue:\n",
      "https://github.com/ydataai/ydata-profiling/issues\n",
      "(include the error message: 'putmask: first argument must be an array')\n",
      "  warnings.warn(\n",
      "Summarize dataset: 100%|██████████| 26/26 [00:01<00:00, 18.68it/s, Completed]                \n",
      "Generate report structure: 100%|██████████| 1/1 [00:01<00:00,  1.42s/it]\n",
      "Render HTML: 100%|██████████| 1/1 [00:00<00:00,  4.75it/s]\n",
      "Export report to file: 100%|██████████| 1/1 [00:00<00:00, 576.54it/s]"
     ]
    },
    {
     "name": "stdout",
     "output_type": "stream",
     "text": [
      "Report generated successfully! Open 'data_profile_report.html' in your web browser to analyze missing values.\n",
      "Current working directory: /workspaces/AI_DATA_ANALYSIS_/src/Module 8/Automating Data Quality Measurement\n"
     ]
    },
    {
     "name": "stderr",
     "output_type": "stream",
     "text": [
      "\n"
     ]
    }
   ],
   "source": [
    "# Write your code from here\n",
    "import pandas as pd\n",
    "from ydata_profiling import ProfileReport # Make sure this is ydata_profiling\n",
    "import os\n",
    "\n",
    "# --- Configuration ---\n",
    "csv_file_path = 'data.csv' # Ensure this file exists\n",
    "output_report_html = 'data_profile_report.html'\n",
    "\n",
    "# --- Step 1: Load a CSV File ---\n",
    "try:\n",
    "    df = pd.read_csv(csv_file_path)\n",
    "    print(f\"Successfully loaded '{csv_file_path}' into a DataFrame.\")\n",
    "    print(\"DataFrame Head:\")\n",
    "    print(df.head())\n",
    "    print(\"\\nDataFrame Info:\")\n",
    "    df.info()\n",
    "    print(\"-\" * 50)\n",
    "\n",
    "except FileNotFoundError:\n",
    "    print(f\"Error: The file '{csv_file_path}' was not found.\")\n",
    "    print(\"Please ensure 'data.csv' is in the same directory as this script, or provide its full path.\")\n",
    "    exit()\n",
    "\n",
    "except pd.errors.EmptyDataError:\n",
    "    print(f\"Error: The file '{csv_file_path}' is empty.\")\n",
    "    exit()\n",
    "\n",
    "except Exception as e:\n",
    "    print(f\"An unexpected error occurred while loading the CSV: {e}\")\n",
    "    exit()\n",
    "\n",
    "# --- Step 2: Generate a Profile Report to Analyze Missing Values ---\n",
    "print(f\"Generating YData-Profiling report for '{csv_file_path}'...\")\n",
    "\n",
    "profile = ProfileReport(df, title=\"Data Profiling Report\", explorative=True)\n",
    "\n",
    "# Save the report to an HTML file\n",
    "profile.to_file(output_report_html)\n",
    "\n",
    "print(f\"Report generated successfully! Open '{output_report_html}' in your web browser to analyze missing values.\")\n",
    "print(f\"Current working directory: {os.getcwd()}\")"
   ]
  },
  {
   "cell_type": "markdown",
   "metadata": {},
   "source": [
    "### Task 3: Analyze Data Types Using Pandas-Profiling\n",
    "**Description**: Use Pandas-Profiling to analyze and check data types of your dataset."
   ]
  },
  {
   "cell_type": "code",
   "execution_count": 18,
   "metadata": {},
   "outputs": [
    {
     "name": "stdout",
     "output_type": "stream",
     "text": [
      "Successfully loaded 'data.csv' into a DataFrame.\n",
      "DataFrame Head:\n",
      "   ID     Name   Age      City   Salary  HasChildren   LastLogin\n",
      "0   1    Alice  30.0  New York  60000.0         True  2024-01-15\n",
      "1   2      Bob  24.0    London  45000.0        False  2024-02-20\n",
      "2   3  Charlie  35.0     Paris  75000.0         True  2024-03-10\n",
      "3   4    David   NaN    Berlin  50000.0        False  2024-04-01\n",
      "4   5      Eve  29.0  New York  80000.0         True  2024-05-20\n",
      "\n",
      "DataFrame Info:\n",
      "<class 'pandas.core.frame.DataFrame'>\n",
      "RangeIndex: 7 entries, 0 to 6\n",
      "Data columns (total 7 columns):\n",
      " #   Column       Non-Null Count  Dtype  \n",
      "---  ------       --------------  -----  \n",
      " 0   ID           7 non-null      int64  \n",
      " 1   Name         7 non-null      object \n",
      " 2   Age          6 non-null      float64\n",
      " 3   City         6 non-null      object \n",
      " 4   Salary       6 non-null      float64\n",
      " 5   HasChildren  7 non-null      bool   \n",
      " 6   LastLogin    7 non-null      object \n",
      "dtypes: bool(1), float64(2), int64(1), object(3)\n",
      "memory usage: 471.0+ bytes\n",
      "--------------------------------------------------\n",
      "Generating YData-Profiling report for 'data.csv'...\n"
     ]
    },
    {
     "name": "stderr",
     "output_type": "stream",
     "text": [
      "100%|██████████| 7/7 [00:00<00:00, 269.73it/s]0<00:00, 108.87it/s, Describe variable: LastLogin] \n",
      "Summarize dataset:  64%|██████▍   | 9/14 [00:00<00:00, 137.24it/s, Calculate auto correlation]  /home/vscode/.local/lib/python3.10/site-packages/ydata_profiling/model/correlations.py:87: UserWarning: There was an attempt to calculate the auto correlation, but this failed.\n",
      "To hide this warning, disable the calculation\n",
      "(using `df.profile_report(correlations={\"auto\": {\"calculate\": False}})`\n",
      "If this is problematic for your use case, please report this as an issue:\n",
      "https://github.com/ydataai/ydata-profiling/issues\n",
      "(include the error message: 'putmask: first argument must be an array')\n",
      "  warnings.warn(\n",
      "Summarize dataset: 100%|██████████| 26/26 [00:01<00:00, 23.26it/s, Completed]                 \n",
      "Generate report structure: 100%|██████████| 1/1 [00:01<00:00,  1.45s/it]\n",
      "Render HTML: 100%|██████████| 1/1 [00:00<00:00,  5.26it/s]\n",
      "Export report to file: 100%|██████████| 1/1 [00:00<00:00, 633.77it/s]"
     ]
    },
    {
     "name": "stdout",
     "output_type": "stream",
     "text": [
      "Report generated successfully! Open 'data_profile_report.html' in your web browser to analyze data types.\n",
      "Current working directory: /workspaces/AI_DATA_ANALYSIS_/src/Module 8/Automating Data Quality Measurement\n"
     ]
    },
    {
     "name": "stderr",
     "output_type": "stream",
     "text": [
      "\n"
     ]
    }
   ],
   "source": [
    "# Write your code from here\n",
    "import pandas as pd\n",
    "from ydata_profiling import ProfileReport # Make sure this is ydata_profiling\n",
    "import os\n",
    "\n",
    "# --- Configuration ---\n",
    "csv_file_path = 'data.csv' # Ensure this file exists\n",
    "output_report_html = 'data_profile_report.html'\n",
    "\n",
    "# --- Step 1: Load a CSV File ---\n",
    "try:\n",
    "    df = pd.read_csv(csv_file_path)\n",
    "    print(f\"Successfully loaded '{csv_file_path}' into a DataFrame.\")\n",
    "    print(\"DataFrame Head:\")\n",
    "    print(df.head())\n",
    "    print(\"\\nDataFrame Info:\")\n",
    "    df.info() # This also gives a quick textual overview of dtypes\n",
    "    print(\"-\" * 50)\n",
    "\n",
    "except FileNotFoundError:\n",
    "    print(f\"Error: The file '{csv_file_path}' was not found.\")\n",
    "    print(\"Please ensure 'data.csv' is in the same directory as this script, or provide its full path.\")\n",
    "    exit()\n",
    "\n",
    "except pd.errors.EmptyDataError:\n",
    "    print(f\"Error: The file '{csv_file_path}' is empty.\")\n",
    "    exit()\n",
    "\n",
    "except Exception as e:\n",
    "    print(f\"An unexpected error occurred while loading the CSV: {e}\")\n",
    "    exit()\n",
    "\n",
    "# --- Step 2: Generate a Profile Report to Analyze Data Types ---\n",
    "print(f\"Generating YData-Profiling report for '{csv_file_path}'...\")\n",
    "\n",
    "profile = ProfileReport(df, title=\"Data Profiling Report\", explorative=True)\n",
    "\n",
    "# Save the report to an HTML file\n",
    "profile.to_file(output_report_html)\n",
    "\n",
    "print(f\"Report generated successfully! Open '{output_report_html}' in your web browser to analyze data types.\")\n",
    "print(f\"Current working directory: {os.getcwd()}\")"
   ]
  },
  {
   "cell_type": "markdown",
   "metadata": {},
   "source": [
    "### Task 4: Detect Unique Values and Duplicates\n",
    "**Description**: Use Pandas-Profiling to detect unique values and duplicates in your dataset."
   ]
  },
  {
   "cell_type": "code",
   "execution_count": null,
   "metadata": {},
   "outputs": [
    {
     "name": "stdout",
     "output_type": "stream",
     "text": [
      "Successfully loaded 'data.csv' into a DataFrame.\n",
      "DataFrame Head:\n",
      "   ID     Name   Age      City   Salary  HasChildren   LastLogin\n",
      "0   1    Alice  30.0  New York  60000.0         True  2024-01-15\n",
      "1   2      Bob  24.0    London  45000.0        False  2024-02-20\n",
      "2   3  Charlie  35.0     Paris  75000.0         True  2024-03-10\n",
      "3   4    David   NaN    Berlin  50000.0        False  2024-04-01\n",
      "4   5      Eve  29.0  New York  80000.0         True  2024-05-20\n",
      "\n",
      "DataFrame Info:\n",
      "<class 'pandas.core.frame.DataFrame'>\n",
      "RangeIndex: 7 entries, 0 to 6\n",
      "Data columns (total 7 columns):\n",
      " #   Column       Non-Null Count  Dtype  \n",
      "---  ------       --------------  -----  \n",
      " 0   ID           7 non-null      int64  \n",
      " 1   Name         7 non-null      object \n",
      " 2   Age          6 non-null      float64\n",
      " 3   City         6 non-null      object \n",
      " 4   Salary       6 non-null      float64\n",
      " 5   HasChildren  7 non-null      bool   \n",
      " 6   LastLogin    7 non-null      object \n",
      "dtypes: bool(1), float64(2), int64(1), object(3)\n",
      "memory usage: 471.0+ bytes\n",
      "--------------------------------------------------\n",
      "Generating YData-Profiling report for 'data.csv'...\n"
     ]
    },
    {
     "name": "stderr",
     "output_type": "stream",
     "text": [
      "100%|██████████| 7/7 [00:00<00:00, 301.90it/s]0<00:00, 130.18it/s, Describe variable: LastLogin]  \n",
      "Summarize dataset:  64%|██████▍   | 9/14 [00:00<00:00, 122.46it/s, Calculate auto correlation]  /home/vscode/.local/lib/python3.10/site-packages/ydata_profiling/model/correlations.py:87: UserWarning: There was an attempt to calculate the auto correlation, but this failed.\n",
      "To hide this warning, disable the calculation\n",
      "(using `df.profile_report(correlations={\"auto\": {\"calculate\": False}})`\n",
      "If this is problematic for your use case, please report this as an issue:\n",
      "https://github.com/ydataai/ydata-profiling/issues\n",
      "(include the error message: 'putmask: first argument must be an array')\n",
      "  warnings.warn(\n",
      "Summarize dataset: 100%|██████████| 26/26 [00:01<00:00, 23.91it/s, Completed]                 \n",
      "Generate report structure: 100%|██████████| 1/1 [00:01<00:00,  1.37s/it]\n",
      "Render HTML: 100%|██████████| 1/1 [00:00<00:00,  4.61it/s]\n",
      "Export report to file: 100%|██████████| 1/1 [00:00<00:00, 463.41it/s]"
     ]
    },
    {
     "name": "stdout",
     "output_type": "stream",
     "text": [
      "Report generated successfully! Open 'data_profile_report.html' in your web browser to analyze unique values and duplicates.\n",
      "Current working directory: /workspaces/AI_DATA_ANALYSIS_/src/Module 8/Automating Data Quality Measurement\n"
     ]
    },
    {
     "name": "stderr",
     "output_type": "stream",
     "text": [
      "\n"
     ]
    }
   ],
   "source": [
    "# Write your code from here\n",
    "import pandas as pd\n",
    "from ydata_profiling import ProfileReport # Make sure this is ydata_profiling\n",
    "import os\n",
    "\n",
    "# --- Configuration ---\n",
    "csv_file_path = 'data.csv' # Ensure this file exists\n",
    "output_report_html = 'data_profile_report.html'\n",
    "\n",
    "# --- Step 1: Load a CSV File ---\n",
    "try:\n",
    "    df = pd.read_csv(csv_file_path)\n",
    "    print(f\"Successfully loaded '{csv_file_path}' into a DataFrame.\")\n",
    "    print(\"DataFrame Head:\")\n",
    "    print(df.head())\n",
    "    print(\"\\nDataFrame Info:\")\n",
    "    df.info()\n",
    "    print(\"-\" * 50)\n",
    "\n",
    "except FileNotFoundError:\n",
    "    print(f\"Error: The file '{csv_file_path}' was not found.\")\n",
    "    print(\"Please ensure 'data.csv' is in the same directory as this script, or provide its full path.\")\n",
    "    exit()\n",
    "\n",
    "except pd.errors.EmptyDataError:\n",
    "    print(f\"Error: The file '{csv_file_path}' is empty.\")\n",
    "    exit()\n",
    "\n",
    "except Exception as e:\n",
    "    print(f\"An unexpected error occurred while loading the CSV: {e}\")\n",
    "    exit()\n",
    "# --- Step 2: Generate a Profile Report to Detect Unique Values and Duplicates ---\n",
    "print(f\"Generating YData-Profiling report for '{csv_file_path}'...\")\n",
    "# The 'explorative=True' argument (or default settings) enables detection of duplicates and unique values.\n",
    "profile = ProfileReport(df, title=\"Data Profiling Report\", explorative=True)\n",
    "# Save the report to an HTML file\n",
    "profile.to_file(output_report_html)\n",
    "\n",
    "print(f\"Report generated successfully! Open '{output_report_html}' in your web browser to analyze unique values and duplicates.\")\n",
    "print(f\"Current working directory: {os.getcwd()}\")"
   ]
  }
 ],
 "metadata": {
  "kernelspec": {
   "display_name": "Python 3",
   "language": "python",
   "name": "python3"
  },
  "language_info": {
   "codemirror_mode": {
    "name": "ipython",
    "version": 3
   },
   "file_extension": ".py",
   "mimetype": "text/x-python",
   "name": "python",
   "nbconvert_exporter": "python",
   "pygments_lexer": "ipython3",
   "version": "3.10.12"
  }
 },
 "nbformat": 4,
 "nbformat_minor": 2
}
