{
 "cells": [
  {
   "cell_type": "markdown",
   "metadata": {},
   "source": [
    "## Using AI for Anomalies Detection in Data Quality\n",
    "**Description**: Implement an AI-based approach to detect anomalies in data quality.\n",
    "\n",
    "**Steps**:\n",
    "1. Use an Anomaly Detection Algorithm:\n",
    "    - Use sklearn's Isolation Forest for anomaly detection.\n",
    "\n",
    "**Example data:**\n",
    "\n",
    "data = np.array([[25, 50000], [30, 60000], [35, 75000], [40, None], [45, 100000]])\n",
    "\n",
    "2. Integrate with Great Expectations:\n",
    "    - Generate alerts if anomalies are detected:"
   ]
  },
  {
   "cell_type": "code",
   "execution_count": 6,
   "metadata": {},
   "outputs": [
    {
     "ename": "AttributeError",
     "evalue": "'EphemeralDataContext' object has no attribute 'sources'",
     "output_type": "error",
     "traceback": [
      "\u001b[0;31m---------------------------------------------------------------------------\u001b[0m",
      "\u001b[0;31mAttributeError\u001b[0m                            Traceback (most recent call last)",
      "Cell \u001b[0;32mIn[6], line 18\u001b[0m\n\u001b[1;32m     16\u001b[0m \u001b[38;5;66;03m# Great Expectations validation\u001b[39;00m\n\u001b[1;32m     17\u001b[0m context \u001b[38;5;241m=\u001b[39m gx\u001b[38;5;241m.\u001b[39mget_context()\n\u001b[0;32m---> 18\u001b[0m validator \u001b[38;5;241m=\u001b[39m \u001b[43mcontext\u001b[49m\u001b[38;5;241;43m.\u001b[39;49m\u001b[43msources\u001b[49m\u001b[38;5;241m.\u001b[39mpandas_default\u001b[38;5;241m.\u001b[39mread_dataframe(df)\n\u001b[1;32m     20\u001b[0m \u001b[38;5;66;03m# Add expectations\u001b[39;00m\n\u001b[1;32m     21\u001b[0m validator\u001b[38;5;241m.\u001b[39mexpect_column_values_to_not_be_null(column\u001b[38;5;241m=\u001b[39m\u001b[38;5;124m'\u001b[39m\u001b[38;5;124mincome\u001b[39m\u001b[38;5;124m'\u001b[39m)\n",
      "\u001b[0;31mAttributeError\u001b[0m: 'EphemeralDataContext' object has no attribute 'sources'"
     ]
    }
   ],
   "source": [
    "import numpy as np\n",
    "import pandas as pd\n",
    "from sklearn.ensemble import IsolationForest\n",
    "import great_expectations as gx\n",
    "\n",
    "# Prepare data\n",
    "data = np.array([[25,50000],[30,60000],[35,75000],[40,np.nan],[45,100000]])\n",
    "df = pd.DataFrame(data, columns=['age','income'])\n",
    "\n",
    "# Anomaly detection\n",
    "df_clean = df.dropna().copy()\n",
    "clf = IsolationForest(contamination=0.1, random_state=42)\n",
    "clf.fit(df_clean)\n",
    "df_clean['anomaly'] = clf.predict(df_clean)\n",
    "\n",
    "# Great Expectations validation\n",
    "context = gx.get_context()\n",
    "validator = context.sources.pandas_default.read_dataframe(df)\n",
    "\n",
    "# Add expectations\n",
    "validator.expect_column_values_to_not_be_null(column='income')\n",
    "validator.expect_column_values_to_be_between(column='age', min_value=18, max_value=120)\n",
    "\n",
    "# Check results\n",
    "if any(df_clean['anomaly'] == -1):\n",
    "    print(\"ALERT: Anomalies detected!\")\n",
    "    print(df_clean[df_clean['anomaly'] == -1])\n",
    "\n",
    "validation_result = validator.validate()\n",
    "print(validation_result)"
   ]
  }
 ],
 "metadata": {
  "kernelspec": {
   "display_name": "Python 3",
   "language": "python",
   "name": "python3"
  },
  "language_info": {
   "codemirror_mode": {
    "name": "ipython",
    "version": 3
   },
   "file_extension": ".py",
   "mimetype": "text/x-python",
   "name": "python",
   "nbconvert_exporter": "python",
   "pygments_lexer": "ipython3",
   "version": "3.10.12"
  }
 },
 "nbformat": 4,
 "nbformat_minor": 2
}
