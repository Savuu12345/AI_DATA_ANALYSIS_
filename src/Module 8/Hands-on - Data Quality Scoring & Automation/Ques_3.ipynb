{
 "cells": [
  {
   "cell_type": "markdown",
   "metadata": {},
   "source": [
    "## Automate Data Quality Checks with Great Expectations\n",
    "**Introduction**: In this activity, you will learn how to automate data quality checks using the Great Expectations framework. This includes setting up expectations and generating validation reports.\n",
    "\n",
    "### Task 1: Setup and Initial Expectations\n",
    "\n",
    "1. Objective: Set up Great Expectations and create initial expectations for a dataset.\n",
    "2. Steps:\n",
    "    - Install Great Expectations using pip.\n",
    "    - Initialize a data context.\n",
    "    - Create basic expectations on a sample dataset.\n",
    "    - Eg., Implement a basic setup and expectation for column presence and type."
   ]
  },
  {
   "cell_type": "code",
   "execution_count": 1,
   "metadata": {},
   "outputs": [
    {
     "ename": "TypeError",
     "evalue": "PandasDatasource.add_dataframe_asset() got an unexpected keyword argument 'dataframe'",
     "output_type": "error",
     "traceback": [
      "\u001b[0;31m---------------------------------------------------------------------------\u001b[0m",
      "\u001b[0;31mTypeError\u001b[0m                                 Traceback (most recent call last)",
      "Cell \u001b[0;32mIn[1], line 7\u001b[0m\n\u001b[1;32m      5\u001b[0m df\u001b[38;5;241m=\u001b[39mpd\u001b[38;5;241m.\u001b[39mDataFrame(data)\n\u001b[1;32m      6\u001b[0m datasource\u001b[38;5;241m=\u001b[39mcontext\u001b[38;5;241m.\u001b[39mdata_sources\u001b[38;5;241m.\u001b[39madd_pandas(\u001b[38;5;124m\"\u001b[39m\u001b[38;5;124mmy_initial_pandas_datasource\u001b[39m\u001b[38;5;124m\"\u001b[39m)\n\u001b[0;32m----> 7\u001b[0m data_asset\u001b[38;5;241m=\u001b[39m\u001b[43mdatasource\u001b[49m\u001b[38;5;241;43m.\u001b[39;49m\u001b[43madd_dataframe_asset\u001b[49m\u001b[43m(\u001b[49m\u001b[38;5;124;43m\"\u001b[39;49m\u001b[38;5;124;43mmy_initial_dataframe_asset\u001b[39;49m\u001b[38;5;124;43m\"\u001b[39;49m\u001b[43m,\u001b[49m\u001b[43mdataframe\u001b[49m\u001b[38;5;241;43m=\u001b[39;49m\u001b[43mdf\u001b[49m\u001b[43m)\u001b[49m\n\u001b[1;32m      8\u001b[0m batch_request\u001b[38;5;241m=\u001b[39mdata_asset\u001b[38;5;241m.\u001b[39mbuild_batch_request()\n\u001b[1;32m      9\u001b[0m validator\u001b[38;5;241m=\u001b[39mcontext\u001b[38;5;241m.\u001b[39mget_validator(batch_request\u001b[38;5;241m=\u001b[39mbatch_request,create_expectation_suite_with_name\u001b[38;5;241m=\u001b[39m\u001b[38;5;124m\"\u001b[39m\u001b[38;5;124minitial_data_expectations\u001b[39m\u001b[38;5;124m\"\u001b[39m)\n",
      "\u001b[0;31mTypeError\u001b[0m: PandasDatasource.add_dataframe_asset() got an unexpected keyword argument 'dataframe'"
     ]
    }
   ],
   "source": [
    "import great_expectations as gx\n",
    "import pandas as pd\n",
    "context=gx.get_context()\n",
    "data={'id':[1,2,3,4,5],'name':['Alice','Bob','Charlie','David','Eve'],'age':[30,24,35,29,42],'city':['New York','Los Angeles','Chicago','Houston','Miami'],'is_active':[True,True,False,True,False]}\n",
    "df=pd.DataFrame(data)\n",
    "datasource=context.data_sources.add_pandas(\"my_initial_pandas_datasource\")\n",
    "data_asset=datasource.add_dataframe_asset(\"my_initial_dataframe_asset\",dataframe=df)\n",
    "batch_request=data_asset.build_batch_request()\n",
    "validator=context.get_validator(batch_request=batch_request,create_expectation_suite_with_name=\"initial_data_expectations\")\n",
    "validator.expect_column_to_exist(\"id\")\n",
    "validator.expect_column_to_exist(\"name\")\n",
    "validator.expect_column_to_exist(\"age\")\n",
    "validator.expect_column_to_exist(\"city\")\n",
    "validator.expect_column_to_exist(\"is_active\")\n",
    "validator.expect_column_values_to_be_of_type(\"id\",\"int64\")\n",
    "validator.expect_column_values_to_be_of_type(\"name\",\"object\")\n",
    "validator.expect_column_values_to_be_of_type(\"age\",\"int64\")\n",
    "validator.expect_column_values_to_be_of_type(\"city\",\"object\")\n",
    "validator.expect_column_values_to_be_of_type(\"is_active\",\"bool\")\n",
    "validator.save_expectation_suite(discard_failed_expectations=False)"
   ]
  },
  {
   "cell_type": "markdown",
   "metadata": {},
   "source": [
    "### Task 2: Validate Datasets and Generate Reports\n",
    "\n",
    "1. Objective: Validate a dataset against defined expectations and generate a report.\n",
    "2. Steps:\n",
    "    - Execute the validation process on the dataset.\n",
    "    - Review the validation results and generate a report.\n",
    "    - Eg., Validate completeness and consistency expectations, and view the results.\n"
   ]
  },
  {
   "cell_type": "code",
   "execution_count": null,
   "metadata": {},
   "outputs": [],
   "source": [
    "# Write your code from here\n",
    "# Write your code from here\n",
    "import pandas as pd\n",
    "\n",
    "df = pd.read_csv('dataset.csv')\n",
    "\n",
    "completeness = df.notnull().mean() * 100\n",
    "\n",
    "consistency = {}\n",
    "if 'Age' in df.columns:\n",
    "    consistency['Age_positive'] = (df['Age'] >= 0).mean() * 100\n",
    "\n",
    "report = pd.DataFrame({\n",
    "    'Metric': list(completeness.index) + list(consistency.keys()),\n",
    "    'Value': list(completeness.values) + list(consistency.values())\n",
    "})\n",
    "\n",
    "print(report)\n"
   ]
  },
  {
   "cell_type": "markdown",
   "metadata": {},
   "source": [
    "### Task 3: Advanced Expectations and Scheduling\n",
    "\n",
    "1. Objective: Create advanced expectations for conditional checks and automate the validation.\n",
    "2. Steps:\n",
    "    - Define advanced expectations based on complex conditions.\n",
    "    - Use scheduling tools to automate periodic checks.\n",
    "    - E.g., an expectation that customer IDs must be unique and schedule a daily check."
   ]
  },
  {
   "cell_type": "code",
   "execution_count": null,
   "metadata": {},
   "outputs": [],
   "source": [
    "# Write your code from here\n",
    "# Write your code from here\n",
    "import pandas as pd\n",
    "import schedule\n",
    "import time\n",
    "\n",
    "def validate_dataset():\n",
    "    df = pd.read_csv('dataset.csv')\n",
    "\n",
    "    expectations = {}\n",
    "\n",
    "    if 'CustomerID' in df.columns:\n",
    "        expectations['CustomerID_uniqueness'] = df['CustomerID'].is_unique\n",
    "\n",
    "    if 'Email' in df.columns:\n",
    "        expectations['Valid_Emails'] = df['Email'].str.contains('@').mean() * 100\n",
    "\n",
    "    report = pd.DataFrame({\n",
    "        'Expectation': expectations.keys(),\n",
    "        'Result': expectations.values()\n",
    "    })\n",
    "\n",
    "    print(report)\n",
    "\n",
    "schedule.every().day.at(\"10:00\").do(validate_dataset)\n",
    "\n",
    "while True:\n",
    "    schedule.run_pending()\n",
    "    time.sleep(60)\n"
   ]
  }
 ],
 "metadata": {
  "kernelspec": {
   "display_name": "Python 3",
   "language": "python",
   "name": "python3"
  },
  "language_info": {
   "codemirror_mode": {
    "name": "ipython",
    "version": 3
   },
   "file_extension": ".py",
   "mimetype": "text/x-python",
   "name": "python",
   "nbconvert_exporter": "python",
   "pygments_lexer": "ipython3",
   "version": "3.10.12"
  }
 },
 "nbformat": 4,
 "nbformat_minor": 2
}
