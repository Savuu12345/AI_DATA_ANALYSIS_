{
 "cells": [
  {
   "cell_type": "code",
   "execution_count": null,
   "metadata": {},
   "outputs": [
    {
     "name": "stdout",
     "output_type": "stream",
     "text": [
      "Accuracy with new feature: 0.9667\n",
      "Accuracy without new feature: 0.9667\n"
     ]
    }
   ],
   "source": [
    "# Title: Feature Engineering for Classification\n",
    "# Description: Create a new feature that could help distinguish between species based on\n",
    "# logical assumptions and verify its utility.\n",
    "\n",
    "import pandas as pd\n",
    "import seaborn as sns\n",
    "from sklearn.ensemble import RandomForestClassifier\n",
    "from sklearn.model_selection import cross_val_score\n",
    "df = sns.load_dataset('iris')\n",
    "# Example of a logical new feature: petal length to width ratio\n",
    "df['petal_ratio'] = df['petal_length'] / df['petal_width']\n",
    "# Prepare features and target\n",
    "X = df.drop('species', axis=1)\n",
    "y = df['species']n\n",
    "model = RandomForestClassifier(random_state=42)\n",
    "score_with_new_feature = cross_val_score(model, X, y, cv=5).mean()\n",
    "\n",
    "# Drop new feature and compare\n",
    "X_baseline = X.drop('petal_ratio', axis=1)\n",
    "score_without_new_feature = cross_val_score(model, X_baseline, y, cv=5).mean()\n",
    "\n",
    "print(f\"Accuracy with new feature: {score_with_new_feature:.4f}\")\n",
    "print(f\"Accuracy without new feature: {score_without_new_feature:.4f}\")\n"
   ]
  }
 ],
 "metadata": {
  "kernelspec": {
   "display_name": "Python 3",
   "language": "python",
   "name": "python3"
  },
  "language_info": {
   "codemirror_mode": {
    "name": "ipython",
    "version": 3
   },
   "file_extension": ".py",
   "mimetype": "text/x-python",
   "name": "python",
   "nbconvert_exporter": "python",
   "pygments_lexer": "ipython3",
   "version": "3.10.12"
  }
 },
 "nbformat": 4,
 "nbformat_minor": 2
}
