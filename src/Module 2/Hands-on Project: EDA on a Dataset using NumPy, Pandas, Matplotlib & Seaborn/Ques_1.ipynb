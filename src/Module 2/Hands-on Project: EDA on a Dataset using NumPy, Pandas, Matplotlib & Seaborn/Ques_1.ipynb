{
 "cells": [
  {
   "cell_type": "code",
   "execution_count": null,
   "metadata": {},
   "outputs": [],
   "source": [
    "\n",
    "\n",
    "# Title: Load & Examine a Basic Dataset\n",
    "# Description: Load an example dataset such as the Iris dataset and perform basic exploration.\n",
    "\n",
    "# Import libraries\n",
    "import seaborn as sns\n",
    "import pandas as pd\n",
    "\n",
    "# Load Iris dataset\n",
    "iris = sns.load_dataset('iris')\n",
    "\n",
    "# Display first few rows\n",
    "print(\"First 5 rows of the dataset:\")\n",
    "print(iris.head())\n",
    "\n",
    "# Basic info about dataset\n",
    "print(\"\\nDataset Info:\")\n",
    "print(iris.info())\n",
    "\n",
    "# Summary statistics\n",
    "print(\"\\nSummary Statistics:\")\n",
    "print(iris.describe())\n",
    "\n",
    "# Check for missing values\n",
    "print(\"\\nMissing Values:\")\n",
    "print(iris.isnull().sum())\n",
    "\n",
    "# Check unique species\n",
    "print(\"\\nUnique Species:\")\n",
    "print(iris['species'].value_counts())\n"
   ]
  }
 ],
 "metadata": {
  "language_info": {
   "name": "python"
  }
 },
 "nbformat": 4,
 "nbformat_minor": 2
}
