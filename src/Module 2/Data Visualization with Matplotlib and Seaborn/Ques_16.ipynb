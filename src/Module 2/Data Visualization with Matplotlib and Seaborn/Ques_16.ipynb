{
 "cells": [
  {
   "cell_type": "code",
   "execution_count": null,
   "metadata": {},
   "outputs": [],
   "source": [
    "# Combining Plots with Matplotlib\n",
    "# Objective: Combine multiple plots into a single figure using Matplotlib's subplots."
   ]
  },
  {
   "cell_type": "code",
   "execution_count": null,
   "metadata": {},
   "outputs": [],
   "source": [
    "import matplotlib.pyplot as plt\n",
    "\n",
    "x = [1, 2, 3, 4, 5]\n",
    "y1 = [1, 4, 9, 16, 25]\n",
    "y2 = [25, 20, 15, 10, 5]\n",
    "y3 = [2, 3, 5, 7, 11]\n",
    "fig, axes = plt.subplots(1, 3, figsize=(15, 4))\n",
    "\n",
    "axes[0].plot(x, y1, color='blue')\n",
    "axes[0].set_title(\"Line Plot\")\n",
    "axes[0].set_xlabel(\"X\")\n",
    "axes[0].set_ylabel(\"Y1\")\n",
    "axes[1].bar(x, y2, color='green')\n",
    "axes[1].set_title(\"Bar Plot\")\n",
    "axes[1].set_xlabel(\"X\")\n",
    "axes[1].set_ylabel(\"Y2\")\n",
    "\n",
    "axes[2].scatter(x, y3, color='red')\n",
    "axes[2].set_title(\"Scatter Plot\")\n",
    "axes[2].set_xlabel(\"X\")\n",
    "axes[2].set_ylabel(\"Y3\")\n",
    "\n",
    "plt.tight_layout()\n",
    "plt.show()\n"
   ]
  }
 ],
 "metadata": {
  "kernelspec": {
   "display_name": "Python 3",
   "language": "python",
   "name": "python3"
  },
  "language_info": {
   "codemirror_mode": {
    "name": "ipython",
    "version": 3
   },
   "file_extension": ".py",
   "mimetype": "text/x-python",
   "name": "python",
   "nbconvert_exporter": "python",
   "pygments_lexer": "ipython3",
   "version": "3.10.12"
  }
 },
 "nbformat": 4,
 "nbformat_minor": 2
}
