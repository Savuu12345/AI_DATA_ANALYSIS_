{
 "cells": [
  {
   "cell_type": "code",
   "execution_count": null,
   "metadata": {},
   "outputs": [],
   "source": [
    "# Creating a Simple Bar Plot with Matplotlib\n",
    "# Description: Create a bar plot using Matplotlib to visualize the number of sales (in thousands) for a set of\n",
    "# products: 'A', 'B', 'C', 'D', and 'E' with values [23, 75, 57, 90, 65].\n",
    "import matplotlib.pyplot as plt\n",
    "\n",
    "# Data\n",
    "products = ['A', 'B', 'C', 'D', 'E']\n",
    "sales = [23, 75, 57, 90, 65]\n",
    "\n",
    "# Create bar plot\n",
    "plt.bar(products, sales, color='skyblue')\n",
    "\n",
    "# Add title and labels\n",
    "plt.title('Product Sales (in Thousands)')\n",
    "plt.xlabel('Products')\n",
    "plt.ylabel('Sales (Thousands)')\n",
    "\n",
    "\n",
    "plt.show()\n",
    "\n"
   ]
  }
 ],
 "metadata": {
  "kernelspec": {
   "display_name": "Python 3",
   "language": "python",
   "name": "python3"
  },
  "language_info": {
   "codemirror_mode": {
    "name": "ipython",
    "version": 3
   },
   "file_extension": ".py",
   "mimetype": "text/x-python",
   "name": "python",
   "nbconvert_exporter": "python",
   "pygments_lexer": "ipython3",
   "version": "3.10.12"
  }
 },
 "nbformat": 4,
 "nbformat_minor": 2
}
