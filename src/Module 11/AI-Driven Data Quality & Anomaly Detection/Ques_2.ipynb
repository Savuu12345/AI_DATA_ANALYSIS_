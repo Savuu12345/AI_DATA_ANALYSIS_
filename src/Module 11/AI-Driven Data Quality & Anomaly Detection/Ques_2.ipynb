{
 "cells": [
  {
   "cell_type": "markdown",
   "metadata": {},
   "source": [
    "# Automated Anomaly Detection\n",
    "**Objective**: Understand and practice automated anomaly detection using various techniques.\n",
    "\n",
    "**Task**: Anomaly Detection with Isolation Forest\n",
    "\n",
    "**Steps**:\n",
    "1. Data Set: Obtain a dataset of server response times.\n",
    "2. Train Model: Use Isolation Forest to train a model on the response time data.\n",
    "3. Detect Anomalies: Predict which response times are anomalies.\n",
    "4. Evaluate Results: Assess the number of anomalies detected."
   ]
  },
  {
   "cell_type": "code",
   "execution_count": null,
   "metadata": {},
   "outputs": [],
   "source": [
    "\n",
    "import pandas as pd\n",
    "import numpy as np\n",
    "import matplotlib.pyplot as plt\n",
    "from sklearn.ensemble import IsolationForest\n",
    "data = {\n",
    "    \"response_time\": [10, 12, 13, 15, 16, 18, 14, 12, 11, 15, 100, 10, 9, 11, 10, 14, 12, 16, 14, 13, 12, 20, 25, 30, 200]\n",
    "}\n",
    "df = pd.DataFrame(data)\n",
    "model = IsolationForest(contamination=0.1)  \n",
    "df['anomaly'] = model.fit_predict(df[['response_time']])\n",
    "df['anomaly'] = df['anomaly'].map({1: 0, -1: 1})  \n",
    "print(f\"Number of anomalies detected: {df['anomaly'].sum()}\")\n",
    "plt.figure(figsize=(10, 6))\n",
    "plt.plot(df.index, df['response_time'], label=\"Response Time\")\n",
    "plt.scatter(df.index[df['anomaly'] == 1], df['response_time'][df['anomaly'] == 1], color='red', label=\"Anomalies\")\n",
    "plt.xlabel(\"Index\")\n",
    "plt.ylabel(\"Response Time\")\n",
    "plt.title(\"Anomaly Detection with Isolation Forest\")\n",
    "plt.legend()\n",
    "plt.show()\n"
   ]
  }
 ],
 "metadata": {
  "kernelspec": {
   "display_name": "Python 3",
   "language": "python",
   "name": "python3"
  },
  "language_info": {
   "codemirror_mode": {
    "name": "ipython",
    "version": 3
   },
   "file_extension": ".py",
   "mimetype": "text/x-python",
   "name": "python",
   "nbconvert_exporter": "python",
   "pygments_lexer": "ipython3",
   "version": "3.10.12"
  }
 },
 "nbformat": 4,
 "nbformat_minor": 2
}
