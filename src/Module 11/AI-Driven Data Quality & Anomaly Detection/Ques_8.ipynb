{
 "cells": [
  {
   "cell_type": "markdown",
   "metadata": {},
   "source": [
    "### Using NLP for Text Data Quality\n",
    "**Objective**: Enhance text data quality using NLP techniques.\n",
    "\n",
    "**Task**: Removing Stopwords\n",
    "\n",
    "**Steps**:\n",
    "1. Data Set: Use a dataset of text product descriptions.\n",
    "2. Stopword Removal: Utilize an NLP library (e.g., NLTK) to remove stopwords from the\n",
    "descriptions.\n",
    "3. Assess Impact: Examine the effectiveness by analyzing word frequency before and after\n",
    "removal."
   ]
  },
  {
   "cell_type": "code",
   "execution_count": null,
   "metadata": {},
   "outputs": [
    {
     "name": "stdout",
     "output_type": "stream",
     "text": [
      "Before: Counter({'is': 2, 'this': 1, 'a': 1, 'great': 1, 'product': 1, 'it': 1, 'works': 1, 'well': 1, 'and': 1, 'affordable': 1, 'the': 1, 'best': 1, 'choice': 1, 'for': 1, 'daily': 1, 'use': 1})\n",
      "After: Counter({'great': 1, 'product': 1, 'works': 1, 'well': 1, 'affordable': 1, 'best': 1, 'choice': 1, 'daily': 1, 'use': 1})\n"
     ]
    },
    {
     "name": "stderr",
     "output_type": "stream",
     "text": [
      "[nltk_data] Downloading package stopwords to /home/vscode/nltk_data...\n",
      "[nltk_data]   Package stopwords is already up-to-date!\n"
     ]
    }
   ],
   "source": [
    "import pandas as pd\n",
    "import nltk\n",
    "from nltk.corpus import stopwords\n",
    "from collections import Counter\n",
    "nltk.download('stopwords')\n",
    "stop_words=set(stopwords.words('english'))\n",
    "data={'description':[\"This is a great product\",\"It works well and is affordable\",\"The best choice for daily use\"]}\n",
    "df=pd.DataFrame(data)\n",
    "df['cleaned_description']=df['description'].apply(lambda x:' '.join([word for word in x.lower().split() if word not in stop_words]))\n",
    "before_words=' '.join(df['description'].str.lower()).split()\n",
    "after_words=' '.join(df['cleaned_description']).split()\n",
    "before_freq=Counter(before_words)\n",
    "after_freq=Counter(after_words)\n",
    "print(\"Before:\",before_freq)\n",
    "print(\"After:\",after_freq)\n"
   ]
  }
 ],
 "metadata": {
  "kernelspec": {
   "display_name": "Python 3",
   "language": "python",
   "name": "python3"
  },
  "language_info": {
   "codemirror_mode": {
    "name": "ipython",
    "version": 3
   },
   "file_extension": ".py",
   "mimetype": "text/x-python",
   "name": "python",
   "nbconvert_exporter": "python",
   "pygments_lexer": "ipython3",
   "version": "3.10.12"
  }
 },
 "nbformat": 4,
 "nbformat_minor": 2
}
