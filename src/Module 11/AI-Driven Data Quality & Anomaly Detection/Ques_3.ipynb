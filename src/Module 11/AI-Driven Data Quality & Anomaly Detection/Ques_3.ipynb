{
 "cells": [
  {
   "cell_type": "markdown",
   "metadata": {},
   "source": [
    "# Automated Anomaly Detection\n",
    "**Objective**: Understand and practice automated anomaly detection using various techniques.\n",
    "\n",
    "**Task**: Autoencoders for Anomaly Detection\n",
    "\n",
    "**Steps**:\n",
    "1. Data Set: Download a dataset of electricity consumption data.\n",
    "2. Build an Autoencoder: Construct a simple autoencoder using a neural network for the\n",
    "normal consumption data.\n",
    "3. Identify Anomalies: Use the trained model to reconstruct the data and identify anomalies based on reconstruction error.\n",
    "4. Visualize: Plot both the actual and reconstructed data to highlight anomalies."
   ]
  },
  {
   "cell_type": "code",
   "execution_count": 2,
   "metadata": {},
   "outputs": [
    {
     "ename": "ModuleNotFoundError",
     "evalue": "No module named 'tensorflow'",
     "output_type": "error",
     "traceback": [
      "\u001b[0;31m---------------------------------------------------------------------------\u001b[0m",
      "\u001b[0;31mModuleNotFoundError\u001b[0m                       Traceback (most recent call last)",
      "Cell \u001b[0;32mIn[2], line 8\u001b[0m\n\u001b[1;32m      6\u001b[0m \u001b[38;5;28;01mfrom\u001b[39;00m \u001b[38;5;21;01msklearn\u001b[39;00m\u001b[38;5;21;01m.\u001b[39;00m\u001b[38;5;21;01mmodel_selection\u001b[39;00m \u001b[38;5;28;01mimport\u001b[39;00m train_test_split\n\u001b[1;32m      7\u001b[0m \u001b[38;5;66;03m# Ensure tensorflow is installed: pip install tensorflow\u001b[39;00m\n\u001b[0;32m----> 8\u001b[0m \u001b[38;5;28;01mfrom\u001b[39;00m \u001b[38;5;21;01mtensorflow\u001b[39;00m\u001b[38;5;21;01m.\u001b[39;00m\u001b[38;5;21;01mkeras\u001b[39;00m\u001b[38;5;21;01m.\u001b[39;00m\u001b[38;5;21;01mmodels\u001b[39;00m \u001b[38;5;28;01mimport\u001b[39;00m Model\n\u001b[1;32m      9\u001b[0m \u001b[38;5;28;01mfrom\u001b[39;00m \u001b[38;5;21;01mtensorflow\u001b[39;00m\u001b[38;5;21;01m.\u001b[39;00m\u001b[38;5;21;01mkeras\u001b[39;00m\u001b[38;5;21;01m.\u001b[39;00m\u001b[38;5;21;01mlayers\u001b[39;00m \u001b[38;5;28;01mimport\u001b[39;00m Input,Dense\n\u001b[1;32m     10\u001b[0m \u001b[38;5;28;01mfrom\u001b[39;00m \u001b[38;5;21;01mtensorflow\u001b[39;00m\u001b[38;5;21;01m.\u001b[39;00m\u001b[38;5;21;01mkeras\u001b[39;00m\u001b[38;5;21;01m.\u001b[39;00m\u001b[38;5;21;01moptimizers\u001b[39;00m \u001b[38;5;28;01mimport\u001b[39;00m Adam\n",
      "\u001b[0;31mModuleNotFoundError\u001b[0m: No module named 'tensorflow'"
     ]
    }
   ],
   "source": [
    "# write your code from here\n",
    "\n",
    "import pandas as pd\n",
    "import numpy as np\n",
    "from sklearn.preprocessing import MinMaxScaler\n",
    "from sklearn.model_selection import train_test_split\n",
    "# Ensure tensorflow is installed: pip install tensorflow\n",
    "from tensorflow.keras.models import Model\n",
    "from tensorflow.keras.layers import Input,Dense\n",
    "from tensorflow.keras.optimizers import Adam\n",
    "import matplotlib.pyplot as plt\n",
    "import requests\n",
    "import io\n",
    "url=\"https://raw.githubusercontent.com/numenta/NAB/master/data/realKnownCause/ambient_temperature_system_failure.csv\"\n",
    "s=requests.get(url).content\n",
    "df=pd.read_csv(io.StringIO(s.decode('utf-8')))\n",
    "df['timestamp']=pd.to_datetime(df['timestamp'])\n",
    "df.set_index('timestamp',inplace=True)\n",
    "data=df['value'].values.reshape(-1,1)\n",
    "scaler=MinMaxScaler()\n",
    "data_scaled=scaler.fit_transform(data)\n",
    "normal_data_threshold=1.5\n",
    "mean_data_scaled=np.mean(data_scaled)\n",
    "std_data_scaled=np.std(data_scaled)\n",
    "normal_data_indices=np.where(np.abs(data_scaled-mean_data_scaled)<normal_data_threshold*std_data_scaled)[0]\n",
    "normal_data=data_scaled[normal_data_indices]\n",
    "X_train,X_test=train_test_split(normal_data,test_size=0.2,random_state=42)\n",
    "input_dim=X_train.shape[1]\n",
    "latent_dim=1\n",
    "input_layer=Input(shape=(input_dim,))\n",
    "encoder=Dense(latent_dim,activation='relu')(input_layer)\n",
    "decoder=Dense(input_dim,activation='sigmoid')(encoder)\n",
    "autoencoder=Model(inputs=input_layer,outputs=decoder)\n",
    "autoencoder.compile(optimizer=Adam(learning_learning_rate=0.001),loss='mse')\n",
    "history=autoencoder.fit(X_train,X_train,epochs=50,batch_size=32,shuffle=True,validation_data=(X_test,X_test),verbose=0)\n",
    "reconstructions=autoencoder.predict(data_scaled)\n",
    "mse=np.mean(np.power(data_scaled-reconstructions,2),axis=1)\n",
    "threshold=np.mean(mse)+3*np.std(mse)\n",
    "anomalies=df[mse>threshold]\n",
    "plt.figure(figsize=(15,7))\n",
    "plt.plot(df.index,data_scaled,label='Actual Data')\n",
    "plt.plot(df.index,reconstructions,label='Reconstructed Data',alpha=0.7)\n",
    "plt.scatter(anomalies.index,scaler.transform(anomalies['value'].values.reshape(-1,1)),color='red',label='Anomaly',s=50,zorder=5)\n",
    "plt.title('Anomaly Detection using Autoencoder on Electricity Consumption Data')\n",
    "plt.xlabel('Timestamp')\n",
    "plt.ylabel('Scaled Value')\n",
    "plt.legend()\n",
    "plt.grid(True)\n",
    "plt.show()"
   ]
  }
 ],
 "metadata": {
  "kernelspec": {
   "display_name": "Python 3",
   "language": "python",
   "name": "python3"
  },
  "language_info": {
   "codemirror_mode": {
    "name": "ipython",
    "version": 3
   },
   "file_extension": ".py",
   "mimetype": "text/x-python",
   "name": "python",
   "nbconvert_exporter": "python",
   "pygments_lexer": "ipython3",
   "version": "3.10.12"
  }
 },
 "nbformat": 4,
 "nbformat_minor": 2
}
