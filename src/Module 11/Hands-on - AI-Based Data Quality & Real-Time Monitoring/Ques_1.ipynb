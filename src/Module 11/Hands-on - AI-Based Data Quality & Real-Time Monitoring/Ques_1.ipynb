{
 "cells": [
  {
   "cell_type": "markdown",
   "metadata": {},
   "source": [
    "### Task 1: Introduction to Isolation Forest\n",
    "**Description**: Install the necessary library and load a sample dataset.\n",
    "\n",
    "**Steps**:\n",
    "1. Install scikit-learn\n",
    "2. Load a sample dataset using Python"
   ]
  },
  {
   "cell_type": "code",
   "execution_count": null,
   "metadata": {},
   "outputs": [],
   "source": [
    "import pandas as pd\n",
    "from sklearn.ensemble import IsolationForest\n",
    "from sklearn.datasets import make_classification\n",
    "X,y=make_classification(n_samples=1000,n_features=2,n_informative=2,n_redundant=0,n_clusters_per_class=1,random_state=42)\n",
    "df=pd.DataFrame(X,columns=['feature_1','feature_2'])\n",
    "print(df.head())"
   ]
  },
  {
   "cell_type": "markdown",
   "metadata": {},
   "source": [
    "### Task 2: Building an Isolation Forest\n",
    "**Description**: Initialize an Isolation Forest model and fit it to the Boston dataset.\n",
    "\n",
    "**Steps**:\n",
    "1. Initialize Isolation Forest\n",
    "2. Fit model"
   ]
  },
  {
   "cell_type": "code",
   "execution_count": null,
   "metadata": {},
   "outputs": [],
   "source": [
    "# write your code from here\n",
    "import pandas as pd\n",
    "from sklearn.ensemble import IsolationForest\n",
    "from sklearn.datasets import make_classification\n",
    "X,y=make_classification(n_samples=1000,n_features=2,n_informative=2,n_redundant=0,n_clusters_per_class=1,random_state=42)\n",
    "df=pd.DataFrame(X,columns=['feature_1','feature_2'])\n",
    "model=IsolationForest(random_state=42)\n",
    "model.fit(X)\n",
    "print(\"Isolation Forest model initialized and fitted successfully.\")"
   ]
  },
  {
   "cell_type": "markdown",
   "metadata": {},
   "source": [
    "### Task 3: Detecting Anomalies\n",
    "**Description**: Use the fitted Isolation Forest model to predict anomalies.\n",
    "\n",
    "**Steps**:\n",
    "1. Predict anomalies\n",
    "2. Display anomaly counts"
   ]
  },
  {
   "cell_type": "code",
   "execution_count": null,
   "metadata": {},
   "outputs": [],
   "source": [
    "# write your code from here\n",
    "import pandas as pd\n",
    "from sklearn.ensemble import IsolationForest\n",
    "from sklearn.datasets import make_classification\n",
    "X,y=make_classification(n_samples=1000,n_features=2,n_informative=2,n_redundant=0,n_clusters_per_class=1,random_state=42)\n",
    "df=pd.DataFrame(X,columns=['feature_1','feature_2'])\n",
    "model=IsolationForest(random_state=42)\n",
    "model.fit(X)\n",
    "predictions=model.predict(X)\n",
    "anomaly_count=list(predictions).count(-1)\n",
    "print(f\"Total anomalies detected: {anomaly_count}\")"
   ]
  },
  {
   "cell_type": "markdown",
   "metadata": {},
   "source": [
    "### Task 4: Visualizing Anomalies\n",
    "**Description**: Visualize the results to see which samples are considered anomalies.\n",
    "\n",
    "**Steps**:\n",
    "1. Plot a scatter plot"
   ]
  },
  {
   "cell_type": "code",
   "execution_count": null,
   "metadata": {},
   "outputs": [],
   "source": [
    "# write your code from here\n",
    "import pandas as pd\n",
    "from sklearn.ensemble import IsolationForest\n",
    "from sklearn.datasets import make_classification\n",
    "import matplotlib.pyplot as plt\n",
    "X,y=make_classification(n_samples=1000,n_features=2,n_informative=2,n_redundant=0,n_clusters_per_class=1,random_state=42)\n",
    "df=pd.DataFrame(X,columns=['feature_1','feature_2'])\n",
    "model=IsolationForest(random_state=42)\n",
    "model.fit(X)\n",
    "predictions=model.predict(X)\n",
    "anomaly_count=list(predictions).count(-1)\n",
    "plt.figure(figsize=(10,6))\n",
    "plt.scatter(df['feature_1'][predictions==1],df['feature_2'][predictions==1],c='blue',label='Normal',alpha=0.6)\n",
    "plt.scatter(df['feature_1'][predictions==-1],df['feature_2'][predictions==-1],c='red',label='Anomaly',alpha=0.8)\n",
    "plt.title('Anomaly Detection with Isolation Forest')\n",
    "plt.xlabel('Feature 1')\n",
    "plt.ylabel('Feature 2')\n",
    "plt.legend()\n",
    "plt.grid(True)\n",
    "plt.show()"
   ]
  },
  {
   "cell_type": "markdown",
   "metadata": {},
   "source": [
    "### Task 5: Interpret Contamination Parameter\n",
    "**Description**: Experiment with different contamination levels."
   ]
  },
  {
   "cell_type": "code",
   "execution_count": null,
   "metadata": {},
   "outputs": [],
   "source": [
    "\n",
    "import pandas as pd\n",
    "\n",
    "from sklearn.ensemble import IsolationForest\n",
    "from sklearn.datasets import make_classification\n",
    "import matplotlib.pyplot as plt\n",
    "X,y=make_classification(n_samples=1000,n_features=2,n_informative=2,n_redundant=0,n_clusters_per_class=1,random_state=42)\n",
    "df=pd.DataFrame(X,columns=['feature_1','feature_2'])\n",
    "contamination_levels=[0.01,0.05,0.1]\n",
    "for contamination in contamination_levels:\n",
    "    model=IsolationForest(random_state=42,contamination=contamination)\n",
    "    model.fit(X)\n",
    "    predictions=model.predict(X)\n",
    "    anomaly_count=list(predictions).count(-1)\n",
    "    print(f\"Contamination: {contamination}, Anomalies Detected: {anomaly_count}\")\n",
    "    plt.figure(figsize=(10,6))\n",
    "    plt.scatter(df['feature_1'][predictions==1],df['feature_2'][predictions==1],c='blue',label='Normal',alpha=0.6)\n",
    "    plt.scatter(df['feature_1'][predictions==-1],df['feature_2'][predictions==-1],c='red',label='Anomaly',alpha=0.8)\n",
    "    plt.title(f'Anomaly Detection with Isolation Forest (Contamination={contamination})')\n",
    "    plt.xlabel('Feature 1')\n",
    "    plt.ylabel('Feature 2')\n",
    "    plt.legend()\n",
    "    plt.grid(True)\n",
    "    plt.show()"
   ]
  }
 ],
 "metadata": {
  "kernelspec": {
   "display_name": "Python 3",
   "language": "python",
   "name": "python3"
  },
  "language_info": {
   "codemirror_mode": {
    "name": "ipython",
    "version": 3
   },
   "file_extension": ".py",
   "mimetype": "text/x-python",
   "name": "python",
   "nbconvert_exporter": "python",
   "pygments_lexer": "ipython3",
   "version": "3.10.12"
  }
 },
 "nbformat": 4,
 "nbformat_minor": 2
}
