{
 "cells": [
  {
   "cell_type": "markdown",
   "metadata": {},
   "source": [
    "## Isolation Forest for Anomaly Detection\n",
    "**Objective**: Understand and apply the Isolation Forest algorithm to identify anomalies in datasets.\n",
    "\n",
    "### Task: Anomaly Detection in Network Traffic\n",
    "**Steps**:\n",
    "1. Extract Features from Dataset:\n",
    "    - Load `network_traffic.csv` .\n",
    "2. Isolation Forest Model\n",
    "3. Display Anomalies"
   ]
  },
  {
   "cell_type": "code",
   "execution_count": null,
   "metadata": {},
   "outputs": [
    {
     "name": "stdout",
     "output_type": "stream",
     "text": [
      "Network Traffic Anomalies:\n",
      "   packet_size  connection_duration  failed_attempts  bytes_sent  \\\n",
      "5         1500                  120                5      100000   \n",
      "8         1600                  150               10      120000   \n",
      "\n",
      "   bytes_received  anomaly_score  \n",
      "5           50000             -1  \n",
      "8           60000             -1  \n",
      "\n",
      "Total Anomalies Detected: 2\n"
     ]
    }
   ],
   "source": [
    "\n",
    "import pandas as pd\n",
    "from sklearn.ensemble import IsolationForest\n",
    "import numpy as np\n",
    "import io\n",
    "data_csv = \"\"\"packet_size,connection_duration,failed_attempts,bytes_sent,bytes_received\n",
    "64,10,0,1024,512\n",
    "128,15,0,2048,1024\n",
    "72,8,0,800,400\n",
    "200,50,0,5000,2500\n",
    "50,5,0,500,200\n",
    "1500,120,5,100000,50000\n",
    "68,12,0,1100,550\n",
    "70,9,0,900,450\n",
    "1600,150,10,120000,60000\n",
    "80,20,0,3000,1500\n",
    "60,7,0,700,350\n",
    "1550,130,7,110000,55000\n",
    "\"\"\"\n",
    "df=pd.read_csv(io.StringIO(data_csv))\n",
    "features=['packet_size','connection_duration','failed_attempts','bytes_sent','bytes_received']\n",
    "X=df[features]\n",
    "model=IsolationForest(n_estimators=100,contamination=0.1,random_state=42)\n",
    "df['anomaly_score']=model.fit_predict(X)\n",
    "anomalies=df[df['anomaly_score']==-1]\n",
    "print(\"Network Traffic Anomalies:\")\n",
    "print(anomalies)\n",
    "print(f\"\\nTotal Anomalies Detected: {len(anomalies)}\")\n"
   ]
  }
 ],
 "metadata": {
  "kernelspec": {
   "display_name": "Python 3",
   "language": "python",
   "name": "python3"
  },
  "language_info": {
   "codemirror_mode": {
    "name": "ipython",
    "version": 3
   },
   "file_extension": ".py",
   "mimetype": "text/x-python",
   "name": "python",
   "nbconvert_exporter": "python",
   "pygments_lexer": "ipython3",
   "version": "3.10.12"
  }
 },
 "nbformat": 4,
 "nbformat_minor": 2
}
